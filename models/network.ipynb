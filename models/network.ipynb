{
 "cells": [
  {
   "cell_type": "code",
   "execution_count": 4,
   "metadata": {},
   "outputs": [
    {
     "name": "stderr",
     "output_type": "stream",
     "text": [
      "2024-03-20 15:10:27.214929: W tensorflow/compiler/xla/stream_executor/platform/default/dso_loader.cc:64] Could not load dynamic library 'libcudart.so.11.0'; dlerror: libcudart.so.11.0: cannot open shared object file: No such file or directory; LD_LIBRARY_PATH: /opt/hadoop/lib/native\n",
      "2024-03-20 15:10:27.810633: W tensorflow/compiler/xla/stream_executor/platform/default/dso_loader.cc:64] Could not load dynamic library 'libnvinfer.so.7'; dlerror: libnvinfer.so.7: cannot open shared object file: No such file or directory; LD_LIBRARY_PATH: /opt/hadoop/lib/native\n",
      "2024-03-20 15:10:27.810704: W tensorflow/compiler/xla/stream_executor/platform/default/dso_loader.cc:64] Could not load dynamic library 'libnvinfer_plugin.so.7'; dlerror: libnvinfer_plugin.so.7: cannot open shared object file: No such file or directory; LD_LIBRARY_PATH: /opt/hadoop/lib/native\n",
      "2024-03-20 15:10:27.810709: W tensorflow/compiler/tf2tensorrt/utils/py_utils.cc:38] TF-TRT Warning: Cannot dlopen some TensorRT libraries. If you would like to use Nvidia GPU with TensorRT, please make sure the missing libraries mentioned above are installed properly.\n"
     ]
    }
   ],
   "source": [
    "import torch\n",
    "from generator import RandomGraphDataset\n",
    "from network import Network"
   ]
  },
  {
   "cell_type": "code",
   "execution_count": 16,
   "metadata": {},
   "outputs": [
    {
     "name": "stdout",
     "output_type": "stream",
     "text": [
      "Using 64 CPU cores\n",
      "Generating 300 graphs\n"
     ]
    },
    {
     "name": "stderr",
     "output_type": "stream",
     "text": [
      "100%|██████████| 300/300 [03:19<00:00,  1.51it/s]\n",
      "Processing...\n",
      " 19%|█▊        | 56/300 [01:20<05:40,  1.40s/it]"
     ]
    }
   ],
   "source": [
    "n = 1000\n",
    "p = 0.3\n",
    "dataset_test_1000 = RandomGraphDataset(root='./data/OOD_1000', gen_num_graph=300, n=n, p=p)"
   ]
  },
  {
   "cell_type": "code",
   "execution_count": null,
   "metadata": {},
   "outputs": [],
   "source": [
    "n = [20, 100]\n",
    "p = 0.3\n",
    "dataset_test_1000 = RandomGraphDataset(root='./data/train_500', gen_num_graph=300, n=n, p=p)"
   ]
  },
  {
   "cell_type": "code",
   "execution_count": 4,
   "metadata": {},
   "outputs": [],
   "source": [
    "def train(model, train_dataset, validation_dataset=None, optimizer=None, epochs=10, batch_size=5):\n",
    "    x_loss_weight = 0.5\n",
    "    h_loss_weight = 1 - x_loss_weight\n",
    "\n",
    "    loss_edges_train, loss_reach_train, loss_parents_train = [], [], []\n",
    "    loss_edges_val, loss_reach_val, loss_parents_val = [], [], []\n",
    "\n",
    "    for epoch in range(epochs):\n",
    "        batch_count = len(train_dataset) // batch_size\n",
    "        \n",
    "        cumulated_loss_edges_epoch, cumulated_loss_reach_epoch, cumulated_loss_parents_epoch = 0, 0, 0\n",
    "\n",
    "        for i in range(batch_count):\n",
    "            model.train()\n",
    "            cumulated_loss_edges, cumulated_loss_reach, cumulated_loss_parents = 0, 0, 0\n",
    "            for j in range(i*batch_size, (i+1)*batch_size):\n",
    "                graph = train_dataset[j] \n",
    "                loss_edges, loss_reach, loss_parents = model(graph)\n",
    "                loss_edges_output, loss_edges_hints = loss_edges[0], loss_edges[1] # loss for the edges\n",
    "\n",
    "                cumulated_loss_edges += x_loss_weight * loss_edges_output + h_loss_weight * loss_edges_hints\n",
    "                cumulated_loss_reach += loss_reach\n",
    "                cumulated_loss_parents += loss_parents\n",
    "\n",
    "            cumulated_loss_edges /= batch_size\n",
    "            cumulated_loss_reach /= batch_size\n",
    "            cumulated_loss_parents /= batch_size\n",
    "            \n",
    "            optimizer.zero_grad()\n",
    "            cumulated_loss_edges.backward()\n",
    "            optimizer.step()\n",
    "\n",
    "            cumulated_loss_edges_epoch += cumulated_loss_edges\n",
    "            cumulated_loss_reach_epoch += cumulated_loss_reach\n",
    "            cumulated_loss_parents_epoch += cumulated_loss_parents\n",
    "\n",
    "        # Convert tensors to lists and append to the respective lists\n",
    "        loss_edges_train.append(cumulated_loss_edges_epoch.item() / batch_count)\n",
    "        loss_reach_train.append(cumulated_loss_reach_epoch.item() / batch_count)\n",
    "        loss_parents_train.append(cumulated_loss_parents_epoch.item() / batch_count)\n",
    "\n",
    "        if validation_dataset:\n",
    "            model.eval()\n",
    "            with torch.no_grad():\n",
    "                cumulated_loss_edges_val, cumulated_loss_reach_val, cumulated_loss_parents_val = 0, 0, 0\n",
    "                for k in range(len(validation_dataset)):\n",
    "                    graph = validation_dataset[k]\n",
    "                    loss_edges, loss_reach, loss_parents = model(graph)\n",
    "                    loss_edges_output, loss_edges_hints = loss_edges[0], loss_edges[1] # loss for the edges\n",
    "\n",
    "                    cumulated_loss_edges_val += x_loss_weight * loss_edges_output + h_loss_weight * loss_edges_hints\n",
    "                    cumulated_loss_reach_val += loss_reach\n",
    "                    cumulated_loss_parents_val += loss_parents \n",
    "\n",
    "                cumulated_loss_edges_val /= len(validation_dataset)\n",
    "                cumulated_loss_reach_val /= len(validation_dataset)\n",
    "                cumulated_loss_parents_val /= len(validation_dataset)\n",
    "\n",
    "                loss_edges_val.append(cumulated_loss_edges_val.item())\n",
    "                loss_reach_val.append(cumulated_loss_reach_val.item())\n",
    "                loss_parents_val.append(cumulated_loss_parents_val.item())\n",
    "\n",
    "                print(f'Epoch {epoch}, loss_edges {cumulated_loss_edges_epoch.item() / batch_count}, loss_reach {cumulated_loss_reach_epoch.item() / batch_count}, loss_parents {cumulated_loss_parents_epoch.item() / batch_count}, loss_edges_val {cumulated_loss_edges_val.item()}, loss_reach_val {cumulated_loss_reach_val.item()}, loss_parents_val {cumulated_loss_parents_val.item()}')\n",
    "        \n",
    "        else:\n",
    "            print(f'Epoch {epoch}, loss_edges {cumulated_loss_edges_epoch.item() / batch_count}, loss_reach {cumulated_loss_reach_epoch.item() / batch_count}, loss_parents {cumulated_loss_parents_epoch.item() / batch_count}')\n",
    "\n",
    "    if validation_dataset:\n",
    "        return loss_edges_train, loss_reach_train, loss_parents_train, loss_edges_val, loss_reach_val, loss_parents_val\n",
    "    return loss_edges_train, loss_reach_train, loss_parents_train"
   ]
  },
  {
   "cell_type": "code",
   "execution_count": 5,
   "metadata": {},
   "outputs": [],
   "source": [
    "from torch.utils.data import random_split\n",
    "n=[20, 100]\n",
    "p=0.3\n",
    "dataset = RandomGraphDataset(root='./data/medium', gen_num_graph=400, n=n, p=p)\n",
    "train_dataset, test_dataset = random_split(dataset, [350, 50])"
   ]
  },
  {
   "cell_type": "code",
   "execution_count": 11,
   "metadata": {},
   "outputs": [],
   "source": [
    "train_dataset, test_dataset = random_split(dataset, [350, 50])"
   ]
  },
  {
   "cell_type": "code",
   "execution_count": 12,
   "metadata": {},
   "outputs": [
    {
     "name": "stdout",
     "output_type": "stream",
     "text": [
      "Epoch 0, loss_edges 0.9657151222229003, loss_reach 9.6875, loss_parents 0.8648370742797852, loss_edges_val 0.8350149393081665, loss_reach_val 92.0, loss_parents_val 0.7820606827735901\n",
      "Epoch 1, loss_edges 0.7250656604766845, loss_reach 99.0625, loss_parents 0.7639825820922852, loss_edges_val 0.5901945233345032, loss_reach_val 100.0, loss_parents_val 0.8380494117736816\n",
      "Epoch 2, loss_edges 0.5594544887542725, loss_reach 100.0, loss_parents 0.8555074691772461, loss_edges_val 0.5696196556091309, loss_reach_val 100.0, loss_parents_val 0.8208716511726379\n",
      "Epoch 3, loss_edges 0.5335549354553223, loss_reach 100.0, loss_parents 0.7794113636016846, loss_edges_val 0.5181726813316345, loss_reach_val 100.0, loss_parents_val 0.7190418243408203\n",
      "Epoch 4, loss_edges 0.5030217170715332, loss_reach 100.0, loss_parents 0.6624913692474366, loss_edges_val 0.49758461117744446, loss_reach_val 100.0, loss_parents_val 0.6221373677253723\n",
      "Epoch 5, loss_edges 0.4785293102264404, loss_reach 100.0, loss_parents 0.5897463321685791, loss_edges_val 0.47542107105255127, loss_reach_val 100.0, loss_parents_val 0.5724503397941589\n",
      "Epoch 6, loss_edges 0.4624368190765381, loss_reach 100.0, loss_parents 0.5342713832855225, loss_edges_val 0.46503233909606934, loss_reach_val 100.0, loss_parents_val 0.522439181804657\n",
      "Epoch 7, loss_edges 0.45374431610107424, loss_reach 100.0, loss_parents 0.49451074600219724, loss_edges_val 0.4558832049369812, loss_reach_val 100.0, loss_parents_val 0.4824141263961792\n",
      "Epoch 8, loss_edges 0.4419525623321533, loss_reach 100.0, loss_parents 0.45695271492004397, loss_edges_val 0.43972519040107727, loss_reach_val 100.0, loss_parents_val 0.4499328136444092\n",
      "Epoch 9, loss_edges 0.42039151191711427, loss_reach 100.0, loss_parents 0.41277852058410647, loss_edges_val 0.41059744358062744, loss_reach_val 100.0, loss_parents_val 0.40373024344444275\n",
      "Epoch 10, loss_edges 0.3812025308609009, loss_reach 99.35814208984375, loss_parents 0.3801292657852173, loss_edges_val 0.3594491183757782, loss_reach_val 81.70909881591797, loss_parents_val 0.3837241232395172\n",
      "Epoch 11, loss_edges 0.31650729179382325, loss_reach 27.661483764648438, loss_parents 0.3687729835510254, loss_edges_val 0.2806885540485382, loss_reach_val 10.207809448242188, loss_parents_val 0.36119356751441956\n",
      "Epoch 12, loss_edges 0.24278154373168945, loss_reach 5.269670104980468, loss_parents 0.33869023323059083, loss_edges_val 0.22036758065223694, loss_reach_val 6.169153213500977, loss_parents_val 0.28970688581466675\n",
      "Epoch 13, loss_edges 0.19839799404144287, loss_reach 2.9584419250488283, loss_parents 0.26977005004882815, loss_edges_val 0.19739320874214172, loss_reach_val 5.445674896240234, loss_parents_val 0.19637815654277802\n",
      "Epoch 14, loss_edges 0.17738200426101686, loss_reach 2.6942087173461915, loss_parents 0.1678289294242859, loss_edges_val 0.18998154997825623, loss_reach_val 5.506425380706787, loss_parents_val 0.11671385169029236\n",
      "Epoch 15, loss_edges 0.16433851718902587, loss_reach 2.5449378967285154, loss_parents 0.08786001801490784, loss_edges_val 0.1722910851240158, loss_reach_val 4.210509777069092, loss_parents_val 0.048235125839710236\n",
      "Epoch 16, loss_edges 0.15793852806091307, loss_reach 2.340767669677734, loss_parents 0.0393326073884964, loss_edges_val 0.1742038130760193, loss_reach_val 5.022949695587158, loss_parents_val 0.021333709359169006\n",
      "Epoch 17, loss_edges 0.15288418531417847, loss_reach 2.292051315307617, loss_parents 0.01929590255022049, loss_edges_val 0.1640036404132843, loss_reach_val 4.264653205871582, loss_parents_val 0.02181563340127468\n",
      "Epoch 18, loss_edges 0.14813038110733032, loss_reach 2.1979373931884765, loss_parents 0.017859263718128203, loss_edges_val 0.18757440149784088, loss_reach_val 4.639404296875, loss_parents_val 0.03393544256687164\n",
      "Epoch 19, loss_edges 0.17582119703292848, loss_reach 2.3150861740112303, loss_parents 0.03844899535179138, loss_edges_val 0.20075078308582306, loss_reach_val 4.5186896324157715, loss_parents_val 0.062372952699661255\n",
      "Epoch 20, loss_edges 0.1779242515563965, loss_reach 2.710616683959961, loss_parents 0.040517717599868774, loss_edges_val 0.19168439507484436, loss_reach_val 5.771347522735596, loss_parents_val 0.06107930839061737\n",
      "Epoch 21, loss_edges 0.16647679805755616, loss_reach 2.503615951538086, loss_parents 0.03419681489467621, loss_edges_val 0.18206213414669037, loss_reach_val 4.987260341644287, loss_parents_val 0.047696277499198914\n",
      "Epoch 22, loss_edges 0.16083120107650756, loss_reach 2.4820322036743163, loss_parents 0.029050767421722412, loss_edges_val 0.18533733487129211, loss_reach_val 6.275443077087402, loss_parents_val 0.03393493592739105\n",
      "Epoch 23, loss_edges 0.15512866973876954, loss_reach 2.5075809478759767, loss_parents 0.030151554942131044, loss_edges_val 0.17217284440994263, loss_reach_val 5.285433769226074, loss_parents_val 0.02990555763244629\n",
      "Epoch 24, loss_edges 0.15229592323303223, loss_reach 2.548244857788086, loss_parents 0.024153150618076324, loss_edges_val 0.16697509586811066, loss_reach_val 5.447772979736328, loss_parents_val 0.01779622584581375\n",
      "Epoch 25, loss_edges 0.14723819494247437, loss_reach 2.4654722213745117, loss_parents 0.024134327471256257, loss_edges_val 0.16053161025047302, loss_reach_val 5.313361644744873, loss_parents_val 0.02328910306096077\n",
      "Epoch 26, loss_edges 0.14223796129226685, loss_reach 2.4917415618896483, loss_parents 0.021739475429058075, loss_edges_val 0.1565885692834854, loss_reach_val 5.482542514801025, loss_parents_val 0.014906900003552437\n",
      "Epoch 27, loss_edges 0.14091304540634156, loss_reach 2.929199981689453, loss_parents 0.01993606686592102, loss_edges_val 0.15556436777114868, loss_reach_val 5.643524646759033, loss_parents_val 0.014695417135953903\n",
      "Epoch 28, loss_edges 0.13931673765182495, loss_reach 2.8330667495727537, loss_parents 0.020325469970703124, loss_edges_val 0.15217699110507965, loss_reach_val 5.960474967956543, loss_parents_val 0.023675035685300827\n",
      "Epoch 29, loss_edges 0.13562633991241455, loss_reach 2.7605659484863283, loss_parents 0.0214750736951828, loss_edges_val 0.1359061300754547, loss_reach_val 3.885474443435669, loss_parents_val 0.016576368361711502\n",
      "Epoch 30, loss_edges 0.13467583656311036, loss_reach 2.879017639160156, loss_parents 0.019167616963386536, loss_edges_val 0.13303078711032867, loss_reach_val 3.84897518157959, loss_parents_val 0.014485270716249943\n",
      "Epoch 31, loss_edges 0.13125004768371581, loss_reach 2.8404640197753905, loss_parents 0.018219287693500518, loss_edges_val 0.13192276656627655, loss_reach_val 3.599224805831909, loss_parents_val 0.014195416122674942\n",
      "Epoch 32, loss_edges 0.12782872915267945, loss_reach 2.764892578125, loss_parents 0.014650222659111024, loss_edges_val 0.13045352697372437, loss_reach_val 3.312084436416626, loss_parents_val 0.014195416122674942\n",
      "Epoch 33, loss_edges 0.12516467571258544, loss_reach 2.684954833984375, loss_parents 0.014362865686416626, loss_edges_val 0.12924695014953613, loss_reach_val 3.2509515285491943, loss_parents_val 0.014195416122674942\n",
      "Epoch 34, loss_edges 0.12324548959732055, loss_reach 2.616119384765625, loss_parents 0.014483101665973663, loss_edges_val 0.1283601075410843, loss_reach_val 3.3563692569732666, loss_parents_val 0.014195416122674942\n",
      "Epoch 35, loss_edges 0.12197521924972535, loss_reach 2.6256740570068358, loss_parents 0.014822617173194885, loss_edges_val 0.12793418765068054, loss_reach_val 3.5396649837493896, loss_parents_val 0.014195416122674942\n",
      "Epoch 36, loss_edges 0.12128636837005616, loss_reach 2.6574464797973634, loss_parents 0.014822617173194885, loss_edges_val 0.12770195305347443, loss_reach_val 3.943922519683838, loss_parents_val 0.014195416122674942\n",
      "Epoch 37, loss_edges 0.12101078033447266, loss_reach 2.697087287902832, loss_parents 0.014822617173194885, loss_edges_val 0.1276400238275528, loss_reach_val 4.006806373596191, loss_parents_val 0.014195416122674942\n",
      "Epoch 38, loss_edges 0.12094132900238037, loss_reach 2.7107259750366213, loss_parents 0.014638793468475342, loss_edges_val 0.12781009078025818, loss_reach_val 4.103262424468994, loss_parents_val 0.014195416122674942\n",
      "Epoch 39, loss_edges 0.12099883556365967, loss_reach 2.7171632766723635, loss_parents 0.014731284976005555, loss_edges_val 0.12788531184196472, loss_reach_val 4.175601482391357, loss_parents_val 0.014195416122674942\n",
      "Epoch 40, loss_edges 0.12098906040191651, loss_reach 2.7043842315673827, loss_parents 0.01483093798160553, loss_edges_val 0.12778520584106445, loss_reach_val 4.175601482391357, loss_parents_val 0.014195416122674942\n",
      "Epoch 41, loss_edges 0.12093260288238525, loss_reach 2.7134220123291017, loss_parents 0.014929459989070892, loss_edges_val 0.12742500007152557, loss_reach_val 4.151792049407959, loss_parents_val 0.014195416122674942\n",
      "Epoch 42, loss_edges 0.12081503868103027, loss_reach 2.731296157836914, loss_parents 0.014979062974452973, loss_edges_val 0.12700077891349792, loss_reach_val 4.151792049407959, loss_parents_val 0.01454024389386177\n",
      "Epoch 43, loss_edges 0.12072676420211792, loss_reach 2.747169303894043, loss_parents 0.014984023571014405, loss_edges_val 0.12646767497062683, loss_reach_val 4.103262424468994, loss_parents_val 0.01454024389386177\n",
      "Epoch 44, loss_edges 0.12060492038726807, loss_reach 2.745591735839844, loss_parents 0.014923930168151855, loss_edges_val 0.12595194578170776, loss_reach_val 4.103262424468994, loss_parents_val 0.01454024389386177\n",
      "Epoch 45, loss_edges 0.12038203477859497, loss_reach 2.747958183288574, loss_parents 0.015100815892219543, loss_edges_val 0.12549902498722076, loss_reach_val 3.970442533493042, loss_parents_val 0.01454024389386177\n",
      "Epoch 46, loss_edges 0.12006076574325561, loss_reach 2.7568435668945312, loss_parents 0.015150418877601624, loss_edges_val 0.12510062754154205, loss_reach_val 3.8977150917053223, loss_parents_val 0.014195416122674942\n",
      "Epoch 47, loss_edges 0.11965378522872924, loss_reach 2.729783630371094, loss_parents 0.015150418877601624, loss_edges_val 0.12476319074630737, loss_reach_val 3.826195478439331, loss_parents_val 0.014195416122674942\n",
      "Epoch 48, loss_edges 0.11926262378692627, loss_reach 2.7182369232177734, loss_parents 0.015230384469032288, loss_edges_val 0.12452235817909241, loss_reach_val 3.608144521713257, loss_parents_val 0.014195416122674942\n",
      "Epoch 49, loss_edges 0.11883138418197632, loss_reach 2.620944595336914, loss_parents 0.015230384469032288, loss_edges_val 0.12438158690929413, loss_reach_val 3.608144521713257, loss_parents_val 0.014195416122674942\n",
      "Epoch 50, loss_edges 0.11847548484802246, loss_reach 2.610268783569336, loss_parents 0.015180781483650208, loss_edges_val 0.1242571473121643, loss_reach_val 3.608144521713257, loss_parents_val 0.014195416122674942\n",
      "Epoch 51, loss_edges 0.11820788383483886, loss_reach 2.6112129211425783, loss_parents 0.015223589539527894, loss_edges_val 0.12414160370826721, loss_reach_val 3.5818288326263428, loss_parents_val 0.014195416122674942\n",
      "Epoch 52, loss_edges 0.11796779632568359, loss_reach 2.5833290100097654, loss_parents 0.015267601609230042, loss_edges_val 0.12405616044998169, loss_reach_val 3.608144521713257, loss_parents_val 0.014195416122674942\n",
      "Epoch 53, loss_edges 0.11777257919311523, loss_reach 2.5793125152587892, loss_parents 0.015406879782676696, loss_edges_val 0.1240340918302536, loss_reach_val 3.6432321071624756, loss_parents_val 0.014195416122674942\n",
      "Epoch 54, loss_edges 0.11767140626907349, loss_reach 2.5771331787109375, loss_parents 0.015370115637779236, loss_edges_val 0.12397207319736481, loss_reach_val 3.6432321071624756, loss_parents_val 0.014195416122674942\n",
      "Epoch 55, loss_edges 0.11760208606719971, loss_reach 2.583466720581055, loss_parents 0.015370115637779236, loss_edges_val 0.12391849607229233, loss_reach_val 3.6061949729919434, loss_parents_val 0.014195416122674942\n",
      "Epoch 56, loss_edges 0.11752942800521851, loss_reach 2.579422187805176, loss_parents 0.015456482768058777, loss_edges_val 0.12386339902877808, loss_reach_val 3.6061949729919434, loss_parents_val 0.014195416122674942\n",
      "Epoch 57, loss_edges 0.1174511194229126, loss_reach 2.5891523361206055, loss_parents 0.015456482768058777, loss_edges_val 0.1237630620598793, loss_reach_val 3.5798795223236084, loss_parents_val 0.014195416122674942\n",
      "Epoch 58, loss_edges 0.11736143827438354, loss_reach 2.5718828201293946, loss_parents 0.015596255660057068, loss_edges_val 0.12365786731243134, loss_reach_val 3.5798795223236084, loss_parents_val 0.014195416122674942\n",
      "Epoch 59, loss_edges 0.11727720499038696, loss_reach 2.5541521072387696, loss_parents 0.015596255660057068, loss_edges_val 0.12353293597698212, loss_reach_val 3.519791841506958, loss_parents_val 0.014195416122674942\n",
      "Epoch 60, loss_edges 0.11713308095932007, loss_reach 2.5313743591308593, loss_parents 0.015646657347679137, loss_edges_val 0.12339399009943008, loss_reach_val 3.48470401763916, loss_parents_val 0.014195416122674942\n",
      "Epoch 61, loss_edges 0.11700338125228882, loss_reach 2.4902412414550783, loss_parents 0.01581169366836548, loss_edges_val 0.12325341254472733, loss_reach_val 3.4496164321899414, loss_parents_val 0.01454024389386177\n",
      "Epoch 62, loss_edges 0.11688433885574341, loss_reach 2.4902412414550783, loss_parents 0.016277590394020082, loss_edges_val 0.12316072732210159, loss_reach_val 3.413252830505371, loss_parents_val 0.01454024389386177\n",
      "Epoch 63, loss_edges 0.11675896644592285, loss_reach 2.4866073608398436, loss_parents 0.016277590394020082, loss_edges_val 0.12310507148504257, loss_reach_val 3.413252830505371, loss_parents_val 0.014775538817048073\n",
      "Epoch 64, loss_edges 0.11661548614501953, loss_reach 2.478311538696289, loss_parents 0.016277590394020082, loss_edges_val 0.12305562943220139, loss_reach_val 3.413252830505371, loss_parents_val 0.014775538817048073\n",
      "Epoch 65, loss_edges 0.11652384996414185, loss_reach 2.474199676513672, loss_parents 0.01632799208164215, loss_edges_val 0.1229584813117981, loss_reach_val 3.413252830505371, loss_parents_val 0.014775538817048073\n",
      "Epoch 66, loss_edges 0.11641199588775634, loss_reach 2.4662757873535157, loss_parents 0.016459354758262636, loss_edges_val 0.12288393825292587, loss_reach_val 3.413252830505371, loss_parents_val 0.014775538817048073\n",
      "Epoch 67, loss_edges 0.11630417108535766, loss_reach 2.458154296875, loss_parents 0.016621434688568117, loss_edges_val 0.1228361502289772, loss_reach_val 3.413252830505371, loss_parents_val 0.014775538817048073\n",
      "Epoch 68, loss_edges 0.11619483232498169, loss_reach 2.435622787475586, loss_parents 0.01652478575706482, loss_edges_val 0.12276827543973923, loss_reach_val 3.379354476928711, loss_parents_val 0.01546519249677658\n",
      "Epoch 69, loss_edges 0.11607489585876465, loss_reach 2.4243747711181642, loss_parents 0.016658198833465577, loss_edges_val 0.12272092700004578, loss_reach_val 3.413252830505371, loss_parents_val 0.01546519249677658\n",
      "Epoch 70, loss_edges 0.11600935459136963, loss_reach 2.4243747711181642, loss_parents 0.016674286127090453, loss_edges_val 0.12265035510063171, loss_reach_val 3.379354476928711, loss_parents_val 0.01626519300043583\n",
      "Epoch 71, loss_edges 0.11588382720947266, loss_reach 2.412619400024414, loss_parents 0.016718357801437378, loss_edges_val 0.12260204553604126, loss_reach_val 3.379354476928711, loss_parents_val 0.01626519300043583\n",
      "Epoch 72, loss_edges 0.11580137014389039, loss_reach 2.412619400024414, loss_parents 0.01696811616420746, loss_edges_val 0.12252767384052277, loss_reach_val 3.379354476928711, loss_parents_val 0.01626519300043583\n",
      "Epoch 73, loss_edges 0.11573652029037476, loss_reach 2.412619400024414, loss_parents 0.01696811616420746, loss_edges_val 0.12248451262712479, loss_reach_val 3.379354476928711, loss_parents_val 0.01626519300043583\n",
      "Epoch 74, loss_edges 0.11565663814544677, loss_reach 2.4092948913574217, loss_parents 0.017255060374736786, loss_edges_val 0.12241470068693161, loss_reach_val 3.379354476928711, loss_parents_val 0.01626519300043583\n",
      "Epoch 75, loss_edges 0.11558724641799926, loss_reach 2.3994472503662108, loss_parents 0.017303888499736787, loss_edges_val 0.12233057618141174, loss_reach_val 3.3485851287841797, loss_parents_val 0.01626519300043583\n",
      "Epoch 76, loss_edges 0.11551122665405274, loss_reach 2.3994472503662108, loss_parents 0.01769629418849945, loss_edges_val 0.12227318435907364, loss_reach_val 3.3485851287841797, loss_parents_val 0.01646721363067627\n",
      "Epoch 77, loss_edges 0.11539900302886963, loss_reach 2.3855743408203125, loss_parents 0.01792777478694916, loss_edges_val 0.12220308184623718, loss_reach_val 3.238147497177124, loss_parents_val 0.016812041401863098\n",
      "Epoch 78, loss_edges 0.11527941226959229, loss_reach 2.377848434448242, loss_parents 0.017942094802856447, loss_edges_val 0.1221126914024353, loss_reach_val 3.238147497177124, loss_parents_val 0.016812041401863098\n",
      "Epoch 79, loss_edges 0.1151382565498352, loss_reach 2.3568572998046875, loss_parents 0.017942094802856447, loss_edges_val 0.12205273658037186, loss_reach_val 3.238147497177124, loss_parents_val 0.016812041401863098\n",
      "Epoch 80, loss_edges 0.11502090692520142, loss_reach 2.353346252441406, loss_parents 0.017997899651527406, loss_edges_val 0.12198705971240997, loss_reach_val 3.238147497177124, loss_parents_val 0.017169184982776642\n",
      "Epoch 81, loss_edges 0.11486952304840088, loss_reach 2.3455413818359374, loss_parents 0.018201616406440736, loss_edges_val 0.1219770684838295, loss_reach_val 3.238147497177124, loss_parents_val 0.017169184982776642\n",
      "Epoch 82, loss_edges 0.11476345062255859, loss_reach 2.3275646209716796, loss_parents 0.018395522236824037, loss_edges_val 0.12192180752754211, loss_reach_val 3.238147497177124, loss_parents_val 0.01751401275396347\n",
      "Epoch 83, loss_edges 0.11467843055725098, loss_reach 2.332524871826172, loss_parents 0.018467971682548524, loss_edges_val 0.12184974551200867, loss_reach_val 3.238147497177124, loss_parents_val 0.017760924994945526\n",
      "Epoch 84, loss_edges 0.11460949182510376, loss_reach 2.3242752075195314, loss_parents 0.018553170561790466, loss_edges_val 0.12178478389978409, loss_reach_val 3.2140512466430664, loss_parents_val 0.017760924994945526\n",
      "Epoch 85, loss_edges 0.11452956199645996, loss_reach 2.332524871826172, loss_parents 0.01879826784133911, loss_edges_val 0.12171567976474762, loss_reach_val 3.2140512466430664, loss_parents_val 0.01812456175684929\n",
      "Epoch 86, loss_edges 0.11444618701934814, loss_reach 2.3234481811523438, loss_parents 0.019036310911178588, loss_edges_val 0.12164249271154404, loss_reach_val 3.2140512466430664, loss_parents_val 0.01812456175684929\n",
      "Epoch 87, loss_edges 0.11437885761260987, loss_reach 2.3184879302978514, loss_parents 0.019129520654678343, loss_edges_val 0.12158292531967163, loss_reach_val 3.2140512466430664, loss_parents_val 0.01812456175684929\n",
      "Epoch 88, loss_edges 0.1142653226852417, loss_reach 2.3217777252197265, loss_parents 0.019129520654678343, loss_edges_val 0.12152619659900665, loss_reach_val 3.2140512466430664, loss_parents_val 0.01975144073367119\n",
      "Epoch 89, loss_edges 0.11407979726791381, loss_reach 2.310689926147461, loss_parents 0.01939026415348053, loss_edges_val 0.12149542570114136, loss_reach_val 3.2140512466430664, loss_parents_val 0.01975144073367119\n",
      "Epoch 90, loss_edges 0.11394380331039429, loss_reach 2.302439880371094, loss_parents 0.019503900408744813, loss_edges_val 0.12145839631557465, loss_reach_val 3.2140512466430664, loss_parents_val 0.02291985973715782\n",
      "Epoch 91, loss_edges 0.11385390758514405, loss_reach 2.2974796295166016, loss_parents 0.019542011618614196, loss_edges_val 0.12140387296676636, loss_reach_val 3.2140512466430664, loss_parents_val 0.02291985973715782\n",
      "Epoch 92, loss_edges 0.11376855373382569, loss_reach 2.2974796295166016, loss_parents 0.020042240619659424, loss_edges_val 0.12136347591876984, loss_reach_val 3.2140512466430664, loss_parents_val 0.02291985973715782\n",
      "Epoch 93, loss_edges 0.11368741989135742, loss_reach 2.2974796295166016, loss_parents 0.020042240619659424, loss_edges_val 0.1212957575917244, loss_reach_val 3.189359664916992, loss_parents_val 0.02291985973715782\n",
      "Epoch 94, loss_edges 0.11361265182495117, loss_reach 2.292439270019531, loss_parents 0.02028227150440216, loss_edges_val 0.12124323844909668, loss_reach_val 3.189359664916992, loss_parents_val 0.02291985973715782\n",
      "Epoch 95, loss_edges 0.11353685855865478, loss_reach 2.2778915405273437, loss_parents 0.02039346992969513, loss_edges_val 0.12116272002458572, loss_reach_val 3.117840051651001, loss_parents_val 0.02291985973715782\n",
      "Epoch 96, loss_edges 0.1134463906288147, loss_reach 2.2778915405273437, loss_parents 0.020569124817848207, loss_edges_val 0.12114347517490387, loss_reach_val 3.154876947402954, loss_parents_val 0.02291985973715782\n",
      "Epoch 97, loss_edges 0.11336148977279663, loss_reach 2.2646427154541016, loss_parents 0.020891202986240386, loss_edges_val 0.12106053531169891, loss_reach_val 3.0940303802490234, loss_parents_val 0.02291985973715782\n",
      "Epoch 98, loss_edges 0.11322054862976075, loss_reach 2.2633041381835937, loss_parents 0.021337950229644777, loss_edges_val 0.12107063084840775, loss_reach_val 3.154876947402954, loss_parents_val 0.023390449583530426\n",
      "Epoch 99, loss_edges 0.11317880153656006, loss_reach 2.2458114624023438, loss_parents 0.021136055886745452, loss_edges_val 0.12092955410480499, loss_reach_val 3.0940303802490234, loss_parents_val 0.023735279217362404\n",
      "Epoch 100, loss_edges 0.11308826208114624, loss_reach 2.22894172668457, loss_parents 0.021374714374542237, loss_edges_val 0.12095130980014801, loss_reach_val 3.0940303802490234, loss_parents_val 0.025216760113835335\n",
      "Epoch 101, loss_edges 0.11306527853012086, loss_reach 2.2246803283691405, loss_parents 0.02172378748655319, loss_edges_val 0.12083287537097931, loss_reach_val 3.0940303802490234, loss_parents_val 0.025216760113835335\n",
      "Epoch 102, loss_edges 0.11299240589141846, loss_reach 2.219472122192383, loss_parents 0.022430048882961275, loss_edges_val 0.12079156935214996, loss_reach_val 3.0940303802490234, loss_parents_val 0.025216760113835335\n",
      "Epoch 103, loss_edges 0.11292777061462403, loss_reach 2.2163154602050783, loss_parents 0.022480452060699464, loss_edges_val 0.1207195296883583, loss_reach_val 3.0940303802490234, loss_parents_val 0.025216760113835335\n",
      "Epoch 104, loss_edges 0.11283091306686402, loss_reach 2.196029281616211, loss_parents 0.02236305922269821, loss_edges_val 0.12067017704248428, loss_reach_val 3.0940303802490234, loss_parents_val 0.025216760113835335\n",
      "Epoch 105, loss_edges 0.11272654533386231, loss_reach 2.182805824279785, loss_parents 0.022685313224792482, loss_edges_val 0.1206163763999939, loss_reach_val 3.0335705280303955, loss_parents_val 0.02497866563498974\n",
      "Epoch 106, loss_edges 0.11261334419250488, loss_reach 2.177845573425293, loss_parents 0.022792533040046692, loss_edges_val 0.12055961787700653, loss_reach_val 2.9984827041625977, loss_parents_val 0.02497866563498974\n",
      "Epoch 107, loss_edges 0.11248352527618408, loss_reach 2.177845573425293, loss_parents 0.022938860952854155, loss_edges_val 0.12050393968820572, loss_reach_val 2.9984827041625977, loss_parents_val 0.02497866563498974\n",
      "Epoch 108, loss_edges 0.11237236261367797, loss_reach 2.1646728515625, loss_parents 0.022983504831790923, loss_edges_val 0.12045808136463165, loss_reach_val 2.9984827041625977, loss_parents_val 0.026390427723526955\n",
      "Epoch 109, loss_edges 0.1122633934020996, loss_reach 2.157276153564453, loss_parents 0.023511026799678803, loss_edges_val 0.12045153975486755, loss_reach_val 2.9984827041625977, loss_parents_val 0.026390427723526955\n",
      "Epoch 110, loss_edges 0.11218410730361938, loss_reach 2.129608917236328, loss_parents 0.02367016077041626, loss_edges_val 0.12038721889257431, loss_reach_val 2.9984827041625977, loss_parents_val 0.026390427723526955\n",
      "Epoch 111, loss_edges 0.11205991506576538, loss_reach 2.1313167572021485, loss_parents 0.023637944459915163, loss_edges_val 0.12032819539308548, loss_reach_val 2.9984827041625977, loss_parents_val 0.026866622269153595\n",
      "Epoch 112, loss_edges 0.11199738979339599, loss_reach 2.1021862030029297, loss_parents 0.02387562096118927, loss_edges_val 0.12032249569892883, loss_reach_val 2.9984827041625977, loss_parents_val 0.026390427723526955\n",
      "Epoch 113, loss_edges 0.11190892457962036, loss_reach 2.0831787109375, loss_parents 0.02406586557626724, loss_edges_val 0.11884663254022598, loss_reach_val 2.9984827041625977, loss_parents_val 0.025142483413219452\n",
      "Epoch 114, loss_edges 0.11182132959365845, loss_reach 2.062869834899902, loss_parents 0.024752503633499144, loss_edges_val 0.12022735923528671, loss_reach_val 2.9984827041625977, loss_parents_val 0.026866622269153595\n",
      "Epoch 115, loss_edges 0.11179639101028442, loss_reach 2.0494489669799805, loss_parents 0.024883705377578735, loss_edges_val 0.11894818395376205, loss_reach_val 2.9984827041625977, loss_parents_val 0.02548730932176113\n",
      "Epoch 116, loss_edges 0.11171848773956299, loss_reach 2.0424184799194336, loss_parents 0.024915921688079833, loss_edges_val 0.11868686974048615, loss_reach_val 2.9984827041625977, loss_parents_val 0.025142483413219452\n",
      "Epoch 117, loss_edges 0.11170271635055543, loss_reach 2.0138080596923826, loss_parents 0.02500351667404175, loss_edges_val 0.1187046468257904, loss_reach_val 2.9135875701904297, loss_parents_val 0.02589547075331211\n",
      "Epoch 118, loss_edges 0.11157486438751221, loss_reach 2.033358573913574, loss_parents 0.025490501523017885, loss_edges_val 0.11873463541269302, loss_reach_val 2.9639999866485596, loss_parents_val 0.02548730932176113\n",
      "Epoch 119, loss_edges 0.11162317991256714, loss_reach 1.995499038696289, loss_parents 0.025826311111450194, loss_edges_val 0.11835343390703201, loss_reach_val 2.8469207286834717, loss_parents_val 0.025648560374975204\n"
     ]
    }
   ],
   "source": [
    "optimizer = torch.optim.Adam\n",
    "model = Network()\n",
    "lr = 0.0002\n",
    "\n",
    "loss_edges_train, loss_reach_train, loss_parents_train, loss_edges_val, loss_reach_val, loss_parents_val = train(model=model, train_dataset=train_dataset, validation_dataset=test_dataset,\n",
    "      optimizer=optimizer(model.parameters(), lr=lr), epochs=120, batch_size=32)"
   ]
  },
  {
   "cell_type": "code",
   "execution_count": null,
   "metadata": {},
   "outputs": [],
   "source": []
  },
  {
   "cell_type": "code",
   "execution_count": 2,
   "metadata": {},
   "outputs": [
    {
     "ename": "NameError",
     "evalue": "name 'model' is not defined",
     "output_type": "error",
     "traceback": [
      "\u001b[0;31m---------------------------------------------------------------------------\u001b[0m",
      "\u001b[0;31mNameError\u001b[0m                                 Traceback (most recent call last)",
      "Cell \u001b[0;32mIn[2], line 2\u001b[0m\n\u001b[1;32m      1\u001b[0m \u001b[38;5;28;01mimport\u001b[39;00m \u001b[38;5;21;01mtorch\u001b[39;00m\n\u001b[0;32m----> 2\u001b[0m torch\u001b[38;5;241m.\u001b[39msave(\u001b[43mmodel\u001b[49m\u001b[38;5;241m.\u001b[39mstate_dict(), \u001b[38;5;124m'\u001b[39m\u001b[38;5;124mmodel_0002_350_120.pth\u001b[39m\u001b[38;5;124m'\u001b[39m)\n",
      "\u001b[0;31mNameError\u001b[0m: name 'model' is not defined"
     ]
    }
   ],
   "source": [
    "import torch\n",
    "torch.save(model.state_dict(), 'model_0002_350_120.pth')"
   ]
  },
  {
   "cell_type": "code",
   "execution_count": 5,
   "metadata": {},
   "outputs": [
    {
     "data": {
      "text/plain": [
       "<All keys matched successfully>"
      ]
     },
     "execution_count": 5,
     "metadata": {},
     "output_type": "execute_result"
    }
   ],
   "source": [
    "model = Network()\n",
    "model.load_state_dict(torch.load('model_0002_350_120.pth'))"
   ]
  },
  {
   "cell_type": "code",
   "execution_count": 6,
   "metadata": {},
   "outputs": [],
   "source": [
    "from generator import RandomGraphDataset"
   ]
  },
  {
   "cell_type": "code",
   "execution_count": null,
   "metadata": {},
   "outputs": [],
   "source": [
    "# split the dataset into training and testing using the train_test_split function\n",
    "from torch.utils.data import random_split\n",
    "n=[200, 500]\n",
    "p=0.3\n",
    "dataset_test = RandomGraphDataset(root='./data/OOD/200', gen_num_graph=34, n=n, p=p)"
   ]
  },
  {
   "cell_type": "code",
   "execution_count": 11,
   "metadata": {},
   "outputs": [],
   "source": [
    "x_loss_weight = h_loss_weight = 0.5\n",
    "model.eval() \n",
    "test_dataset = dataset_test_1000\n",
    "with torch.no_grad():\n",
    "    cumulated_loss_edges_test, cumulated_loss_reach_test, cumulated_loss_parents_test = 0, 0, 0\n",
    "    for graph in test_dataset:\n",
    "        loss_edges, loss_reach, loss_parents = model(graph)\n",
    "        loss_edges_output, loss_edges_hints = loss_edges[0], loss_edges[1]  # loss for the edges\n",
    "\n",
    "        cumulated_loss_edges_test += x_loss_weight * loss_edges_output + h_loss_weight * loss_edges_hints\n",
    "        cumulated_loss_reach_test += loss_reach\n",
    "        cumulated_loss_parents_test += loss_parents\n",
    "\n",
    "    cumulated_loss_edges_test /= len(test_dataset)\n",
    "    cumulated_loss_reach_test /= len(test_dataset)\n",
    "    cumulated_loss_parents_test /= len(test_dataset)"
   ]
  },
  {
   "cell_type": "code",
   "execution_count": 12,
   "metadata": {},
   "outputs": [
    {
     "data": {
      "text/plain": [
       "(tensor(0.3119), tensor(0.), tensor(0.0014))"
      ]
     },
     "execution_count": 12,
     "metadata": {},
     "output_type": "execute_result"
    }
   ],
   "source": [
    "cumulated_loss_edges_test, cumulated_loss_reach_test, cumulated_loss_parents_test"
   ]
  }
 ],
 "metadata": {
  "kernelspec": {
   "display_name": "base",
   "language": "python",
   "name": "python3"
  },
  "language_info": {
   "codemirror_mode": {
    "name": "ipython",
    "version": 3
   },
   "file_extension": ".py",
   "mimetype": "text/x-python",
   "name": "python",
   "nbconvert_exporter": "python",
   "pygments_lexer": "ipython3",
   "version": "3.8.18"
  }
 },
 "nbformat": 4,
 "nbformat_minor": 2
}
