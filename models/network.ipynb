{
 "cells": [
  {
   "cell_type": "code",
   "execution_count": 1,
   "metadata": {},
   "outputs": [
    {
     "name": "stderr",
     "output_type": "stream",
     "text": [
      "2024-03-13 11:19:47.297467: I tensorflow/core/platform/cpu_feature_guard.cc:182] This TensorFlow binary is optimized to use available CPU instructions in performance-critical operations.\n",
      "To enable the following instructions: AVX2 FMA, in other operations, rebuild TensorFlow with the appropriate compiler flags.\n"
     ]
    }
   ],
   "source": [
    "# import generator from '../data/generator.py'\n",
    "import sys\n",
    "import os\n",
    "from generator import *"
   ]
  },
  {
   "cell_type": "markdown",
   "metadata": {},
   "source": [
    "# Graph Generation"
   ]
  },
  {
   "cell_type": "code",
   "execution_count": 2,
   "metadata": {},
   "outputs": [
    {
     "name": "stdout",
     "output_type": "stream",
     "text": [
      "Generating 500 graphs\n"
     ]
    },
    {
     "name": "stderr",
     "output_type": "stream",
     "text": [
      "100%|██████████| 500/500 [00:00<00:00, 871.56it/s]\n",
      "Processing...\n",
      "100%|██████████| 500/500 [00:02<00:00, 212.45it/s]\n",
      "Done!\n"
     ]
    }
   ],
   "source": [
    "n = [10, 20]\n",
    "p = 0.3\n",
    "\n",
    "dataset = RandomGraphDataset(root='./data', gen_num_graph=500, n=n, p=p)"
   ]
  },
  {
   "cell_type": "code",
   "execution_count": 4,
   "metadata": {},
   "outputs": [
    {
     "data": {
      "text/plain": [
       "torch.Size([17])"
      ]
     },
     "execution_count": 4,
     "metadata": {},
     "output_type": "execute_result"
    }
   ],
   "source": [
    "dataset[0].s.size()"
   ]
  },
  {
   "cell_type": "code",
   "execution_count": null,
   "metadata": {},
   "outputs": [],
   "source": [
    "import torch\n",
    "from torch import nn\n",
    "from encoder import Encoder\n",
    "from decoder import Decoder\n",
    "from mpnn import MPNN\n",
    "\n",
    "class Network(nn.Module):\n",
    "    def __init__(self, latent_dim=128):\n",
    "        super(Network, self).__init__()\n",
    "        self.encoder = Encoder(2, latent_dim)\n",
    "        self.processor = MPNN(latent_dim*2, latent_dim)\n",
    "        self.decoder = Decoder(latent_dim, 1)\n",
    "\n",
    "    def forward(self, x, edge_index):\n",
    "        z = self.encoder(x)\n",
    "        h = torch.zeros(x.size(0), 128)\n",
    "        processor_input = torch.cat([z, h], dim=1)\n",
    "        x = self.processor(processor_input, edge_index)\n",
    "        x = self.decoder(x)\n",
    "        return x"
   ]
  },
  {
   "cell_type": "code",
   "execution_count": null,
   "metadata": {},
   "outputs": [],
   "source": [
    "from torch.functional import F\n",
    "from torch import nn\n",
    "import torch\n",
    "\n",
    "class Loss(nn.Module):\n",
    "    def __init__(self):\n",
    "        super(Loss, self).__init__()\n",
    "\n",
    "    def forward(self, batch:torch.tensor, batch_pred: torch.Tensor):\n",
    "        # for every batch find the predicted and true values and send them to the calculate_loss function\n",
    "        loss_x = 0\n",
    "        loss_h = 0\n",
    "        for i in range(batch.size(0)):\n",
    "            data = batch[i]\n",
    "            x = data.reach_h[-1] # true output value\n",
    "            x_pred = batch_pred[i][-1] # predicted output value\n",
    "            h_pred = batch_pred[i][:-2] # predicted hint values\n",
    "            h = data.reach_h[:len(h_pred)] # true hint values\n",
    "            loss_x += F.binary_cross_entropy(x, x_pred)\n",
    "            print(loss_x)\n",
    "            for i in range(h.size(1)):\n",
    "                loss_h += F.binary_cross_entropy(h[:, i], h_pred[:, i])\n",
    "\n",
    "        return loss_x, loss_h"
   ]
  },
  {
   "cell_type": "code",
   "execution_count": 2,
   "metadata": {},
   "outputs": [],
   "source": [
    "import torch\n",
    "from torch import nn\n",
    "from encoder import Encoder\n",
    "from decoder import Decoder\n",
    "from mpnn import MPNN\n",
    "from torch.functional import F\n",
    "\n",
    "class Network(nn.Module):\n",
    "    def __init__(self, latent_dim=128):\n",
    "        super(Network, self).__init__()\n",
    "        self.encoder = Encoder(2, latent_dim)\n",
    "        self.processor = MPNN(latent_dim*2, latent_dim)\n",
    "        self.decoder = Decoder(latent_dim, 1)\n",
    "\n",
    "    def forward(self, batch, max_iter=10):\n",
    "        input = torch.stack((batch.pos, batch.s), dim=1).float()\n",
    "        h = torch.zeros(input.size(0), 128) # hidden state from the processor\n",
    "        hints = batch.reach_h[1:] # hints from the reachability\n",
    "        true_output = batch.reach_h[-1] # true_output expected from the reachability\n",
    "        max_iter = hints.size(0)+1\n",
    "        predictions = torch.zeros(max_iter, input.size(0))\n",
    "\n",
    "        for i in range(max_iter):\n",
    "            z = self.encoder(input) # the encoded input\n",
    "            processor_input = torch.cat([z, h], dim=1) # the input to the processor\n",
    "            h = self.processor(processor_input, batch.edge_index.long()) # the output of the processor\n",
    "            y = self.decoder(z, h).view(batch.s.size())   # decoded state from the processor\n",
    "            predictions[i] = y\n",
    "            input = torch.stack((batch.pos, y), dim=1).float() # we update the input with the new state\n",
    "        \n",
    "        loss = self.calculate_loss(hints, predictions, true_output)\n",
    "        return y, loss\n",
    "    \n",
    "    def calculate_loss(self, hints, predictions, true_output):\n",
    "        loss_x = F.binary_cross_entropy(torch.sigmoid(predictions[-1]), true_output.type(torch.float))\n",
    "        loss_h = 0\n",
    "        for i in range(hints.size(0)):\n",
    "            loss_h += F.binary_cross_entropy(torch.sigmoid(predictions[i]), hints[i].type(torch.float))\n",
    "        return loss_x, loss_h"
   ]
  },
  {
   "cell_type": "code",
   "execution_count": 5,
   "metadata": {},
   "outputs": [],
   "source": [
    "import torch\n",
    "from torch import nn\n",
    "from encoder import Encoder\n",
    "from decoder import Decoder\n",
    "from mpnn import MPNN\n",
    "from torch.functional import F\n",
    "\n",
    "class Network(nn.Module):\n",
    "    def __init__(self, latent_dim=128):\n",
    "        super(Network, self).__init__()\n",
    "        self.encoder = Encoder(2, latent_dim)\n",
    "        self.processor = MPNN(latent_dim*2, latent_dim)\n",
    "        self.decoder = Decoder(latent_dim, 1)\n",
    "\n",
    "    def forward(self, batch, max_iter=10):\n",
    "        input = torch.stack((batch.pos, batch.s), dim=1).float()\n",
    "        h = torch.zeros(input.size(0), 128) # hidden state from the processor\n",
    "        hints = batch.reach_h[1:] # hints from the reachability\n",
    "        true_output = batch.reach_h[-1] # true_output expected from the reachability\n",
    "        max_iter = hints.size(0)+1\n",
    "        predictions = torch.zeros(max_iter, input.size(0))\n",
    "\n",
    "        for i in range(max_iter):\n",
    "            z = self.encoder(input) # the encoded input\n",
    "            processor_input = torch.cat([z, h], dim=1) # the input to the processor\n",
    "            h = self.processor(processor_input, batch.edge_index.long()) # the output of the processor\n",
    "            y = self.decoder(z, h).view(batch.s.size())   # decoded state from the processor\n",
    "            predictions[i] = y\n",
    "            input = torch.stack((batch.pos, y), dim=1).float() # we update the input with the new state\n",
    "        \n",
    "        loss = self.calculate_loss(hints, predictions, true_output)\n",
    "        return y, loss\n",
    "    \n",
    "    def calculate_loss(self, hints, predictions, true_output):\n",
    "        loss_x = F.binary_cross_entropy_with_logits(predictions[-1], true_output.type(torch.float))\n",
    "        loss_h = 0\n",
    "        for i in range(hints.size(0)):\n",
    "            loss_h += F.binary_cross_entropy_with_logits(predictions[i], hints[i].type(torch.float))\n",
    "        return loss_x, loss_h"
   ]
  },
  {
   "cell_type": "code",
   "execution_count": 6,
   "metadata": {},
   "outputs": [],
   "source": [
    "def train(model, train_dataset, validation_dataset=None, optimizer=None, epochs=10, batch_size=5):\n",
    "    x_loss_weight = 0.5\n",
    "    h_loss_weight = 1 - x_loss_weight\n",
    "    # for plotting save the losses\n",
    "    train_losses = []\n",
    "    val_losses = []\n",
    "    for epoch in range(epochs):\n",
    "        batch_count = len(train_dataset) // batch_size\n",
    "        for i in range(batch_count):\n",
    "            model.train()\n",
    "            cumulated_loss = 0\n",
    "            for j in range(i*batch_size, (i+1)*batch_size):\n",
    "                graph = train_dataset[j] \n",
    "                y, loss = model(graph)\n",
    "                loss_x = loss[0] # loss for the output\n",
    "                loss_hints = loss[1] # loss for the hints\n",
    "                cumulated_loss += x_loss_weight * loss_x + h_loss_weight * loss_hints # we combine the two losses\n",
    "            \n",
    "            cumulated_loss /= batch_size\n",
    "            optimizer.zero_grad()\n",
    "            cumulated_loss.backward()\n",
    "            optimizer.step()\n",
    "\n",
    "\n",
    "        if validation_dataset:\n",
    "            model.eval()\n",
    "            cumulated_loss_val = 0\n",
    "            with torch.no_grad():\n",
    "                for k in range(len(validation_dataset)):\n",
    "                    graph = validation_dataset[k]\n",
    "                    y, loss = model(graph)\n",
    "                    loss_x, loss_hints = loss[0], loss[1]\n",
    "                    cumulated_loss_val += x_loss_weight * loss_x + h_loss_weight * loss_hints\n",
    "\n",
    "            cumulated_loss_val /= len(validation_dataset)\n",
    "\n",
    "            print(f'Epoch {epoch}, loss {cumulated_loss.item()}, validation loss {cumulated_loss_val}')\n",
    "            val_losses.append(cumulated_loss_val.item())\n",
    "\n",
    "        else:\n",
    "            print(f'Epoch {epoch}, loss {cumulated_loss.item()}')\n",
    "        train_losses.append(cumulated_loss.item()) \n",
    "        \n",
    "        if len(val_losses) > 5:\n",
    "                    if val_losses[-1] > val_losses[-2] > val_losses[-3] > val_losses[-4] > val_losses[-5]:\n",
    "                        print('Early stopping')\n",
    "                        break\n",
    "    return train_losses, val_losses\n"
   ]
  },
  {
   "cell_type": "code",
   "execution_count": 16,
   "metadata": {},
   "outputs": [
    {
     "name": "stdout",
     "output_type": "stream",
     "text": [
      "Generating 500 graphs\n"
     ]
    },
    {
     "name": "stderr",
     "output_type": "stream",
     "text": [
      "100%|██████████| 500/500 [00:03<00:00, 144.00it/s]\n",
      "Processing...\n",
      "100%|██████████| 500/500 [00:14<00:00, 34.84it/s]\n",
      "Done!\n"
     ]
    }
   ],
   "source": [
    "# split the dataset into training and testing using the train_test_split function\n",
    "from torch.utils.data import random_split\n",
    "n=[20, 100]\n",
    "p=0.3\n",
    "dataset = RandomGraphDataset(root='./data', gen_num_graph=500, n=n, p=p)\n",
    "train_dataset, test_dataset = random_split(dataset, [400, 100])"
   ]
  },
  {
   "cell_type": "code",
   "execution_count": 20,
   "metadata": {},
   "outputs": [
    {
     "name": "stdout",
     "output_type": "stream",
     "text": [
      "Generating 100 graphs\n"
     ]
    },
    {
     "name": "stderr",
     "output_type": "stream",
     "text": [
      "100%|██████████| 100/100 [00:24<00:00,  4.15it/s]\n",
      "Processing...\n",
      " 14%|█▍        | 14/100 [04:00<24:37, 17.18s/it]\n"
     ]
    },
    {
     "name": "stdout",
     "output_type": "stream",
     "text": [
      "Unexpected exception formatting exception. Falling back to standard exception\n"
     ]
    },
    {
     "name": "stderr",
     "output_type": "stream",
     "text": [
      "Traceback (most recent call last):\n",
      "  File \"/usr/local/anaconda3/lib/python3.11/site-packages/IPython/core/interactiveshell.py\", line 3508, in run_code\n",
      "    exec(code_obj, self.user_global_ns, self.user_ns)\n",
      "  File \"/var/folders/5z/9sf4md8x7mz2fb2__552jv940000gn/T/ipykernel_11430/3308943236.py\", line 5, in <module>\n",
      "    test_dataset = RandomGraphDataset(root='./data/test', gen_num_graph=100, n=n, p=p)\n",
      "                   ^^^^^^^^^^^^^^^^^^^^^^^^^^^^^^^^^^^^^^^^^^^^^^^^^^^^^^^^^^^^^^^^^^^\n",
      "  File \"/Users/hattaliahmed/Documents/3. Github/NAR/models/generator.py\", line 92, in __init__\n",
      "    super(RandomGraphDataset, self).__init__(root, transform, pre_transform)\n",
      "  File \"/usr/local/anaconda3/lib/python3.11/site-packages/torch_geometric/data/dataset.py\", line 118, in __init__\n",
      "    self._process()\n",
      "  File \"/usr/local/anaconda3/lib/python3.11/site-packages/torch_geometric/data/dataset.py\", line 263, in _process\n",
      "    self.process()\n",
      "  File \"/Users/hattaliahmed/Documents/3. Github/NAR/models/generator.py\", line 129, in process\n",
      "    pi = self.get_edges(adj, pi)\n",
      "         ^^^^^^^^^^^^^^^^^^^^^^^\n",
      "  File \"/Users/hattaliahmed/Documents/3. Github/NAR/models/generator.py\", line -1, in get_edges\n",
      "KeyboardInterrupt\n",
      "\n",
      "During handling of the above exception, another exception occurred:\n",
      "\n",
      "Traceback (most recent call last):\n",
      "  File \"/usr/local/anaconda3/lib/python3.11/site-packages/IPython/core/interactiveshell.py\", line 2105, in showtraceback\n",
      "    stb = self.InteractiveTB.structured_traceback(\n",
      "          ^^^^^^^^^^^^^^^^^^^^^^^^^^^^^^^^^^^^^^^^\n",
      "  File \"/usr/local/anaconda3/lib/python3.11/site-packages/IPython/core/ultratb.py\", line 1396, in structured_traceback\n",
      "    return FormattedTB.structured_traceback(\n",
      "           ^^^^^^^^^^^^^^^^^^^^^^^^^^^^^^^^^\n",
      "  File \"/usr/local/anaconda3/lib/python3.11/site-packages/IPython/core/ultratb.py\", line 1287, in structured_traceback\n",
      "    return VerboseTB.structured_traceback(\n",
      "           ^^^^^^^^^^^^^^^^^^^^^^^^^^^^^^^\n",
      "  File \"/usr/local/anaconda3/lib/python3.11/site-packages/IPython/core/ultratb.py\", line 1140, in structured_traceback\n",
      "    formatted_exception = self.format_exception_as_a_whole(etype, evalue, etb, number_of_lines_of_context,\n",
      "                          ^^^^^^^^^^^^^^^^^^^^^^^^^^^^^^^^^^^^^^^^^^^^^^^^^^^^^^^^^^^^^^^^^^^^^^^^^^^^^^^^\n",
      "  File \"/usr/local/anaconda3/lib/python3.11/site-packages/IPython/core/ultratb.py\", line 1055, in format_exception_as_a_whole\n",
      "    frames.append(self.format_record(record))\n",
      "                  ^^^^^^^^^^^^^^^^^^^^^^^^^^\n",
      "  File \"/usr/local/anaconda3/lib/python3.11/site-packages/IPython/core/ultratb.py\", line 955, in format_record\n",
      "    frame_info.lines, Colors, self.has_colors, lvals\n",
      "    ^^^^^^^^^^^^^^^^\n",
      "  File \"/usr/local/anaconda3/lib/python3.11/site-packages/IPython/core/ultratb.py\", line 778, in lines\n",
      "    return self._sd.lines\n",
      "           ^^^^^^^^^^^^^^\n",
      "  File \"/usr/local/anaconda3/lib/python3.11/site-packages/stack_data/utils.py\", line 145, in cached_property_wrapper\n",
      "    value = obj.__dict__[self.func.__name__] = self.func(obj)\n",
      "                                               ^^^^^^^^^^^^^^\n",
      "  File \"/usr/local/anaconda3/lib/python3.11/site-packages/stack_data/core.py\", line 698, in lines\n",
      "    pieces = self.included_pieces\n",
      "             ^^^^^^^^^^^^^^^^^^^^\n",
      "  File \"/usr/local/anaconda3/lib/python3.11/site-packages/stack_data/utils.py\", line 145, in cached_property_wrapper\n",
      "    value = obj.__dict__[self.func.__name__] = self.func(obj)\n",
      "                                               ^^^^^^^^^^^^^^\n",
      "  File \"/usr/local/anaconda3/lib/python3.11/site-packages/stack_data/core.py\", line 649, in included_pieces\n",
      "    pos = scope_pieces.index(self.executing_piece)\n",
      "                             ^^^^^^^^^^^^^^^^^^^^\n",
      "  File \"/usr/local/anaconda3/lib/python3.11/site-packages/stack_data/utils.py\", line 145, in cached_property_wrapper\n",
      "    value = obj.__dict__[self.func.__name__] = self.func(obj)\n",
      "                                               ^^^^^^^^^^^^^^\n",
      "  File \"/usr/local/anaconda3/lib/python3.11/site-packages/stack_data/core.py\", line 628, in executing_piece\n",
      "    return only(\n",
      "           ^^^^^\n",
      "  File \"/usr/local/anaconda3/lib/python3.11/site-packages/executing/executing.py\", line 164, in only\n",
      "    raise NotOneValueFound('Expected one value, found 0')\n",
      "executing.executing.NotOneValueFound: Expected one value, found 0\n"
     ]
    }
   ],
   "source": [
    "# create a test set\n",
    "n=[100, 1000]\n",
    "p=0.3\n",
    "\n",
    "test_dataset = RandomGraphDataset(root='./data/test', gen_num_graph=100, n=n, p=p)"
   ]
  },
  {
   "cell_type": "code",
   "execution_count": null,
   "metadata": {},
   "outputs": [],
   "source": []
  },
  {
   "cell_type": "code",
   "execution_count": 17,
   "metadata": {},
   "outputs": [
    {
     "name": "stdout",
     "output_type": "stream",
     "text": [
      "Epoch 0, loss 0.474441260099411, validation loss 0.483560174703598\n",
      "Epoch 1, loss 0.2088150680065155, validation loss 0.18745948374271393\n",
      "Epoch 2, loss 0.008495943620800972, validation loss 0.006550794932991266\n",
      "Epoch 3, loss 0.00042512972140684724, validation loss 0.00037600912037305534\n",
      "Epoch 4, loss 9.510121890343726e-05, validation loss 9.221333311870694e-05\n",
      "Epoch 5, loss 4.748110950458795e-05, validation loss 4.7312365495599806e-05\n",
      "Epoch 6, loss 3.1041312468005344e-05, validation loss 3.187461697962135e-05\n",
      "Epoch 7, loss 2.4472823497490026e-05, validation loss 2.5687741072033532e-05\n",
      "Epoch 8, loss 2.107813816110138e-05, validation loss 2.2359427021001466e-05\n",
      "Epoch 9, loss 1.8665112293092534e-05, validation loss 1.9870582036674023e-05\n",
      "Epoch 10, loss 1.6638863598927855e-05, validation loss 1.77220645127818e-05\n",
      "Epoch 11, loss 1.4860472219879739e-05, validation loss 1.5818113752175122e-05\n",
      "Epoch 12, loss 1.3286005014379043e-05, validation loss 1.4136039681034163e-05\n",
      "Epoch 13, loss 1.1898310731339734e-05, validation loss 1.2655712453124579e-05\n",
      "Epoch 14, loss 1.0680992090783548e-05, validation loss 1.1359148629708216e-05\n"
     ]
    }
   ],
   "source": [
    "optimizer = torch.optim.Adam\n",
    "model = Network()\n",
    "lr = 0.001\n",
    "\n",
    "train_loss, val_losses = train(model=model, train_dataset=train_dataset, validation_dataset=test_dataset,\n",
    "      optimizer=optimizer(model.parameters(), lr=lr), epochs=15, batch_size=32)"
   ]
  },
  {
   "cell_type": "code",
   "execution_count": 19,
   "metadata": {},
   "outputs": [
    {
     "data": {
      "image/png": "[encoded data removed]",
      "text/plain": [
       "<Figure size 640x480 with 1 Axes>"
      ]
     },
     "metadata": {},
     "output_type": "display_data"
    }
   ],
   "source": [
    "# plot the losses\n",
    "import matplotlib.pyplot as plt\n",
    "plt.plot(train_loss, label='train')\n",
    "plt.plot(val_losses, label='validation')\n",
    "plt.legend()\n",
    "# use log scale\n",
    "plt.yscale('log')\n",
    "plt.show()"
   ]
  },
  {
   "cell_type": "code",
   "execution_count": null,
   "metadata": {},
   "outputs": [],
   "source": []
  },
  {
   "cell_type": "code",
   "execution_count": null,
   "metadata": {},
   "outputs": [
    {
     "name": "stdout",
     "output_type": "stream",
     "text": [
      "tensor([1., 0., 1., 1., 1., 0.], dtype=torch.float64)\n",
      "tensor([1.0000, 0.0507, 1.0000, 1.0000, 1.0000, 0.0255],\n",
      "       grad_fn=<SigmoidBackward0>)\n"
     ]
    }
   ],
   "source": [
    "i =31\n",
    "graph = test_dataset[i]\n",
    "print(graph.reach_h[-1])\n",
    "print(torch.sigmoid(model(graph)[0]))"
   ]
  },
  {
   "cell_type": "code",
   "execution_count": null,
   "metadata": {},
   "outputs": [
    {
     "data": {
      "text/plain": [
       "tensor([3500525.5000, 3524301.5000, 3249399.0000, 3501471.5000, 3512054.0000,\n",
       "        3518177.7500], grad_fn=<ViewBackward0>)"
      ]
     },
     "execution_count": 238,
     "metadata": {},
     "output_type": "execute_result"
    }
   ],
   "source": [
    "model(graph)[0]"
   ]
  },
  {
   "cell_type": "markdown",
   "metadata": {},
   "source": []
  },
  {
   "cell_type": "code",
   "execution_count": 28,
   "metadata": {},
   "outputs": [
    {
     "data": {
      "text/plain": [
       "torch.Size([3, 2398])"
      ]
     },
     "execution_count": 28,
     "metadata": {},
     "output_type": "execute_result"
    }
   ],
   "source": [
    "dataset[0].pi_h.size()"
   ]
  },
  {
   "cell_type": "code",
   "execution_count": null,
   "metadata": {},
   "outputs": [
    {
     "data": {
      "text/plain": [
       "tensor([[-0.0748],\n",
       "        [-0.0829],\n",
       "        [-0.0641],\n",
       "        [-0.0551],\n",
       "        [-0.0525],\n",
       "        [-0.0458]], grad_fn=<AddmmBackward0>)"
      ]
     },
     "execution_count": 9,
     "metadata": {},
     "output_type": "execute_result"
    }
   ],
   "source": [
    "Network().forward(input, dataset[0].edge_index)"
   ]
  },
  {
   "cell_type": "code",
   "execution_count": null,
   "metadata": {},
   "outputs": [],
   "source": [
    "class Encoder(nn.Module):\n",
    "    def __init__(self, input_dim, hidden_dim=128):\n",
    "        super(Encoder, self).__init__()\n",
    "        self.input_dim = input_dim\n",
    "        self.hidden_dim = hidden_dim\n",
    "        self.lin = nn.Linear(input_dim, hidden_dim)\n",
    "\n",
    "    def forward(self, x):\n",
    "        if x.dim() == 1:\n",
    "            x = x.unsqueeze(-1)\n",
    "        return self.lin(x)"
   ]
  },
  {
   "cell_type": "code",
   "execution_count": null,
   "metadata": {},
   "outputs": [],
   "source": [
    "encoder = Encoder(2)\n",
    "z = encoder(input)"
   ]
  },
  {
   "cell_type": "code",
   "execution_count": null,
   "metadata": {},
   "outputs": [],
   "source": [
    "h = torch.zeros(input.size(0), 128)"
   ]
  },
  {
   "cell_type": "code",
   "execution_count": null,
   "metadata": {},
   "outputs": [
    {
     "data": {
      "text/plain": [
       "torch.Size([6, 256])"
      ]
     },
     "execution_count": 125,
     "metadata": {},
     "output_type": "execute_result"
    }
   ],
   "source": [
    "z_ = torch.cat([z, h], dim=1)\n",
    "z_.size()"
   ]
  },
  {
   "cell_type": "code",
   "execution_count": null,
   "metadata": {},
   "outputs": [],
   "source": [
    "import torch\n",
    "from torch_geometric.nn import MessagePassing\n",
    "from torch.nn import Linear\n",
    "\n",
    "class MPNN(MessagePassing):\n",
    "  def __init__(self, in_channels, hidden_channels, activation=None):\n",
    "    super(MPNN, self).__init__(aggr='max') #  \"Max\" aggregation.\n",
    "    self.in_channels = in_channels\n",
    "    self.hidden_channels = hidden_channels\n",
    "    self.messages = Linear(self.in_channels * 2, self.hidden_channels)\n",
    "    self.update_fn = Linear(self.in_channels + self.hidden_channels, self.hidden_channels)\n",
    "    self.activation = activation\n",
    "\n",
    "    self.mlp = torch.nn.Sequential(\n",
    "        Linear(hidden_channels, hidden_channels),\n",
    "        torch.nn.ReLU(),\n",
    "        Linear(hidden_channels, self.hidden_channels)\n",
    "    )\n",
    "    \n",
    "  def forward(self, x, edge_index):\n",
    "    out = self.propagate(edge_index, x=x)\n",
    "    out = self.mlp(out)\n",
    "    if self.activation is not None:\n",
    "      out = self.activation(out)\n",
    "    return out\n",
    "    \n",
    "  def message(self, x_i, x_j):\n",
    "    # x_i has shape [E, in_channels]\n",
    "    # x_j has shape [E, in_channels]\n",
    "    #print('MPNN => xi, xj', x_i.size(), x_j.size())\n",
    "    tmp = torch.cat([x_i, x_j], dim=1)  # tmp has shape [E, 2 * in_channels]\n",
    "    #print('MPNN => messages IN', tmp.size())\n",
    "    m = self.messages(tmp)\n",
    "    #print('MPNN => messages OUT', m.size())\n",
    "    return m\n",
    "  \n",
    "  def update(self, aggr_out, x):\n",
    "    # aggr_out has shape [N, out_channels]\n",
    "    # x has shape [N, in_channels]\n",
    "    #print(f'MPNN => x_i', x.size(), ' aggr_out ', aggr_out.size())\n",
    "    tmp = torch.cat([x, aggr_out], dim=1)\n",
    "    #print(f'MPNN => tmp', tmp.size())\n",
    "    return self.update_fn(tmp)"
   ]
  },
  {
   "cell_type": "code",
   "execution_count": null,
   "metadata": {},
   "outputs": [],
   "source": [
    "processor = MPNN(256, 128)"
   ]
  },
  {
   "cell_type": "code",
   "execution_count": null,
   "metadata": {},
   "outputs": [],
   "source": [
    "hi = processor(z_, dataset[0].edge_index)"
   ]
  },
  {
   "cell_type": "code",
   "execution_count": null,
   "metadata": {},
   "outputs": [
    {
     "data": {
      "text/plain": [
       "torch.Size([6, 128])"
      ]
     },
     "execution_count": 162,
     "metadata": {},
     "output_type": "execute_result"
    }
   ],
   "source": [
    "hi.size()"
   ]
  },
  {
   "cell_type": "code",
   "execution_count": null,
   "metadata": {},
   "outputs": [],
   "source": []
  }
 ],
 "metadata": {
  "kernelspec": {
   "display_name": "base",
   "language": "python",
   "name": "python3"
  },
  "language_info": {
   "codemirror_mode": {
    "name": "ipython",
    "version": 3
   },
   "file_extension": ".py",
   "mimetype": "text/x-python",
   "name": "python",
   "nbconvert_exporter": "python",
   "pygments_lexer": "ipython3",
   "version": "3.11.4"
  }
 },
 "nbformat": 4,
 "nbformat_minor": 2
}
