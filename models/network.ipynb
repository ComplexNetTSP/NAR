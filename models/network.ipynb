{
 "cells": [
  {
   "cell_type": "code",
   "execution_count": 3,
   "metadata": {},
   "outputs": [],
   "source": [
    "# import generator from '../data/generator.py'\n",
    "import sys\n",
    "import os\n",
    "from generator import RandomGraphDataset"
   ]
  },
  {
   "cell_type": "code",
   "execution_count": 9,
   "metadata": {},
   "outputs": [],
   "source": [
    "import torch\n",
    "from torch import nn\n",
    "from encoder import Encoder\n",
    "from decoder import Decoder\n",
    "from mpnn import MPNN\n",
    "from torch.functional import F\n",
    "\n",
    "class Network(nn.Module):\n",
    "    def __init__(self, latent_dim=128):\n",
    "        super(Network, self).__init__()\n",
    "        self.encoder = Encoder(2, latent_dim)\n",
    "        self.processor = MPNN(latent_dim*2, latent_dim)\n",
    "        self.decoder = Decoder(latent_dim, 1)\n",
    "\n",
    "    def forward(self, batch, max_iter=10):\n",
    "        input = torch.stack((batch.pos, batch.s), dim=1).float()\n",
    "        h = torch.zeros(input.size(0), 128) # hidden state from the processor\n",
    "        hints_edges = batch.edges_h[1:] # hints if an edge was passed or not\n",
    "        true_output = batch.edges # true_output for all the edges if they were passed or not at the end.\n",
    "        max_iter = hints_edges.size(0)\n",
    "\n",
    "        hints_reach = batch.reach_h[1:] # hints from the reachability\n",
    "        \n",
    "        predictions_edges = torch.zeros(max_iter, batch.edges.size(0))\n",
    "\n",
    "        for i in range(max_iter):\n",
    "            threshold = 0.5\n",
    "\n",
    "            # NETWORK START\n",
    "            z = self.encoder(input) # the encoded input\n",
    "            processor_input = torch.cat([z, h], dim=1) # the input to the processor\n",
    "            h = self.processor(processor_input, batch.edge_index.long()) # the output of the processor\n",
    "            decoder_input = torch.cat((h[batch.edge_index[0]], h[batch.edge_index[1]]), dim=1)\n",
    "            alpha = self.decoder(decoder_input).view(batch.edges.size(0))\n",
    "            # NETWORK END\n",
    "\n",
    "            # predictions for the edges\n",
    "            predictions_edges[i] = alpha.view(batch.edges.size(0))\n",
    "            # update the input with the new state\n",
    "            predictions_reach = self.calculate_reach(batch, alpha, threshold=0.4)\n",
    "            \n",
    "            input = torch.stack((batch.pos, predictions_reach), dim=1).float()\n",
    "\n",
    "        # predictions for reach \n",
    "\n",
    "        # predictions for the parents\n",
    "        predictions_parents = self.get_parent_nodes(batch.edge_index, alpha, batch.s, threshold=0.)\n",
    "        \n",
    "        loss_edges = self.calculate_loss(hints_edges, predictions_edges, true_output)\n",
    "        loss_reach = self.calculate_reach_loss(predictions_reach, batch.reach_h[-1])\n",
    "        loss_parents = self.calculate_parents_loss(predictions_parents, batch.pi)\n",
    "        \n",
    "        return loss_edges, loss_reach, loss_parents\n",
    "        \n",
    "    def calculate_loss(self, hints, predictions, true_output):\n",
    "        if len(predictions) == 0:\n",
    "            return torch.tensor(0.0), torch.tensor(0.0)  # Return zero loss if predictions is empty\n",
    "        loss_x = F.binary_cross_entropy(predictions[-1], true_output.type(torch.float))\n",
    "        loss_h = 0\n",
    "        for i in range(hints.size(0)):\n",
    "            loss_h += F.binary_cross_entropy(predictions[i], hints[i].type(torch.float))\n",
    "        return loss_x, loss_h\n",
    "    \n",
    "    def calculate_reach_loss(self, predictions, true_output):\n",
    "        return F.binary_cross_entropy(predictions, true_output.type(torch.float))\n",
    "    \n",
    "\n",
    "    def calculate_reach(self, graph, alpha, threshold=0.8):\n",
    "        \"\"\"\n",
    "        Calculate reachability values for each node from the alpha values\n",
    "\n",
    "        Args:\n",
    "        - graph: Graph object containing graph data\n",
    "        - alpha: PyTorch tensor containing alpha values\n",
    "        - threshold: Threshold value for reachability\n",
    "\n",
    "        Returns:\n",
    "        - y: PyTorch tensor containing reachability values for each node\n",
    "        \"\"\"\n",
    "        y = torch.zeros((len(graph.s)))\n",
    "        for node_index in range(len(graph.s)):\n",
    "            # Check if there are any edges connected to the current node\n",
    "            connected_edges = torch.logical_or(graph.edge_index[0] == node_index, graph.edge_index[1] == node_index)\n",
    "            if torch.any(connected_edges):\n",
    "                alpha_max_proba = alpha[connected_edges].max()\n",
    "                if alpha_max_proba.item() >= threshold:\n",
    "                    y[node_index] = 1\n",
    "        return y\n",
    "\n",
    "\n",
    "    def get_parent_nodes(self, edge_index, alpha, s, threshold=0.8):\n",
    "        num_nodes = len(s)\n",
    "        parent_nodes = torch.arange(num_nodes)  # Initialize parent nodes with their own index\n",
    "\n",
    "        for node in range(num_nodes):\n",
    "            # Get all edges that point to the current node\n",
    "            incoming_edges = (edge_index[1] == node).nonzero(as_tuple=False).squeeze()\n",
    "            \n",
    "            # Check if there are any edges pointing to the current node\n",
    "            if incoming_edges.numel() != 0:\n",
    "                # Filter alpha based on threshold\n",
    "                filtered_edges = incoming_edges[alpha[incoming_edges] >= threshold]\n",
    "                \n",
    "                # Check if there are any edges left after filtering\n",
    "                if filtered_edges.numel() != 0:\n",
    "                    # Get the index of the edge with the highest alpha after filtering\n",
    "                    max_alpha_index = torch.argmax(alpha[filtered_edges])\n",
    "                    # Get the parent node\n",
    "                    parent_nodes[node] = edge_index[0, filtered_edges[max_alpha_index]].item()\n",
    "\n",
    "        return parent_nodes\n",
    "\n",
    "    def calculate_parents_loss(self, predictions_parents, final_parents):\n",
    "        if len(predictions_parents) == 0 or len(final_parents) == 0:\n",
    "            return torch.tensor(1.0) \n",
    "        return 1 - torch.mean(torch.eq(predictions_parents, final_parents).float())"
   ]
  },
  {
   "cell_type": "code",
   "execution_count": 10,
   "metadata": {},
   "outputs": [],
   "source": [
    "def train(model, train_dataset, validation_dataset=None, optimizer=None, epochs=10, batch_size=5):\n",
    "    x_loss_weight = 0.5\n",
    "    h_loss_weight = 1 - x_loss_weight\n",
    "\n",
    "    loss_edges_train, loss_reach_train, loss_parents_train = [], [], []\n",
    "    loss_edges_val, loss_reach_val, loss_parents_val = [], [], []\n",
    "\n",
    "    for epoch in range(epochs):\n",
    "        batch_count = len(train_dataset) // batch_size\n",
    "        \n",
    "        cumulated_loss_edges_epoch, cumulated_loss_reach_epoch, cumulated_loss_parents_epoch = 0, 0, 0\n",
    "\n",
    "        for i in range(batch_count):\n",
    "            model.train()\n",
    "            cumulated_loss_edges, cumulated_loss_reach, cumulated_loss_parents = 0, 0, 0\n",
    "            for j in range(i*batch_size, (i+1)*batch_size):\n",
    "                graph = train_dataset[j] \n",
    "                loss_edges, loss_reach, loss_parents = model(graph)\n",
    "                loss_edges_output, loss_edges_hints = loss_edges[0], loss_edges[1] # loss for the edges\n",
    "\n",
    "                cumulated_loss_edges += x_loss_weight * loss_edges_output + h_loss_weight * loss_edges_hints\n",
    "                cumulated_loss_reach += loss_reach\n",
    "                cumulated_loss_parents += loss_parents\n",
    "\n",
    "            cumulated_loss_edges /= batch_size\n",
    "            cumulated_loss_reach /= batch_size\n",
    "            cumulated_loss_parents /= batch_size\n",
    "            \n",
    "            optimizer.zero_grad()\n",
    "            cumulated_loss_edges.backward()\n",
    "            optimizer.step()\n",
    "\n",
    "            cumulated_loss_edges_epoch += cumulated_loss_edges\n",
    "            cumulated_loss_reach_epoch += cumulated_loss_reach\n",
    "            cumulated_loss_parents_epoch += cumulated_loss_parents\n",
    "\n",
    "        # Convert tensors to lists and append to the respective lists\n",
    "        loss_edges_train.append(cumulated_loss_edges_epoch.item() / batch_count)\n",
    "        loss_reach_train.append(cumulated_loss_reach_epoch.item() / batch_count)\n",
    "        loss_parents_train.append(cumulated_loss_parents_epoch.item() / batch_count)\n",
    "\n",
    "        if validation_dataset:\n",
    "            model.eval()\n",
    "            with torch.no_grad():\n",
    "                cumulated_loss_edges_val, cumulated_loss_reach_val, cumulated_loss_parents_val = 0, 0, 0\n",
    "                for k in range(len(validation_dataset)):\n",
    "                    graph = validation_dataset[k]\n",
    "                    loss_edges, loss_reach, loss_parents = model(graph)\n",
    "                    loss_edges_output, loss_edges_hints = loss_edges[0], loss_edges[1] # loss for the edges\n",
    "\n",
    "                    cumulated_loss_edges_val += x_loss_weight * loss_edges_output + h_loss_weight * loss_edges_hints\n",
    "                    cumulated_loss_reach_val += loss_reach\n",
    "                    cumulated_loss_parents_val += loss_parents \n",
    "\n",
    "                cumulated_loss_edges_val /= len(validation_dataset)\n",
    "                cumulated_loss_reach_val /= len(validation_dataset)\n",
    "                cumulated_loss_parents_val /= len(validation_dataset)\n",
    "\n",
    "                loss_edges_val.append(cumulated_loss_edges_val.item())\n",
    "                loss_reach_val.append(cumulated_loss_reach_val.item())\n",
    "                loss_parents_val.append(cumulated_loss_parents_val.item())\n",
    "\n",
    "                print(f'Epoch {epoch}, loss_edges {cumulated_loss_edges_epoch.item() / batch_count}, loss_reach {cumulated_loss_reach_epoch.item() / batch_count}, loss_parents {cumulated_loss_parents_epoch.item() / batch_count}, loss_edges_val {cumulated_loss_edges_val.item()}, loss_reach_val {cumulated_loss_reach_val.item()}, loss_parents_val {cumulated_loss_parents_val.item()}')\n",
    "        \n",
    "        else:\n",
    "            print(f'Epoch {epoch}, loss_edges {cumulated_loss_edges_epoch.item() / batch_count}, loss_reach {cumulated_loss_reach_epoch.item() / batch_count}, loss_parents {cumulated_loss_parents_epoch.item() / batch_count}')\n",
    "\n",
    "    if validation_dataset:\n",
    "        return loss_edges_train, loss_reach_train, loss_parents_train, loss_edges_val, loss_reach_val, loss_parents_val\n",
    "    return loss_edges_train, loss_reach_train, loss_parents_train"
   ]
  },
  {
   "cell_type": "code",
   "execution_count": 11,
   "metadata": {},
   "outputs": [],
   "source": [
    "# split the dataset into training and testing using the train_test_split function\n",
    "from torch.utils.data import random_split\n",
    "n=[20, 100]\n",
    "p=0.3\n",
    "dataset = RandomGraphDataset(root='./data/medium', gen_num_graph=400, n=n, p=p)\n",
    "train_dataset, test_dataset = random_split(dataset, [350, 50])"
   ]
  },
  {
   "cell_type": "code",
   "execution_count": null,
   "metadata": {},
   "outputs": [],
   "source": [
    "optimizer = torch.optim.Adam\n",
    "model = Network()\n",
    "lr = 0.0002\n",
    "\n",
    "loss_edges_train, loss_reach_train, loss_parents_train = train(model=model, train_dataset=train_dataset,\n",
    "      optimizer=optimizer(model.parameters(), lr=lr), epochs=80, batch_size=32)"
   ]
  },
  {
   "cell_type": "code",
   "execution_count": 14,
   "metadata": {},
   "outputs": [
    {
     "name": "stdout",
     "output_type": "stream",
     "text": [
      "Epoch 0, loss_edges 1.0573787689208984, loss_reach 0.0, loss_parents 0.8018753051757812, loss_edges_val 0.8911240100860596, loss_reach_val 0.0833333283662796, loss_parents_val 0.815650463104248\n",
      "Epoch 1, loss_edges 0.7761232852935791, loss_reach 85.24630737304688, loss_parents 0.7767952919006348, loss_edges_val 0.5715210437774658, loss_reach_val 100.0, loss_parents_val 0.8667091131210327\n",
      "Epoch 2, loss_edges 0.44747357368469237, loss_reach 100.0, loss_parents 0.873377799987793, loss_edges_val 0.3782954514026642, loss_reach_val 100.0, loss_parents_val 0.900012195110321\n",
      "Epoch 3, loss_edges 0.39631922245025636, loss_reach 100.0, loss_parents 0.8732841491699219, loss_edges_val 0.3565709590911865, loss_reach_val 100.0, loss_parents_val 0.8675957322120667\n",
      "Epoch 4, loss_edges 0.35430636405944826, loss_reach 100.0, loss_parents 0.8048425674438476, loss_edges_val 0.3386109471321106, loss_reach_val 100.0, loss_parents_val 0.7866747975349426\n",
      "Epoch 5, loss_edges 0.3432823896408081, loss_reach 100.0, loss_parents 0.7414778709411621, loss_edges_val 0.325871080160141, loss_reach_val 100.0, loss_parents_val 0.7547968029975891\n",
      "Epoch 6, loss_edges 0.33227131366729734, loss_reach 100.0, loss_parents 0.7136362075805665, loss_edges_val 0.31965529918670654, loss_reach_val 100.0, loss_parents_val 0.7230901122093201\n",
      "Epoch 7, loss_edges 0.32755293846130373, loss_reach 100.0, loss_parents 0.6748015880584717, loss_edges_val 0.31653347611427307, loss_reach_val 100.0, loss_parents_val 0.6848066449165344\n",
      "Epoch 8, loss_edges 0.32430343627929686, loss_reach 100.0, loss_parents 0.6542176723480224, loss_edges_val 0.3138684928417206, loss_reach_val 100.0, loss_parents_val 0.6763079166412354\n",
      "Epoch 9, loss_edges 0.32186498641967776, loss_reach 100.0, loss_parents 0.6365539073944092, loss_edges_val 0.31184858083724976, loss_reach_val 100.0, loss_parents_val 0.6500630974769592\n",
      "Epoch 10, loss_edges 0.31955220699310305, loss_reach 100.0, loss_parents 0.6180920600891113, loss_edges_val 0.3098772168159485, loss_reach_val 100.0, loss_parents_val 0.6348194479942322\n",
      "Epoch 11, loss_edges 0.31718151569366454, loss_reach 100.0, loss_parents 0.5985193252563477, loss_edges_val 0.30702513456344604, loss_reach_val 100.0, loss_parents_val 0.6158382296562195\n",
      "Epoch 12, loss_edges 0.31368906497955323, loss_reach 100.0, loss_parents 0.5772825717926026, loss_edges_val 0.3028183877468109, loss_reach_val 100.0, loss_parents_val 0.5927426815032959\n",
      "Epoch 13, loss_edges 0.3082627296447754, loss_reach 100.0, loss_parents 0.5446788311004639, loss_edges_val 0.29592981934547424, loss_reach_val 100.0, loss_parents_val 0.5497294664382935\n",
      "Epoch 14, loss_edges 0.2990638017654419, loss_reach 100.0, loss_parents 0.4950204372406006, loss_edges_val 0.2840936779975891, loss_reach_val 100.0, loss_parents_val 0.4753352403640747\n",
      "Epoch 15, loss_edges 0.2819403886795044, loss_reach 100.0, loss_parents 0.3969270706176758, loss_edges_val 0.2609141170978546, loss_reach_val 100.0, loss_parents_val 0.3502693176269531\n",
      "Epoch 16, loss_edges 0.24349312782287597, loss_reach 90.07100830078124, loss_parents 0.23867111206054686, loss_edges_val 0.20372024178504944, loss_reach_val 80.31977844238281, loss_parents_val 0.13413839042186737\n",
      "Epoch 17, loss_edges 0.1812557101249695, loss_reach 60.22206420898438, loss_parents 0.055858707427978514, loss_edges_val 0.15593646466732025, loss_reach_val 57.7193603515625, loss_parents_val 0.028021249920129776\n",
      "Epoch 18, loss_edges 0.15038642883300782, loss_reach 46.704342651367185, loss_parents 0.031088042259216308, loss_edges_val 0.13554826378822327, loss_reach_val 30.792295455932617, loss_parents_val 0.026084914803504944\n",
      "Epoch 19, loss_edges 0.15105777978897095, loss_reach 38.57460327148438, loss_parents 0.03695822656154633, loss_edges_val 0.2002025991678238, loss_reach_val 56.652896881103516, loss_parents_val 0.0466986745595932\n",
      "Epoch 20, loss_edges 0.17715075016021728, loss_reach 39.903445434570315, loss_parents 0.07020570039749145, loss_edges_val 0.13807477056980133, loss_reach_val 41.045928955078125, loss_parents_val 0.08449062705039978\n",
      "Epoch 21, loss_edges 0.14665197134017943, loss_reach 36.097015380859375, loss_parents 0.1255037784576416, loss_edges_val 0.13015925884246826, loss_reach_val 40.60881805419922, loss_parents_val 0.10592065751552582\n",
      "Epoch 22, loss_edges 0.1356118679046631, loss_reach 32.513909912109376, loss_parents 0.12477333545684814, loss_edges_val 0.11962142586708069, loss_reach_val 32.73011779785156, loss_parents_val 0.10460006445646286\n",
      "Epoch 23, loss_edges 0.12365384101867676, loss_reach 26.877490234375, loss_parents 0.11187074184417725, loss_edges_val 0.1076577827334404, loss_reach_val 27.593454360961914, loss_parents_val 0.07970289885997772\n",
      "Epoch 24, loss_edges 0.11647320985794067, loss_reach 23.025421142578125, loss_parents 0.08197089433670043, loss_edges_val 0.10466259717941284, loss_reach_val 25.61672592163086, loss_parents_val 0.08875398337841034\n",
      "Epoch 25, loss_edges 0.10888042449951171, loss_reach 22.159031677246094, loss_parents 0.06871616840362549, loss_edges_val 0.10191866010427475, loss_reach_val 29.493236541748047, loss_parents_val 0.07493250072002411\n",
      "Epoch 26, loss_edges 0.10504361391067504, loss_reach 22.79112091064453, loss_parents 0.05998032093048096, loss_edges_val 0.09581326693296432, loss_reach_val 29.372480392456055, loss_parents_val 0.06138090044260025\n",
      "Epoch 27, loss_edges 0.10015038251876832, loss_reach 22.862527465820314, loss_parents 0.0525420069694519, loss_edges_val 0.09135907888412476, loss_reach_val 28.179697036743164, loss_parents_val 0.04398929700255394\n",
      "Epoch 28, loss_edges 0.09574267268180847, loss_reach 21.892819213867188, loss_parents 0.04155166447162628, loss_edges_val 0.08863390237092972, loss_reach_val 29.709497451782227, loss_parents_val 0.04253523424267769\n",
      "Epoch 29, loss_edges 0.09140954613685608, loss_reach 21.210063171386718, loss_parents 0.0416120707988739, loss_edges_val 0.0839393213391304, loss_reach_val 30.693944931030273, loss_parents_val 0.04573049023747444\n",
      "Epoch 30, loss_edges 0.08706647753715516, loss_reach 19.654678344726562, loss_parents 0.03885732591152191, loss_edges_val 0.08410912752151489, loss_reach_val 34.18595886230469, loss_parents_val 0.047674864530563354\n",
      "Epoch 31, loss_edges 0.08328790664672851, loss_reach 18.276731872558592, loss_parents 0.03559862673282623, loss_edges_val 0.08162853866815567, loss_reach_val 34.02554702758789, loss_parents_val 0.039925288408994675\n",
      "Epoch 32, loss_edges 0.07981619834899903, loss_reach 17.439048767089844, loss_parents 0.03343624472618103, loss_edges_val 0.07801633328199387, loss_reach_val 30.732929229736328, loss_parents_val 0.038610801100730896\n",
      "Epoch 33, loss_edges 0.07635833621025086, loss_reach 16.297442626953124, loss_parents 0.028528428077697753, loss_edges_val 0.07543621957302094, loss_reach_val 29.615856170654297, loss_parents_val 0.04076244309544563\n",
      "Epoch 34, loss_edges 0.07315215468406677, loss_reach 14.886758422851562, loss_parents 0.026819530129432678, loss_edges_val 0.07150257378816605, loss_reach_val 27.903247833251953, loss_parents_val 0.03663778677582741\n",
      "Epoch 35, loss_edges 0.07021960020065307, loss_reach 13.774581909179688, loss_parents 0.02666354477405548, loss_edges_val 0.06828045845031738, loss_reach_val 26.557476043701172, loss_parents_val 0.03584413602948189\n",
      "Epoch 36, loss_edges 0.067521470785141, loss_reach 12.896903991699219, loss_parents 0.0256243497133255, loss_edges_val 0.06586018949747086, loss_reach_val 25.76541519165039, loss_parents_val 0.03578446805477142\n",
      "Epoch 37, loss_edges 0.06508153676986694, loss_reach 11.994696044921875, loss_parents 0.026212358474731447, loss_edges_val 0.06292577087879181, loss_reach_val 24.846572875976562, loss_parents_val 0.03318765014410019\n",
      "Epoch 38, loss_edges 0.0628326952457428, loss_reach 11.050016021728515, loss_parents 0.025858741998672486, loss_edges_val 0.06052754074335098, loss_reach_val 24.321640014648438, loss_parents_val 0.03486548364162445\n",
      "Epoch 39, loss_edges 0.06149593591690063, loss_reach 10.407708740234375, loss_parents 0.02585134208202362, loss_edges_val 0.05835452675819397, loss_reach_val 23.869178771972656, loss_parents_val 0.03541915491223335\n",
      "Epoch 40, loss_edges 0.0601773202419281, loss_reach 9.975997161865234, loss_parents 0.026100623607635497, loss_edges_val 0.055711887776851654, loss_reach_val 21.535964965820312, loss_parents_val 0.034153055399656296\n",
      "Epoch 41, loss_edges 0.05841822028160095, loss_reach 9.627951049804688, loss_parents 0.02569347321987152, loss_edges_val 0.05339387059211731, loss_reach_val 18.50254249572754, loss_parents_val 0.03279147297143936\n",
      "Epoch 42, loss_edges 0.05551369190216064, loss_reach 8.586679077148437, loss_parents 0.025913703441619872, loss_edges_val 0.05127113312482834, loss_reach_val 13.68396282196045, loss_parents_val 0.03211398050189018\n",
      "Epoch 43, loss_edges 0.052248197793960574, loss_reach 6.804296875, loss_parents 0.0261732816696167, loss_edges_val 0.04939373955130577, loss_reach_val 9.22520923614502, loss_parents_val 0.03079107217490673\n",
      "Epoch 44, loss_edges 0.0491922914981842, loss_reach 3.865749740600586, loss_parents 0.024849918484687806, loss_edges_val 0.047619037330150604, loss_reach_val 6.383467197418213, loss_parents_val 0.028578953817486763\n",
      "Epoch 45, loss_edges 0.0465050607919693, loss_reach 2.4011234283447265, loss_parents 0.02507002353668213, loss_edges_val 0.04341873154044151, loss_reach_val 2.090458869934082, loss_parents_val 0.025522902607917786\n",
      "Epoch 46, loss_edges 0.04406662881374359, loss_reach 1.3608660697937012, loss_parents 0.024487635493278502, loss_edges_val 0.04099220409989357, loss_reach_val 1.146302342414856, loss_parents_val 0.02779562957584858\n",
      "Epoch 47, loss_edges 0.042164742946624756, loss_reach 1.029971981048584, loss_parents 0.024323537945747375, loss_edges_val 0.03940775990486145, loss_reach_val 1.208566427230835, loss_parents_val 0.027189569547772408\n",
      "Epoch 48, loss_edges 0.03998526930809021, loss_reach 0.9395546913146973, loss_parents 0.023650656640529632, loss_edges_val 0.03766820207238197, loss_reach_val 0.8497235178947449, loss_parents_val 0.022947143763303757\n",
      "Epoch 49, loss_edges 0.03826633393764496, loss_reach 0.8230215072631836, loss_parents 0.02305164635181427, loss_edges_val 0.03624444827437401, loss_reach_val 0.7970919013023376, loss_parents_val 0.02242083102464676\n",
      "Epoch 50, loss_edges 0.03672179281711578, loss_reach 0.7161990165710449, loss_parents 0.02279444634914398, loss_edges_val 0.03490058332681656, loss_reach_val 0.7013980746269226, loss_parents_val 0.02242083102464676\n",
      "Epoch 51, loss_edges 0.03519487380981445, loss_reach 0.6355366230010986, loss_parents 0.022620835900306703, loss_edges_val 0.033796604722738266, loss_reach_val 0.8099001049995422, loss_parents_val 0.02242083102464676\n",
      "Epoch 52, loss_edges 0.033869534730911255, loss_reach 0.5741068363189697, loss_parents 0.022712746262550355, loss_edges_val 0.03232288733124733, loss_reach_val 0.7230314016342163, loss_parents_val 0.02242083102464676\n",
      "Epoch 53, loss_edges 0.03268797397613525, loss_reach 0.5240613460540772, loss_parents 0.022432833909988403, loss_edges_val 0.03120555728673935, loss_reach_val 0.7461082935333252, loss_parents_val 0.02242083102464676\n",
      "Epoch 54, loss_edges 0.03157826960086822, loss_reach 0.5095741748809814, loss_parents 0.022273436188697815, loss_edges_val 0.030153514817357063, loss_reach_val 0.7236363887786865, loss_parents_val 0.02242083102464676\n",
      "Epoch 55, loss_edges 0.03043785095214844, loss_reach 0.4759978771209717, loss_parents 0.02221442013978958, loss_edges_val 0.02917744219303131, loss_reach_val 0.7283067107200623, loss_parents_val 0.02242083102464676\n",
      "Epoch 56, loss_edges 0.02941485643386841, loss_reach 0.4478999137878418, loss_parents 0.022009806334972383, loss_edges_val 0.028319399803876877, loss_reach_val 0.6616401076316833, loss_parents_val 0.02242083102464676\n",
      "Epoch 57, loss_edges 0.02846847176551819, loss_reach 0.4681284427642822, loss_parents 0.021927930414676666, loss_edges_val 0.02773747593164444, loss_reach_val 0.571241021156311, loss_parents_val 0.022057190537452698\n",
      "Epoch 58, loss_edges 0.028136971592903137, loss_reach 0.5002668380737305, loss_parents 0.021927930414676666, loss_edges_val 0.02737567573785782, loss_reach_val 0.571241021156311, loss_parents_val 0.022057190537452698\n",
      "Epoch 59, loss_edges 0.028357887268066408, loss_reach 0.513493824005127, loss_parents 0.021639788150787355, loss_edges_val 0.027164697647094727, loss_reach_val 0.5140981674194336, loss_parents_val 0.021557187661528587\n",
      "Epoch 60, loss_edges 0.02867036163806915, loss_reach 0.6206633090972901, loss_parents 0.021478012204170227, loss_edges_val 0.027629690244793892, loss_reach_val 0.5140981674194336, loss_parents_val 0.020557189360260963\n",
      "Epoch 61, loss_edges 0.029845190048217774, loss_reach 1.2209429740905762, loss_parents 0.021270090341567995, loss_edges_val 0.029854465276002884, loss_reach_val 0.37901046872138977, loss_parents_val 0.019932188093662262\n",
      "Epoch 62, loss_edges 0.02932884991168976, loss_reach 1.3815424919128418, loss_parents 0.02135021835565567, loss_edges_val 0.02487369254231453, loss_reach_val 0.3024267256259918, loss_parents_val 0.019932188093662262\n",
      "Epoch 63, loss_edges 0.024904321134090423, loss_reach 0.386300253868103, loss_parents 0.021380603313446045, loss_edges_val 0.024098875001072884, loss_reach_val 0.28044870495796204, loss_parents_val 0.019932188093662262\n",
      "Epoch 64, loss_edges 0.02426290065050125, loss_reach 0.2959746360778809, loss_parents 0.021232888102531433, loss_edges_val 0.022685065865516663, loss_reach_val 0.4464430510997772, loss_parents_val 0.019932188093662262\n",
      "Epoch 65, loss_edges 0.022944580018520355, loss_reach 0.2622354507446289, loss_parents 0.021232888102531433, loss_edges_val 0.022068727761507034, loss_reach_val 0.37901046872138977, loss_parents_val 0.019932188093662262\n",
      "Epoch 66, loss_edges 0.022164195775985718, loss_reach 0.29019556045532224, loss_parents 0.020952247083187103, loss_edges_val 0.021490102633833885, loss_reach_val 0.2750915586948395, loss_parents_val 0.019932188093662262\n",
      "Epoch 67, loss_edges 0.021532461047172546, loss_reach 0.2805564165115356, loss_parents 0.020952247083187103, loss_edges_val 0.021014180034399033, loss_reach_val 0.23499415814876556, loss_parents_val 0.019932188093662262\n",
      "Epoch 68, loss_edges 0.020898355543613432, loss_reach 0.2314279556274414, loss_parents 0.020803438127040864, loss_edges_val 0.020595751702785492, loss_reach_val 0.17249415814876556, loss_parents_val 0.019932188093662262\n",
      "Epoch 69, loss_edges 0.020426946878433227, loss_reach 0.22662026882171632, loss_parents 0.020803438127040864, loss_edges_val 0.020197026431560516, loss_reach_val 0.12121211737394333, loss_parents_val 0.019932188093662262\n",
      "Epoch 70, loss_edges 0.01991579234600067, loss_reach 0.19291553497314454, loss_parents 0.020895349979400634, loss_edges_val 0.01991070806980133, loss_reach_val 0.12121211737394333, loss_parents_val 0.019932188093662262\n",
      "Epoch 71, loss_edges 0.01955580711364746, loss_reach 0.19755641222000123, loss_parents 0.0208634614944458, loss_edges_val 0.01969665102660656, loss_reach_val 0.12121211737394333, loss_parents_val 0.019932188093662262\n",
      "Epoch 72, loss_edges 0.019476407766342164, loss_reach 0.19044309854507446, loss_parents 0.0208634614944458, loss_edges_val 0.019253097474575043, loss_reach_val 0.060606058686971664, loss_parents_val 0.019932188093662262\n",
      "Epoch 73, loss_edges 0.01942353546619415, loss_reach 0.2147467851638794, loss_parents 0.0208634614944458, loss_edges_val 0.018668703734874725, loss_reach_val 0.060606058686971664, loss_parents_val 0.019932188093662262\n",
      "Epoch 74, loss_edges 0.01898266524076462, loss_reach 0.22032713890075684, loss_parents 0.0208634614944458, loss_edges_val 0.018169576302170753, loss_reach_val 0.060606058686971664, loss_parents_val 0.019932188093662262\n",
      "Epoch 75, loss_edges 0.01855279803276062, loss_reach 0.20056958198547364, loss_parents 0.0208634614944458, loss_edges_val 0.017737900838255882, loss_reach_val 0.060606058686971664, loss_parents_val 0.019932188093662262\n",
      "Epoch 76, loss_edges 0.01823541522026062, loss_reach 0.20056958198547364, loss_parents 0.020732487738132476, loss_edges_val 0.017400261014699936, loss_reach_val 0.060606058686971664, loss_parents_val 0.019932188093662262\n",
      "Epoch 77, loss_edges 0.01798814833164215, loss_reach 0.2135904312133789, loss_parents 0.020616747438907623, loss_edges_val 0.01713717356324196, loss_reach_val 0.060606058686971664, loss_parents_val 0.019932188093662262\n",
      "Epoch 78, loss_edges 0.01781235933303833, loss_reach 0.21153113842010499, loss_parents 0.020616747438907623, loss_edges_val 0.016788454726338387, loss_reach_val 0.060606058686971664, loss_parents_val 0.019932188093662262\n",
      "Epoch 79, loss_edges 0.01746227443218231, loss_reach 0.20105159282684326, loss_parents 0.020616747438907623, loss_edges_val 0.016423596069216728, loss_reach_val 0.060606058686971664, loss_parents_val 0.019932188093662262\n",
      "Epoch 80, loss_edges 0.017119431495666505, loss_reach 0.19302690029144287, loss_parents 0.02052483558654785, loss_edges_val 0.01615104079246521, loss_reach_val 0.060606058686971664, loss_parents_val 0.019932188093662262\n",
      "Epoch 81, loss_edges 0.016909480094909668, loss_reach 0.20105159282684326, loss_parents 0.02052483558654785, loss_edges_val 0.015942230820655823, loss_reach_val 0.060606058686971664, loss_parents_val 0.019932188093662262\n",
      "Epoch 82, loss_edges 0.016729651391506194, loss_reach 0.19174765348434447, loss_parents 0.020404644310474396, loss_edges_val 0.015728339552879333, loss_reach_val 0.060606058686971664, loss_parents_val 0.019932188093662262\n",
      "Epoch 83, loss_edges 0.016563791036605834, loss_reach 0.20364599227905272, loss_parents 0.020404644310474396, loss_edges_val 0.01565876044332981, loss_reach_val 0.060606058686971664, loss_parents_val 0.019932188093662262\n",
      "Epoch 84, loss_edges 0.01642148643732071, loss_reach 0.20781266689300537, loss_parents 0.020404644310474396, loss_edges_val 0.015666170045733452, loss_reach_val 0.060606058686971664, loss_parents_val 0.019932188093662262\n",
      "Epoch 85, loss_edges 0.01640470027923584, loss_reach 0.21006240844726562, loss_parents 0.020404644310474396, loss_edges_val 0.016062205657362938, loss_reach_val 0.0, loss_parents_val 0.019932188093662262\n",
      "Epoch 86, loss_edges 0.01674471199512482, loss_reach 0.22460222244262695, loss_parents 0.020344547927379608, loss_edges_val 0.017084702849388123, loss_reach_val 0.0, loss_parents_val 0.019932188093662262\n",
      "Epoch 87, loss_edges 0.01816280633211136, loss_reach 0.2955405473709106, loss_parents 0.020224355161190033, loss_edges_val 0.020815884694457054, loss_reach_val 0.0, loss_parents_val 0.019932188093662262\n",
      "Epoch 88, loss_edges 0.027614042162895203, loss_reach 1.3038588523864747, loss_parents 0.020278234779834748, loss_edges_val 0.09004534780979156, loss_reach_val 0.0, loss_parents_val 0.019932188093662262\n",
      "Epoch 89, loss_edges 0.05198909044265747, loss_reach 10.011387634277344, loss_parents 0.020592658221721648, loss_edges_val 0.026316683739423752, loss_reach_val 0.05263157933950424, loss_parents_val 0.01936076022684574\n",
      "Epoch 90, loss_edges 0.03291112184524536, loss_reach 5.878993988037109, loss_parents 0.02058209478855133, loss_edges_val 0.021379297599196434, loss_reach_val 0.0, loss_parents_val 0.01936076022684574\n",
      "Epoch 91, loss_edges 0.022240889072418214, loss_reach 1.402857208251953, loss_parents 0.020292632281780243, loss_edges_val 0.016848651692271233, loss_reach_val 0.19447219371795654, loss_parents_val 0.01936076022684574\n",
      "Epoch 92, loss_edges 0.018322329223155975, loss_reach 0.24190101623535157, loss_parents 0.020308074355125428, loss_edges_val 0.018529705703258514, loss_reach_val 0.060606058686971664, loss_parents_val 0.01936076022684574\n",
      "Epoch 93, loss_edges 0.016007666289806367, loss_reach 0.2868916988372803, loss_parents 0.02015354186296463, loss_edges_val 0.015011771582067013, loss_reach_val 0.12803862988948822, loss_parents_val 0.01936076022684574\n",
      "Epoch 94, loss_edges 0.014950910210609436, loss_reach 0.24812695980072022, loss_parents 0.02004578411579132, loss_edges_val 0.016123998910188675, loss_reach_val 0.0, loss_parents_val 0.01936076022684574\n",
      "Epoch 95, loss_edges 0.014352984726428986, loss_reach 0.1369704484939575, loss_parents 0.02012018859386444, loss_edges_val 0.014022864401340485, loss_reach_val 0.0, loss_parents_val 0.01936076022684574\n",
      "Epoch 96, loss_edges 0.013731151819229126, loss_reach 0.11759617328643798, loss_parents 0.02012018859386444, loss_edges_val 0.014087132178246975, loss_reach_val 0.0, loss_parents_val 0.01936076022684574\n",
      "Epoch 97, loss_edges 0.013352566957473755, loss_reach 0.06432231068611145, loss_parents 0.02012018859386444, loss_edges_val 0.01336247194558382, loss_reach_val 0.0, loss_parents_val 0.01936076022684574\n",
      "Epoch 98, loss_edges 0.013066895306110382, loss_reach 0.082273668050766, loss_parents 0.020224355161190033, loss_edges_val 0.01337475422769785, loss_reach_val 0.0, loss_parents_val 0.01936076022684574\n",
      "Epoch 99, loss_edges 0.012839280068874359, loss_reach 0.06200478076934814, loss_parents 0.02012018859386444, loss_edges_val 0.012968356721103191, loss_reach_val 0.0, loss_parents_val 0.01936076022684574\n",
      "Epoch 100, loss_edges 0.01260342001914978, loss_reach 0.07986192107200622, loss_parents 0.020224355161190033, loss_edges_val 0.012914037331938744, loss_reach_val 0.0, loss_parents_val 0.01936076022684574\n",
      "Epoch 101, loss_edges 0.012411025166511536, loss_reach 0.0724214494228363, loss_parents 0.02012018859386444, loss_edges_val 0.012635849416255951, loss_reach_val 0.0, loss_parents_val 0.01936076022684574\n",
      "Epoch 102, loss_edges 0.01219692975282669, loss_reach 0.07986192107200622, loss_parents 0.020224355161190033, loss_edges_val 0.012509449385106564, loss_reach_val 0.0, loss_parents_val 0.01936076022684574\n",
      "Epoch 103, loss_edges 0.012010481953620911, loss_reach 0.0724214494228363, loss_parents 0.02012018859386444, loss_edges_val 0.012304345145821571, loss_reach_val 0.0, loss_parents_val 0.01936076022684574\n",
      "Epoch 104, loss_edges 0.011816755682229996, loss_reach 0.06693899035453796, loss_parents 0.02012018859386444, loss_edges_val 0.012147743254899979, loss_reach_val 0.0, loss_parents_val 0.01936076022684574\n",
      "Epoch 105, loss_edges 0.01163669303059578, loss_reach 0.06693899035453796, loss_parents 0.02012018859386444, loss_edges_val 0.011975857429206371, loss_reach_val 0.0, loss_parents_val 0.01936076022684574\n",
      "Epoch 106, loss_edges 0.01145494282245636, loss_reach 0.06693899035453796, loss_parents 0.02001242935657501, loss_edges_val 0.011803253553807735, loss_reach_val 0.0, loss_parents_val 0.01936076022684574\n",
      "Epoch 107, loss_edges 0.01127951443195343, loss_reach 0.06693899035453796, loss_parents 0.020116595923900603, loss_edges_val 0.011640968732535839, loss_reach_val 0.0, loss_parents_val 0.01936076022684574\n",
      "Epoch 108, loss_edges 0.011104962229728699, loss_reach 0.06693899035453796, loss_parents 0.02001242935657501, loss_edges_val 0.011472020298242569, loss_reach_val 0.0, loss_parents_val 0.01936076022684574\n",
      "Epoch 109, loss_edges 0.010934572666883469, loss_reach 0.06693899035453796, loss_parents 0.02001242935657501, loss_edges_val 0.011310508474707603, loss_reach_val 0.0, loss_parents_val 0.01936076022684574\n",
      "Epoch 110, loss_edges 0.010771587491035461, loss_reach 0.06693899035453796, loss_parents 0.02001242935657501, loss_edges_val 0.011152478866279125, loss_reach_val 0.0, loss_parents_val 0.01936076022684574\n",
      "Epoch 111, loss_edges 0.01060902550816536, loss_reach 0.06693899035453796, loss_parents 0.02001242935657501, loss_edges_val 0.010990969836711884, loss_reach_val 0.0, loss_parents_val 0.01936076022684574\n",
      "Epoch 112, loss_edges 0.010444850474596024, loss_reach 0.06693899035453796, loss_parents 0.02001242935657501, loss_edges_val 0.010840093716979027, loss_reach_val 0.0, loss_parents_val 0.01936076022684574\n",
      "Epoch 113, loss_edges 0.010288158059120178, loss_reach 0.056522327661514285, loss_parents 0.02001242935657501, loss_edges_val 0.010695047676563263, loss_reach_val 0.0, loss_parents_val 0.01936076022684574\n",
      "Epoch 114, loss_edges 0.010154879093170166, loss_reach 0.06520287990570069, loss_parents 0.02001242935657501, loss_edges_val 0.01051560789346695, loss_reach_val 0.0, loss_parents_val 0.01936076022684574\n",
      "Epoch 115, loss_edges 0.009997109323740006, loss_reach 0.06484368443489075, loss_parents 0.02001242935657501, loss_edges_val 0.010384820401668549, loss_reach_val 0.0, loss_parents_val 0.01936076022684574\n",
      "Epoch 116, loss_edges 0.009853989630937577, loss_reach 0.06484368443489075, loss_parents 0.02001242935657501, loss_edges_val 0.010253412649035454, loss_reach_val 0.0, loss_parents_val 0.01936076022684574\n",
      "Epoch 117, loss_edges 0.009710117429494857, loss_reach 0.05442702174186707, loss_parents 0.02001242935657501, loss_edges_val 0.01012622844427824, loss_reach_val 0.0, loss_parents_val 0.01936076022684574\n",
      "Epoch 118, loss_edges 0.009572602808475494, loss_reach 0.05442702174186707, loss_parents 0.02001242935657501, loss_edges_val 0.010007819160819054, loss_reach_val 0.0, loss_parents_val 0.01936076022684574\n",
      "Epoch 119, loss_edges 0.009438631683588028, loss_reach 0.05442702174186707, loss_parents 0.02001242935657501, loss_edges_val 0.009889506734907627, loss_reach_val 0.0, loss_parents_val 0.01936076022684574\n"
     ]
    }
   ],
   "source": [
    "optimizer = torch.optim.Adam\n",
    "model = Network()\n",
    "lr = 0.0002\n",
    "\n",
    "loss_edges_train, loss_reach_train, loss_parents_train, loss_edges_val, loss_reach_val, loss_parents_val = train(model=model, train_dataset=train_dataset, validation_dataset=test_dataset,\n",
    "      optimizer=optimizer(model.parameters(), lr=lr), epochs=120, batch_size=32)"
   ]
  },
  {
   "cell_type": "code",
   "execution_count": 15,
   "metadata": {},
   "outputs": [],
   "source": [
    "torch.save(model.state_dict(), 'model_0002_350_120.pth')"
   ]
  },
  {
   "cell_type": "code",
   "execution_count": 21,
   "metadata": {},
   "outputs": [],
   "source": []
  },
  {
   "cell_type": "code",
   "execution_count": 22,
   "metadata": {},
   "outputs": [
    {
     "data": {
      "text/plain": [
       "tensor(0.0081)"
      ]
     },
     "execution_count": 22,
     "metadata": {},
     "output_type": "execute_result"
    }
   ],
   "source": [
    "cumulated_loss_edges_test"
   ]
  },
  {
   "cell_type": "code",
   "execution_count": null,
   "metadata": {},
   "outputs": [],
   "source": [
    "Network().forward(input, dataset[0].edge_index)"
   ]
  },
  {
   "cell_type": "code",
   "execution_count": null,
   "metadata": {},
   "outputs": [],
   "source": [
    "# plot the losses\n",
    "import matplotlib.pyplot as plt\n",
    "plt.plot(loss_parents_val, label='val')\n",
    "plt.plot(loss_edges_train, label='train')\n",
    "\n",
    "plt.legend()\n",
    "# use log scale\n",
    "plt.yscale('log')\n",
    "plt.show()"
   ]
  },
  {
   "cell_type": "code",
   "execution_count": null,
   "metadata": {},
   "outputs": [],
   "source": [
    "# plot the losses\n",
    "import matplotlib.pyplot as plt\n",
    "plt.plot(loss_edges_val, label='val')\n",
    "plt.plot(loss_edges_train, label='train')\n",
    "\n",
    "plt.legend()\n",
    "# use log scale\n",
    "plt.yscale('log')\n",
    "plt.show()"
   ]
  },
  {
   "cell_type": "code",
   "execution_count": null,
   "metadata": {},
   "outputs": [],
   "source": [
    "# plot the losses\n",
    "import matplotlib.pyplot as plt\n",
    "plt.plot(loss_reach_val, label='val')\n",
    "plt.plot(loss_reach_train, label='train')\n",
    "\n",
    "plt.legend()\n",
    "# use log scale\n",
    "plt.yscale('log')\n",
    "plt.show()"
   ]
  },
  {
   "cell_type": "code",
   "execution_count": null,
   "metadata": {},
   "outputs": [],
   "source": [
    "# plot the losses\n",
    "import matplotlib.pyplot as plt\n",
    "plt.plot(loss_parents_val, label='train')\n",
    "plt.plot(loss_reach_val, label='train')\n",
    "plt.plot(loss_edges_val, label='train')\n",
    "plt.legend()\n",
    "# use log scale\n",
    "plt.yscale('log')\n",
    "plt.show()"
   ]
  },
  {
   "cell_type": "code",
   "execution_count": null,
   "metadata": {},
   "outputs": [],
   "source": [
    "# plot the losses\n",
    "import matplotlib.pyplot as plt\n",
    "plt.plot(loss_edges_train, label='train')\n",
    "plt.legend()\n",
    "# use log scale\n",
    "plt.yscale('log')\n",
    "plt.show()"
   ]
  },
  {
   "cell_type": "code",
   "execution_count": 4,
   "metadata": {},
   "outputs": [],
   "source": [
    "from generator import RandomGraphDataset"
   ]
  },
  {
   "cell_type": "code",
   "execution_count": 24,
   "metadata": {},
   "outputs": [],
   "source": [
    "# split the dataset into training and testing using the train_test_split function\n",
    "from torch.utils.data import random_split\n",
    "n=[200, 500]\n",
    "p=0.3\n",
    "dataset_test = RandomGraphDataset(root='./data/OOD/200', gen_num_graph=34, n=n, p=p)"
   ]
  },
  {
   "cell_type": "code",
   "execution_count": 27,
   "metadata": {},
   "outputs": [
    {
     "data": {
      "text/plain": [
       "CLRSData(edge_index=[2, 27868], pos=[306], length=27868, s=[306], pi=[306], reach_h=[3, 306], pi_h=[3, 306], edges=[27868], edges_h=[3, 27868], hints=[3], inputs=[2], outputs=[1])"
      ]
     },
     "execution_count": 27,
     "metadata": {},
     "output_type": "execute_result"
    }
   ],
   "source": [
    "dataset_test[0]"
   ]
  },
  {
   "cell_type": "code",
   "execution_count": 25,
   "metadata": {},
   "outputs": [],
   "source": [
    "x_loss_weight = h_loss_weight = 0.5\n",
    "model.eval() \n",
    "\n",
    "with torch.no_grad():\n",
    "    cumulated_loss_edges_test, cumulated_loss_reach_test, cumulated_loss_parents_test = 0, 0, 0\n",
    "    for graph in dataset_test:\n",
    "        loss_edges, loss_reach, loss_parents = model(graph)\n",
    "        loss_edges_output, loss_edges_hints = loss_edges[0], loss_edges[1]  # loss for the edges\n",
    "\n",
    "        cumulated_loss_edges_test += x_loss_weight * loss_edges_output + h_loss_weight * loss_edges_hints\n",
    "        cumulated_loss_reach_test += loss_reach\n",
    "        cumulated_loss_parents_test += loss_parents\n",
    "\n",
    "    cumulated_loss_edges_test /= len(dataset_test)\n",
    "    cumulated_loss_reach_test /= len(dataset_test)\n",
    "    cumulated_loss_parents_test /= len(dataset_test)"
   ]
  },
  {
   "cell_type": "code",
   "execution_count": 26,
   "metadata": {},
   "outputs": [
    {
     "data": {
      "text/plain": [
       "(tensor(0.0081), tensor(0.), tensor(0.0030))"
      ]
     },
     "execution_count": 26,
     "metadata": {},
     "output_type": "execute_result"
    }
   ],
   "source": [
    "cumulated_loss_edges_test, cumulated_loss_reach_test, cumulated_loss_parents_test"
   ]
  },
  {
   "cell_type": "code",
   "execution_count": null,
   "metadata": {},
   "outputs": [
    {
     "data": {
      "text/plain": [
       "34"
      ]
     },
     "execution_count": 31,
     "metadata": {},
     "output_type": "execute_result"
    }
   ],
   "source": [
    "dataset.len()"
   ]
  },
  {
   "cell_type": "code",
   "execution_count": null,
   "metadata": {},
   "outputs": [],
   "source": [
    "model.eval()"
   ]
  }
 ],
 "metadata": {
  "kernelspec": {
   "display_name": "base",
   "language": "python",
   "name": "python3"
  },
  "language_info": {
   "codemirror_mode": {
    "name": "ipython",
    "version": 3
   },
   "file_extension": ".py",
   "mimetype": "text/x-python",
   "name": "python",
   "nbconvert_exporter": "python",
   "pygments_lexer": "ipython3",
   "version": "3.8.18"
  }
 },
 "nbformat": 4,
 "nbformat_minor": 2
}
