{
 "cells": [
  {
   "cell_type": "code",
   "execution_count": 1,
   "metadata": {},
   "outputs": [
    {
     "name": "stderr",
     "output_type": "stream",
     "text": [
      "2024-03-11 11:04:40.777734: I tensorflow/core/platform/cpu_feature_guard.cc:182] This TensorFlow binary is optimized to use available CPU instructions in performance-critical operations.\n",
      "To enable the following instructions: AVX2 FMA, in other operations, rebuild TensorFlow with the appropriate compiler flags.\n"
     ]
    }
   ],
   "source": [
    "# import generator from '../data/generator.py'\n",
    "import sys\n",
    "import os\n",
    "from generator import *"
   ]
  },
  {
   "cell_type": "markdown",
   "metadata": {},
   "source": [
    "# Graph Generation"
   ]
  },
  {
   "cell_type": "code",
   "execution_count": 144,
   "metadata": {},
   "outputs": [
    {
     "name": "stdout",
     "output_type": "stream",
     "text": [
      "Generating 200 graphs\n"
     ]
    },
    {
     "name": "stderr",
     "output_type": "stream",
     "text": [
      "100%|██████████| 200/200 [00:00<00:00, 567.93it/s]\n",
      "Processing...\n",
      "100%|██████████| 200/200 [00:00<00:00, 332.04it/s]\n",
      "Done!\n"
     ]
    }
   ],
   "source": [
    "n = 6\n",
    "p = 0.3\n",
    "\n",
    "dataset = RandomGraphDataset(root='./data', gen_num_graph=200, n=n, p=p)"
   ]
  },
  {
   "cell_type": "code",
   "execution_count": 5,
   "metadata": {},
   "outputs": [],
   "source": [
    "import torch\n",
    "from torch import nn\n",
    "from encoder import Encoder\n",
    "from decoder import Decoder\n",
    "from mpnn import MPNN\n",
    "\n",
    "class Network(nn.Module):\n",
    "    def __init__(self, latent_dim=128):\n",
    "        super(Network, self).__init__()\n",
    "        self.encoder = Encoder(2, latent_dim)\n",
    "        self.processor = MPNN(latent_dim*2, latent_dim)\n",
    "        self.decoder = Decoder(latent_dim, 1)\n",
    "\n",
    "    def forward(self, x, edge_index):\n",
    "        z = self.encoder(x)\n",
    "        h = torch.zeros(x.size(0), 128)\n",
    "        processor_input = torch.cat([z, h], dim=1)\n",
    "        x = self.processor(processor_input, edge_index)\n",
    "        x = self.decoder(x)\n",
    "        return x"
   ]
  },
  {
   "cell_type": "code",
   "execution_count": 62,
   "metadata": {},
   "outputs": [],
   "source": [
    "from torch.functional import F\n",
    "from torch import nn\n",
    "import torch\n",
    "\n",
    "class Loss(nn.Module):\n",
    "    def __init__(self):\n",
    "        super(Loss, self).__init__()\n",
    "\n",
    "    def forward(self, batch:torch.tensor, batch_pred: torch.Tensor):\n",
    "        # for every batch find the predicted and true values and send them to the calculate_loss function\n",
    "        loss_x = 0\n",
    "        loss_h = 0\n",
    "        for i in range(batch.size(0)):\n",
    "            data = batch[i]\n",
    "            x = data.reach_h[-1] # true output value\n",
    "            x_pred = batch_pred[i][-1] # predicted output value\n",
    "            h_pred = batch_pred[i][:-2] # predicted hint values\n",
    "            h = data.reach_h[:len(h_pred)] # true hint values\n",
    "            loss_x += F.binary_cross_entropy(x, x_pred)\n",
    "            print(loss_x)\n",
    "            for i in range(h.size(1)):\n",
    "                loss_h += F.binary_cross_entropy(h[:, i], h_pred[:, i])\n",
    "\n",
    "        return loss_x, loss_h"
   ]
  },
  {
   "cell_type": "code",
   "execution_count": 218,
   "metadata": {},
   "outputs": [],
   "source": [
    "import torch\n",
    "from torch import nn\n",
    "from encoder import Encoder\n",
    "from decoder import Decoder\n",
    "from mpnn import MPNN\n",
    "from loss import Loss\n",
    "from torch.functional import F\n",
    "\n",
    "class Network(nn.Module):\n",
    "    def __init__(self, latent_dim=128):\n",
    "        super(Network, self).__init__()\n",
    "        self.encoder = Encoder(2, latent_dim)\n",
    "        self.processor = MPNN(latent_dim*2, latent_dim)\n",
    "        self.decoder = Decoder(latent_dim, 1)\n",
    "\n",
    "    def forward(self, batch, max_iter=10):\n",
    "        input = torch.stack((batch.pos, batch.s), dim=1).float()\n",
    "        h = torch.zeros(input.size(0), 128) # hidden state from the processor\n",
    "        hints = batch.reach_h[1:] # hints from the reachability\n",
    "        true_output = batch.reach_h[-1] # true_output expected from the reachability\n",
    "        max_iter = hints.size(0)+1\n",
    "        predictions = torch.zeros(max_iter, input.size(0))\n",
    "\n",
    "        for i in range(max_iter):\n",
    "            z = self.encoder(input) # the encoded input\n",
    "            processor_input = torch.cat([z, h], dim=1) # the input to the processor\n",
    "            h = self.processor(processor_input, batch.edge_index.long()) # the output of the processor\n",
    "            y = self.decoder(z, h).view(batch.s.size())   # decoded state from the processor\n",
    "            predictions[i] = y\n",
    "            input = torch.stack((batch.pos, y), dim=1).float() # we update the input with the new state\n",
    "        \n",
    "        loss = self.calculate_loss(hints, predictions, true_output)\n",
    "        return y, loss\n",
    "    \n",
    "    def calculate_loss(self, hints, predictions, true_output):\n",
    "        loss_x = F.binary_cross_entropy(torch.sigmoid(predictions[-1]), true_output.type(torch.float))\n",
    "        loss_h = 0\n",
    "        for i in range(hints.size(0)):\n",
    "            loss_h += F.binary_cross_entropy(torch.sigmoid(predictions[i]), hints[i].type(torch.float))\n",
    "        return loss_x, loss_h"
   ]
  },
  {
   "cell_type": "code",
   "execution_count": 230,
   "metadata": {},
   "outputs": [],
   "source": [
    "def train(model, train_dataset, validation_dataset=None, optimizer=None, epochs=10, batch_size=5):\n",
    "    x_loss_weight = 0.5\n",
    "    h_loss_weight = 1 - x_loss_weight\n",
    "    for epoch in range(epochs):\n",
    "        batch_count = len(train_dataset) // batch_size\n",
    "        for i in range(batch_count):\n",
    "            model.train()\n",
    "            cumulated_loss = 0\n",
    "            for j in range(i*batch_size, (i+1)*batch_size):\n",
    "                graph = train_dataset[j] \n",
    "                y, loss = model(graph)\n",
    "                loss_x = loss[0] # loss for the output\n",
    "                loss_hints = loss[1] # loss for the hints\n",
    "                cumulated_loss += x_loss_weight * loss_x + h_loss_weight * loss_hints # we combine the two losses\n",
    "            \n",
    "            cumulated_loss /= batch_size\n",
    "            optimizer.zero_grad()\n",
    "            cumulated_loss.backward()\n",
    "            optimizer.step()\n",
    "\n",
    "        if validation_dataset:\n",
    "            model.eval()\n",
    "            cumulated_loss_val = 0\n",
    "            with torch.no_grad():\n",
    "                for k in range(len(validation_dataset)):\n",
    "                    graph = validation_dataset[k]\n",
    "                    y, loss = model(graph)\n",
    "                    loss_x, loss_hints = loss[0], loss[1]\n",
    "                    cumulated_loss_val += x_loss_weight * loss_x + h_loss_weight * loss_hints\n",
    "\n",
    "            cumulated_loss_val /= len(validation_dataset)\n",
    "\n",
    "            print(f'Epoch {epoch}, loss {cumulated_loss.item()}, validation loss {cumulated_loss_val}')\n",
    "        else:\n",
    "            print(f'Epoch {epoch}, loss {cumulated_loss.item()}')"
   ]
  },
  {
   "cell_type": "code",
   "execution_count": 262,
   "metadata": {},
   "outputs": [],
   "source": [
    "# split the dataset into training and testing using the train_test_split function\n",
    "from torch.utils.data import random_split\n",
    "dataset = RandomGraphDataset(root='./data', gen_num_graph=250, n=n, p=p)\n",
    "train_dataset, test_dataset = random_split(dataset, [200, 50])"
   ]
  },
  {
   "cell_type": "code",
   "execution_count": null,
   "metadata": {},
   "outputs": [],
   "source": []
  },
  {
   "cell_type": "code",
   "execution_count": 266,
   "metadata": {},
   "outputs": [
    {
     "name": "stdout",
     "output_type": "stream",
     "text": [
      "Epoch 0, loss 0.7413718104362488, validation loss 0.6330363154411316\n",
      "Epoch 1, loss 0.4730421006679535, validation loss 0.3867378234863281\n",
      "Epoch 2, loss 0.2681960463523865, validation loss 0.1946401447057724\n",
      "Epoch 3, loss 0.15708033740520477, validation loss 0.15550844371318817\n",
      "Epoch 4, loss 0.1190357431769371, validation loss 0.12149491161108017\n",
      "Epoch 5, loss 0.09066759049892426, validation loss 0.09958431869745255\n",
      "Epoch 6, loss 0.0706779882311821, validation loss 0.08389709144830704\n",
      "Epoch 7, loss 0.055640120059251785, validation loss 0.07323504984378815\n",
      "Epoch 8, loss 0.0453534796833992, validation loss 0.06688018888235092\n",
      "Epoch 9, loss 0.038753774017095566, validation loss 0.06349087506532669\n",
      "Epoch 10, loss 0.034736137837171555, validation loss 0.06185523420572281\n",
      "Epoch 11, loss 0.03240000829100609, validation loss 0.06112590804696083\n",
      "Epoch 12, loss 0.031109711155295372, validation loss 0.060816600918769836\n",
      "Epoch 13, loss 0.03044622205197811, validation loss 0.06068854779005051\n",
      "Epoch 14, loss 0.030143821612000465, validation loss 0.060637518763542175\n",
      "Epoch 15, loss 0.030036702752113342, validation loss 0.06061996519565582\n",
      "Epoch 16, loss 0.03002415969967842, validation loss 0.06061683967709541\n",
      "Epoch 17, loss 0.030048513785004616, validation loss 0.06061911955475807\n",
      "Epoch 18, loss 0.030080050230026245, validation loss 0.060622408986091614\n",
      "Epoch 19, loss 0.03010607697069645, validation loss 0.060624826699495316\n",
      "Epoch 20, loss 0.03012334741652012, validation loss 0.06062592193484306\n",
      "Epoch 21, loss 0.030132925137877464, validation loss 0.0606258362531662\n",
      "Epoch 22, loss 0.030137216672301292, validation loss 0.06062500551342964\n",
      "Epoch 23, loss 0.030138542875647545, validation loss 0.06062375381588936\n",
      "Epoch 24, loss 0.030138570815324783, validation loss 0.060622379183769226\n",
      "Epoch 25, loss 0.030138257890939713, validation loss 0.060621023178100586\n",
      "Epoch 26, loss 0.030138066038489342, validation loss 0.06061976030468941\n",
      "Epoch 27, loss 0.030138129368424416, validation loss 0.0606185719370842\n",
      "Epoch 28, loss 0.030138438567519188, validation loss 0.06061748042702675\n",
      "Epoch 29, loss 0.03013889119029045, validation loss 0.060616474598646164\n",
      "Epoch 30, loss 0.030139440670609474, validation loss 0.06061551719903946\n",
      "Epoch 31, loss 0.030140021815896034, validation loss 0.06061459705233574\n",
      "Epoch 32, loss 0.030140597373247147, validation loss 0.06061375513672829\n",
      "Epoch 33, loss 0.030141184106469154, validation loss 0.06061292067170143\n",
      "Epoch 34, loss 0.030141746625304222, validation loss 0.06061213091015816\n",
      "Epoch 35, loss 0.03014231286942959, validation loss 0.06061138957738876\n",
      "Epoch 36, loss 0.03014286980032921, validation loss 0.06061065196990967\n",
      "Epoch 37, loss 0.03014342114329338, validation loss 0.06060996651649475\n",
      "Epoch 38, loss 0.030143972486257553, validation loss 0.060609277337789536\n",
      "Epoch 39, loss 0.030144518241286278, validation loss 0.06060867756605148\n",
      "Epoch 40, loss 0.0301450677216053, validation loss 0.06060804799199104\n",
      "Epoch 41, loss 0.030145611613988876, validation loss 0.060607485473155975\n",
      "Epoch 42, loss 0.030146151781082153, validation loss 0.06060691922903061\n",
      "Epoch 43, loss 0.030146682634949684, validation loss 0.06060640513896942\n",
      "Epoch 44, loss 0.030147213488817215, validation loss 0.06060586869716644\n",
      "Epoch 45, loss 0.030147742480039597, validation loss 0.06060538813471794\n",
      "Epoch 46, loss 0.030148258432745934, validation loss 0.060604892671108246\n",
      "Epoch 47, loss 0.03014877438545227, validation loss 0.06060444936156273\n",
      "Epoch 48, loss 0.030149290338158607, validation loss 0.06060400605201721\n",
      "Epoch 49, loss 0.0301497932523489, validation loss 0.06060358136892319\n",
      "Epoch 50, loss 0.03015029802918434, validation loss 0.06060317903757095\n",
      "Epoch 51, loss 0.030150804668664932, validation loss 0.060602765530347824\n",
      "Epoch 52, loss 0.03015129640698433, validation loss 0.06060240417718887\n",
      "Epoch 53, loss 0.03015178069472313, validation loss 0.06060202047228813\n",
      "Epoch 54, loss 0.03015226684510708, validation loss 0.06060167774558067\n",
      "Epoch 55, loss 0.030152738094329834, validation loss 0.06060133874416351\n",
      "Epoch 56, loss 0.030153214931488037, validation loss 0.060600996017456055\n",
      "Epoch 57, loss 0.030153682455420494, validation loss 0.06060069426894188\n",
      "Epoch 58, loss 0.030154144391417503, validation loss 0.060600396245718\n",
      "Epoch 59, loss 0.030154604464769363, validation loss 0.06060009449720383\n",
      "Epoch 60, loss 0.030155057087540627, validation loss 0.06059980019927025\n",
      "Epoch 61, loss 0.030155500397086143, validation loss 0.06059953197836876\n",
      "Epoch 62, loss 0.03015594743192196, validation loss 0.06059926003217697\n",
      "Epoch 63, loss 0.030156388878822327, validation loss 0.060598984360694885\n",
      "Epoch 64, loss 0.03015681728720665, validation loss 0.06059873476624489\n",
      "Epoch 65, loss 0.03015724942088127, validation loss 0.06059848889708519\n",
      "Epoch 66, loss 0.0301576666533947, validation loss 0.06059824302792549\n",
      "Epoch 67, loss 0.030158093199133873, validation loss 0.060598015785217285\n",
      "Epoch 68, loss 0.0301585141569376, validation loss 0.060597777366638184\n",
      "Epoch 69, loss 0.03015892766416073, validation loss 0.06059756129980087\n",
      "Epoch 70, loss 0.030159324407577515, validation loss 0.06059735640883446\n",
      "Epoch 71, loss 0.030159730464220047, validation loss 0.06059715896844864\n",
      "Epoch 72, loss 0.03016013465821743, validation loss 0.060596954077482224\n",
      "Epoch 73, loss 0.030160527676343918, validation loss 0.06059674173593521\n",
      "Epoch 74, loss 0.030160918831825256, validation loss 0.06059657037258148\n",
      "Epoch 75, loss 0.030161306262016296, validation loss 0.06059637665748596\n",
      "Epoch 76, loss 0.030161693692207336, validation loss 0.06059620901942253\n",
      "Epoch 77, loss 0.03016206994652748, validation loss 0.0605960376560688\n",
      "Epoch 78, loss 0.030162449926137924, validation loss 0.06059585511684418\n",
      "Epoch 79, loss 0.03016282059252262, validation loss 0.060595687478780746\n",
      "Epoch 80, loss 0.03016318753361702, validation loss 0.06059553474187851\n",
      "Epoch 81, loss 0.030163561925292015, validation loss 0.060595374554395676\n",
      "Epoch 82, loss 0.03016391396522522, validation loss 0.06059523671865463\n",
      "Epoch 83, loss 0.030164267867803574, validation loss 0.0605950690805912\n",
      "Epoch 84, loss 0.030164629220962524, validation loss 0.06059492006897926\n",
      "Epoch 85, loss 0.030164986848831177, validation loss 0.06059478223323822\n",
      "Epoch 86, loss 0.030165329575538635, validation loss 0.06059464439749718\n",
      "Epoch 87, loss 0.03016568161547184, validation loss 0.060594502836465836\n",
      "Epoch 88, loss 0.0301660243421793, validation loss 0.06059436872601509\n",
      "Epoch 89, loss 0.030166367068886757, validation loss 0.06059422343969345\n",
      "Epoch 90, loss 0.03016670048236847, validation loss 0.06059412658214569\n",
      "Epoch 91, loss 0.03016703762114048, validation loss 0.06059398129582405\n",
      "Epoch 92, loss 0.030167367309331894, validation loss 0.0605938620865345\n",
      "Epoch 93, loss 0.03016769513487816, validation loss 0.06059374660253525\n",
      "Epoch 94, loss 0.030168022960424423, validation loss 0.060593634843826294\n",
      "Epoch 95, loss 0.03016834333539009, validation loss 0.06059351935982704\n",
      "Epoch 96, loss 0.030168671160936356, validation loss 0.060593415051698685\n",
      "Epoch 97, loss 0.030168980360031128, validation loss 0.060593295842409134\n",
      "Epoch 98, loss 0.030169297009706497, validation loss 0.06059318408370018\n",
      "Epoch 99, loss 0.030169611796736717, validation loss 0.06059308350086212\n"
     ]
    }
   ],
   "source": [
    "optimizer = torch.optim.Adam\n",
    "model = Network()\n",
    "lr = 0.001\n",
    "\n",
    "train(model=model, train_dataset=train_dataset, validation_dataset=test_dataset,\n",
    "      optimizer=optimizer(model.parameters(), lr=lr), epochs=100, batch_size=20)"
   ]
  },
  {
   "cell_type": "code",
   "execution_count": 259,
   "metadata": {},
   "outputs": [
    {
     "name": "stdout",
     "output_type": "stream",
     "text": [
      "tensor([1., 1., 1., 1., 1., 1.], dtype=torch.float64)\n",
      "tensor([1., 1., 1., 1., 1., 1.], grad_fn=<SigmoidBackward0>)\n"
     ]
    }
   ],
   "source": [
    "i =31\n",
    "graph = test_dataset[i]\n",
    "print(graph.reach_h[-1])\n",
    "print(torch.sigmoid(model(graph)[0]))"
   ]
  },
  {
   "cell_type": "code",
   "execution_count": 238,
   "metadata": {},
   "outputs": [
    {
     "data": {
      "text/plain": [
       "tensor([3500525.5000, 3524301.5000, 3249399.0000, 3501471.5000, 3512054.0000,\n",
       "        3518177.7500], grad_fn=<ViewBackward0>)"
      ]
     },
     "execution_count": 238,
     "metadata": {},
     "output_type": "execute_result"
    }
   ],
   "source": [
    "model(graph)[0]"
   ]
  },
  {
   "cell_type": "code",
   "execution_count": 10,
   "metadata": {},
   "outputs": [
    {
     "data": {
      "text/plain": [
       "tensor([[0.0000, 0.0000],\n",
       "        [0.1667, 1.0000],\n",
       "        [0.3333, 0.0000],\n",
       "        [0.5000, 0.0000],\n",
       "        [0.6667, 0.0000],\n",
       "        [0.8333, 0.0000]])"
      ]
     },
     "execution_count": 10,
     "metadata": {},
     "output_type": "execute_result"
    }
   ],
   "source": [
    "input"
   ]
  },
  {
   "cell_type": "code",
   "execution_count": 9,
   "metadata": {},
   "outputs": [
    {
     "data": {
      "text/plain": [
       "tensor([[-0.0748],\n",
       "        [-0.0829],\n",
       "        [-0.0641],\n",
       "        [-0.0551],\n",
       "        [-0.0525],\n",
       "        [-0.0458]], grad_fn=<AddmmBackward0>)"
      ]
     },
     "execution_count": 9,
     "metadata": {},
     "output_type": "execute_result"
    }
   ],
   "source": [
    "Network().forward(input, dataset[0].edge_index)"
   ]
  },
  {
   "cell_type": "code",
   "execution_count": 177,
   "metadata": {},
   "outputs": [],
   "source": [
    "class Encoder(nn.Module):\n",
    "    def __init__(self, input_dim, hidden_dim=128):\n",
    "        super(Encoder, self).__init__()\n",
    "        self.input_dim = input_dim\n",
    "        self.hidden_dim = hidden_dim\n",
    "        self.lin = nn.Linear(input_dim, hidden_dim)\n",
    "\n",
    "    def forward(self, x):\n",
    "        if x.dim() == 1:\n",
    "            x = x.unsqueeze(-1)\n",
    "        return self.lin(x)"
   ]
  },
  {
   "cell_type": "code",
   "execution_count": 122,
   "metadata": {},
   "outputs": [],
   "source": [
    "encoder = Encoder(2)\n",
    "z = encoder(input)"
   ]
  },
  {
   "cell_type": "code",
   "execution_count": 124,
   "metadata": {},
   "outputs": [],
   "source": [
    "h = torch.zeros(input.size(0), 128)"
   ]
  },
  {
   "cell_type": "code",
   "execution_count": 125,
   "metadata": {},
   "outputs": [
    {
     "data": {
      "text/plain": [
       "torch.Size([6, 256])"
      ]
     },
     "execution_count": 125,
     "metadata": {},
     "output_type": "execute_result"
    }
   ],
   "source": [
    "z_ = torch.cat([z, h], dim=1)\n",
    "z_.size()"
   ]
  },
  {
   "cell_type": "code",
   "execution_count": 159,
   "metadata": {},
   "outputs": [],
   "source": [
    "import torch\n",
    "from torch_geometric.nn import MessagePassing\n",
    "from torch.nn import Linear\n",
    "\n",
    "class MPNN(MessagePassing):\n",
    "  def __init__(self, in_channels, hidden_channels, activation=None):\n",
    "    super(MPNN, self).__init__(aggr='max') #  \"Max\" aggregation.\n",
    "    self.in_channels = in_channels\n",
    "    self.hidden_channels = hidden_channels\n",
    "    self.messages = Linear(self.in_channels * 2, self.hidden_channels)\n",
    "    self.update_fn = Linear(self.in_channels + self.hidden_channels, self.hidden_channels)\n",
    "    self.activation = activation\n",
    "\n",
    "    self.mlp = torch.nn.Sequential(\n",
    "        Linear(hidden_channels, hidden_channels),\n",
    "        torch.nn.ReLU(),\n",
    "        Linear(hidden_channels, self.hidden_channels)\n",
    "    )\n",
    "    \n",
    "  def forward(self, x, edge_index):\n",
    "    out = self.propagate(edge_index, x=x)\n",
    "    out = self.mlp(out)\n",
    "    if self.activation is not None:\n",
    "      out = self.activation(out)\n",
    "    return out\n",
    "    \n",
    "  def message(self, x_i, x_j):\n",
    "    # x_i has shape [E, in_channels]\n",
    "    # x_j has shape [E, in_channels]\n",
    "    #print('MPNN => xi, xj', x_i.size(), x_j.size())\n",
    "    tmp = torch.cat([x_i, x_j], dim=1)  # tmp has shape [E, 2 * in_channels]\n",
    "    #print('MPNN => messages IN', tmp.size())\n",
    "    m = self.messages(tmp)\n",
    "    #print('MPNN => messages OUT', m.size())\n",
    "    return m\n",
    "  \n",
    "  def update(self, aggr_out, x):\n",
    "    # aggr_out has shape [N, out_channels]\n",
    "    # x has shape [N, in_channels]\n",
    "    #print(f'MPNN => x_i', x.size(), ' aggr_out ', aggr_out.size())\n",
    "    tmp = torch.cat([x, aggr_out], dim=1)\n",
    "    #print(f'MPNN => tmp', tmp.size())\n",
    "    return self.update_fn(tmp)"
   ]
  },
  {
   "cell_type": "code",
   "execution_count": 160,
   "metadata": {},
   "outputs": [],
   "source": [
    "processor = MPNN(256, 128)"
   ]
  },
  {
   "cell_type": "code",
   "execution_count": 161,
   "metadata": {},
   "outputs": [],
   "source": [
    "hi = processor(z_, dataset[0].edge_index)"
   ]
  },
  {
   "cell_type": "code",
   "execution_count": 162,
   "metadata": {},
   "outputs": [
    {
     "data": {
      "text/plain": [
       "torch.Size([6, 128])"
      ]
     },
     "execution_count": 162,
     "metadata": {},
     "output_type": "execute_result"
    }
   ],
   "source": [
    "hi.size()"
   ]
  },
  {
   "cell_type": "code",
   "execution_count": null,
   "metadata": {},
   "outputs": [],
   "source": []
  }
 ],
 "metadata": {
  "kernelspec": {
   "display_name": "base",
   "language": "python",
   "name": "python3"
  },
  "language_info": {
   "codemirror_mode": {
    "name": "ipython",
    "version": 3
   },
   "file_extension": ".py",
   "mimetype": "text/x-python",
   "name": "python",
   "nbconvert_exporter": "python",
   "pygments_lexer": "ipython3",
   "version": "3.11.4"
  }
 },
 "nbformat": 4,
 "nbformat_minor": 2
}
