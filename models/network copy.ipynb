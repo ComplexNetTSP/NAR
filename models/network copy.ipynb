{
 "cells": [
  {
   "cell_type": "code",
   "execution_count": 6,
   "metadata": {},
   "outputs": [],
   "source": [
    "# import generator from '../data/generator.py'\n",
    "import sys\n",
    "import os\n",
    "from generator import RandomGraphDataset"
   ]
  },
  {
   "cell_type": "markdown",
   "metadata": {},
   "source": [
    "# Graph Generation"
   ]
  },
  {
   "cell_type": "code",
   "execution_count": 7,
   "metadata": {},
   "outputs": [],
   "source": [
    "n = [20, 100]\n",
    "p = 0.3\n",
    "\n",
    "dataset = RandomGraphDataset(root='./data', gen_num_graph=100, n=n, p=p)"
   ]
  },
  {
   "cell_type": "code",
   "execution_count": 10,
   "metadata": {},
   "outputs": [],
   "source": [
    "import torch\n",
    "from torch import nn\n",
    "from encoder import Encoder\n",
    "from decoder import Decoder\n",
    "from mpnn import MPNN\n",
    "from torch.functional import F\n",
    "\n",
    "class Network(nn.Module):\n",
    "    def __init__(self, latent_dim=128):\n",
    "        super(Network, self).__init__()\n",
    "        self.encoder = Encoder(2, latent_dim)\n",
    "        self.processor = MPNN(latent_dim*2, latent_dim)\n",
    "        self.decoder = Decoder(latent_dim, 1)\n",
    "\n",
    "    def forward(self, batch, max_iter=10):\n",
    "        input = torch.stack((batch.pos, batch.s), dim=1).float()\n",
    "        h = torch.zeros(input.size(0), 128) # hidden state from the processor\n",
    "        hints_edges = batch.pi_h[1:] # hints if an edge was passed or not\n",
    "        true_output = batch.pi # true_output for all the edges if they were passed or not at the end.\n",
    "        max_iter = hints_edges.size(0)\n",
    "\n",
    "        hints_reach = batch.reach_h[1:] # hints from the reachability\n",
    "        true_output_reach = batch.reach_h[-1] # true_output expected from the reachability\n",
    "        \n",
    "        predictions_edges = torch.zeros(max_iter, batch.pi.size(0))\n",
    "        predictions_reach = torch.zeros(max_iter, batch.s.size(0))\n",
    "        predictions_parents = torch.zeros(max_iter, batch.s.size(0))\n",
    "        real_parents = torch.zeros(max_iter, batch.s.size(0))\n",
    "\n",
    "        for i in range(max_iter):\n",
    "            # NETWORK START\n",
    "            z = self.encoder(input) # the encoded input\n",
    "            processor_input = torch.cat([z, h], dim=1) # the input to the processor\n",
    "            h = self.processor(processor_input, batch.edge_index.long()) # the output of the processor\n",
    "            decoder_input = torch.cat((h[batch.edge_index[0]], h[batch.edge_index[1]]), dim=1)\n",
    "            alpha = self.decoder(decoder_input).view(batch.pi.size(0))\n",
    "            # NETWORK END\n",
    "\n",
    "            # predictions for the edges\n",
    "            predictions_edges[i] = alpha.view(batch.pi.size(0))\n",
    "\n",
    "            # predictions for the reachability\n",
    "            predictions_reach[i] = self.calculate_reach(batch, alpha)\n",
    "            # update the input with the new state\n",
    "            input = torch.stack((batch.pos, predictions_reach[i]), dim=1).float()\n",
    "\n",
    "            # predictions for the parents\n",
    "            predictions_parents[i] = self.calculate_parents(alpha, batch.edge_index, batch.s)\n",
    "            real_parents[i] = self.calculate_parents(batch.pi_h[i], batch.edge_index, batch.s)\n",
    "            \n",
    "        loss_edges = self.calculate_loss(hints_edges, predictions_edges, true_output)\n",
    "        loss_reach = self.calculate_loss(hints_reach, predictions_reach, true_output_reach)\n",
    "        loss_parents = self.calculate_parents_loss(real_parents, predictions_parents, real_parents[-1])\n",
    "        \n",
    "        return loss_edges, loss_reach, loss_parents\n",
    "    \n",
    "    def calculate_loss(self, hints, predictions, true_output):\n",
    "        loss_x = F.binary_cross_entropy(predictions[-1], true_output.type(torch.float))\n",
    "        loss_h = 0\n",
    "        for i in range(hints.size(0)):\n",
    "            loss_h += F.binary_cross_entropy(predictions[i], hints[i].type(torch.float))\n",
    "        return loss_x, loss_h\n",
    "    \n",
    "    def calculate_reach(self, graph, alpha):\n",
    "        \"\"\"\n",
    "        Calculate reachability values for each node from the alpha values\n",
    "\n",
    "        Args:\n",
    "        - batch: PyTorch tensor or object containing graph data\n",
    "        - alpha: PyTorch tensor containing alpha values\n",
    "\n",
    "        Returns:\n",
    "        - y: PyTorch tensor containing reachability values for each node\n",
    "        \"\"\"\n",
    "        y = torch.zeros((len(graph.s)))\n",
    "        for node_index in range(0, len(graph.s)):\n",
    "            alpha_max_proba = alpha[torch.logical_or(graph.edge_index[0] == node_index, graph.edge_index[1] == node_index)].max()\n",
    "            if alpha_max_proba.item() >= 0.8:\n",
    "                y[node_index] = 1\n",
    "        return y\n",
    "    \n",
    "    def calculate_parents(self, pi, edge_index, s):\n",
    "        parents = torch.full((len(s),), -1, dtype=torch.long)\n",
    "        for child in range(len(s)):\n",
    "            indices = (edge_index[1] == child).nonzero(as_tuple=False).squeeze()\n",
    "            passed_indices = indices[pi[indices] == 1]\n",
    "            if passed_indices.numel() > 0:\n",
    "                parent_index = edge_index[0, passed_indices[0]]\n",
    "                parents[child] = parent_index.item()\n",
    "        return parents\n",
    "    \n",
    "    def calculate_parents_loss(self, real_parents, predictions_parents, final_parents):\n",
    "        loss_x = torch.mean(torch.eq(predictions_parents[-1], final_parents).float())\n",
    "        loss_h = 0\n",
    "        for i in range(real_parents.size(0)):\n",
    "            loss_h += torch.mean(torch.eq(predictions_parents[i], real_parents[i]).float())\n",
    "        return 1 - loss_x, 1 - loss_h/real_parents.size(0)"
   ]
  },
  {
   "cell_type": "code",
   "execution_count": 11,
   "metadata": {},
   "outputs": [],
   "source": [
    "def train(model, train_dataset, validation_dataset=None, optimizer=None, epochs=10, batch_size=5):\n",
    "    x_loss_weight = 0.5\n",
    "    h_loss_weight = 1 - x_loss_weight\n",
    "\n",
    "    loss_edges_train, loss_reach_train, loss_parents_train = [], [], []\n",
    "\n",
    "    for epoch in range(epochs):\n",
    "        batch_count = len(train_dataset) // batch_size\n",
    "        for i in range(batch_count):\n",
    "            model.train()\n",
    "            cumulated_loss_edges, cumulated_loss_reach, cumulated_loss_parents = 0, 0, 0\n",
    "            for j in range(i * batch_size, (i + 1) * batch_size):\n",
    "                graph = train_dataset[j] \n",
    "                loss_edges, loss_reach, loss_parents = model(graph)\n",
    "                loss_edges_output, loss_edges_hints = loss_edges[0], loss_edges[1]  # loss for the edges\n",
    "                loss_reach_output, loss_reach_hints = loss_reach[0], loss_reach[1]  # loss for the reachability\n",
    "                loss_parents_output, loss_parents_hints = loss_parents[0], loss_parents[1]  # loss for the parents\n",
    "\n",
    "                cumulated_loss_edges += x_loss_weight * loss_edges_output + h_loss_weight * loss_edges_hints\n",
    "                cumulated_loss_reach += x_loss_weight * loss_reach_output + h_loss_weight * loss_reach_hints\n",
    "                cumulated_loss_parents += x_loss_weight * loss_parents_output + h_loss_weight * loss_parents_hints\n",
    "            \n",
    "            cumulated_loss_edges /= batch_size\n",
    "            cumulated_loss_reach /= batch_size\n",
    "            cumulated_loss_parents /= batch_size\n",
    "            \n",
    "            optimizer.zero_grad()\n",
    "            cumulated_loss_edges.backward()\n",
    "            optimizer.step()\n",
    "\n",
    "            # Convert tensors to lists and append to the respective lists\n",
    "            loss_edges_train.append(cumulated_loss_edges.item())\n",
    "            loss_reach_train.append(cumulated_loss_reach.item())\n",
    "            loss_parents_train.append(cumulated_loss_parents.item())\n",
    "\n",
    "        if validation_dataset:\n",
    "            loss_edges_val, loss_reach_val, loss_parents_val = [], [], []\n",
    "\n",
    "            model.eval()\n",
    "            cumulated_loss_edges_val, cumulated_loss_reach_val, cumulated_loss_parents_val = 0, 0, 0\n",
    "            with torch.no_grad():\n",
    "                for k in range(len(validation_dataset)):\n",
    "                    graph = validation_dataset[k]\n",
    "                    loss_edges, loss_reach, loss_parents = model(graph)\n",
    "                    loss_edges_output, loss_edges_hints = loss_edges[0], loss_edges[1]  # loss for the edges\n",
    "                    loss_reach_output, loss_reach_hints = loss_reach[0], loss_reach[1]  # loss for the reachability\n",
    "                    loss_parents_output, loss_parents_hints = loss_parents[0], loss_parents[1]  # loss for the parents\n",
    "                    \n",
    "                    cumulated_loss_edges_val += x_loss_weight * loss_edges_output + h_loss_weight * loss_edges_hints\n",
    "                    cumulated_loss_reach_val += x_loss_weight * loss_reach_output + h_loss_weight * loss_reach_hints\n",
    "                    cumulated_loss_parents_val += x_loss_weight * loss_parents_output + h_loss_weight * loss_parents_hints\n",
    "\n",
    "                cumulated_loss_edges_val /= len(validation_dataset)\n",
    "                cumulated_loss_reach_val /= len(validation_dataset)\n",
    "                cumulated_loss_parents_val /= len(validation_dataset)\n",
    "\n",
    "                loss_edges_val.append(cumulated_loss_edges_val.item())\n",
    "                loss_reach_val.append(cumulated_loss_reach_val.item())\n",
    "                loss_parents_val.append(cumulated_loss_parents_val.item())\n",
    "\n",
    "            print(f'Epoch {epoch}, loss_edges {cumulated_loss_edges.item()}, loss_reach {cumulated_loss_reach.item()}, loss_parents {cumulated_loss_parents.item()}')\n",
    "            print(f'Validation: Epoch {epoch}, loss_edges {cumulated_loss_edges_val.item()}, loss_reach {cumulated_loss_reach_val.item()}, loss_parents {cumulated_loss_parents_val.item()}')\n",
    "        else:\n",
    "            print(f'Epoch {epoch}, loss_edges {cumulated_loss_edges.item()}, loss_reach {cumulated_loss_reach.item()}, loss_parents {cumulated_loss_parents.item()}')\n",
    "\n",
    "    return loss_edges_train, loss_reach_train, loss_parents_train\n",
    "\n"
   ]
  },
  {
   "cell_type": "code",
   "execution_count": 12,
   "metadata": {},
   "outputs": [],
   "source": [
    "# split the dataset into training and testing using the train_test_split function\n",
    "from torch.utils.data import random_split\n",
    "from generator import RandomGraphDataset\n",
    "n=[20, 50]\n",
    "p=0.3\n",
    "dataset = RandomGraphDataset(root='./data/medium', gen_num_graph=200, n=n, p=p)\n",
    "train_dataset, test_dataset = random_split(dataset, [150, 50])"
   ]
  },
  {
   "cell_type": "code",
   "execution_count": 20,
   "metadata": {},
   "outputs": [
    {
     "ename": "RuntimeError",
     "evalue": "Expected all tensors to be on the same device, but found at least two devices, cuda:0 and cpu! (when checking argument for argument mat1 in method wrapper_CUDA_addmm)",
     "output_type": "error",
     "traceback": [
      "\u001b[0;31m---------------------------------------------------------------------------\u001b[0m",
      "\u001b[0;31mRuntimeError\u001b[0m                              Traceback (most recent call last)",
      "Cell \u001b[0;32mIn[20], line 10\u001b[0m\n\u001b[1;32m      7\u001b[0m model\u001b[38;5;241m.\u001b[39mto(device)\n\u001b[1;32m      8\u001b[0m optimizer \u001b[38;5;241m=\u001b[39m torch\u001b[38;5;241m.\u001b[39moptim\u001b[38;5;241m.\u001b[39mAdam\n\u001b[0;32m---> 10\u001b[0m loss_edges_train, loss_reach_train, loss_parents_train \u001b[38;5;241m=\u001b[39m \u001b[43mtrain\u001b[49m\u001b[43m(\u001b[49m\u001b[43mmodel\u001b[49m\u001b[38;5;241;43m=\u001b[39;49m\u001b[43mmodel\u001b[49m\u001b[43m,\u001b[49m\u001b[43m \u001b[49m\u001b[43mtrain_dataset\u001b[49m\u001b[38;5;241;43m=\u001b[39;49m\u001b[43mtrain_dataset\u001b[49m\u001b[43m,\u001b[49m\n\u001b[1;32m     11\u001b[0m \u001b[43m      \u001b[49m\u001b[43moptimizer\u001b[49m\u001b[38;5;241;43m=\u001b[39;49m\u001b[43moptimizer\u001b[49m\u001b[43m(\u001b[49m\u001b[43mmodel\u001b[49m\u001b[38;5;241;43m.\u001b[39;49m\u001b[43mparameters\u001b[49m\u001b[43m(\u001b[49m\u001b[43m)\u001b[49m\u001b[43m,\u001b[49m\u001b[43m \u001b[49m\u001b[43mlr\u001b[49m\u001b[38;5;241;43m=\u001b[39;49m\u001b[43mlr\u001b[49m\u001b[43m)\u001b[49m\u001b[43m,\u001b[49m\u001b[43m \u001b[49m\u001b[43mepochs\u001b[49m\u001b[38;5;241;43m=\u001b[39;49m\u001b[38;5;241;43m10\u001b[39;49m\u001b[43m,\u001b[49m\u001b[43m \u001b[49m\u001b[43mbatch_size\u001b[49m\u001b[38;5;241;43m=\u001b[39;49m\u001b[38;5;241;43m32\u001b[39;49m\u001b[43m)\u001b[49m\n",
      "Cell \u001b[0;32mIn[11], line 14\u001b[0m, in \u001b[0;36mtrain\u001b[0;34m(model, train_dataset, validation_dataset, optimizer, epochs, batch_size)\u001b[0m\n\u001b[1;32m     12\u001b[0m \u001b[38;5;28;01mfor\u001b[39;00m j \u001b[38;5;129;01min\u001b[39;00m \u001b[38;5;28mrange\u001b[39m(i \u001b[38;5;241m*\u001b[39m batch_size, (i \u001b[38;5;241m+\u001b[39m \u001b[38;5;241m1\u001b[39m) \u001b[38;5;241m*\u001b[39m batch_size):\n\u001b[1;32m     13\u001b[0m     graph \u001b[38;5;241m=\u001b[39m train_dataset[j] \n\u001b[0;32m---> 14\u001b[0m     loss_edges, loss_reach, loss_parents \u001b[38;5;241m=\u001b[39m \u001b[43mmodel\u001b[49m\u001b[43m(\u001b[49m\u001b[43mgraph\u001b[49m\u001b[43m)\u001b[49m\n\u001b[1;32m     15\u001b[0m     loss_edges_output, loss_edges_hints \u001b[38;5;241m=\u001b[39m loss_edges[\u001b[38;5;241m0\u001b[39m], loss_edges[\u001b[38;5;241m1\u001b[39m]  \u001b[38;5;66;03m# loss for the edges\u001b[39;00m\n\u001b[1;32m     16\u001b[0m     loss_reach_output, loss_reach_hints \u001b[38;5;241m=\u001b[39m loss_reach[\u001b[38;5;241m0\u001b[39m], loss_reach[\u001b[38;5;241m1\u001b[39m]  \u001b[38;5;66;03m# loss for the reachability\u001b[39;00m\n",
      "File \u001b[0;32m~/.conda/envs/NAR/lib/python3.8/site-packages/torch/nn/modules/module.py:1518\u001b[0m, in \u001b[0;36mModule._wrapped_call_impl\u001b[0;34m(self, *args, **kwargs)\u001b[0m\n\u001b[1;32m   1516\u001b[0m     \u001b[38;5;28;01mreturn\u001b[39;00m \u001b[38;5;28mself\u001b[39m\u001b[38;5;241m.\u001b[39m_compiled_call_impl(\u001b[38;5;241m*\u001b[39margs, \u001b[38;5;241m*\u001b[39m\u001b[38;5;241m*\u001b[39mkwargs)  \u001b[38;5;66;03m# type: ignore[misc]\u001b[39;00m\n\u001b[1;32m   1517\u001b[0m \u001b[38;5;28;01melse\u001b[39;00m:\n\u001b[0;32m-> 1518\u001b[0m     \u001b[38;5;28;01mreturn\u001b[39;00m \u001b[38;5;28;43mself\u001b[39;49m\u001b[38;5;241;43m.\u001b[39;49m\u001b[43m_call_impl\u001b[49m\u001b[43m(\u001b[49m\u001b[38;5;241;43m*\u001b[39;49m\u001b[43margs\u001b[49m\u001b[43m,\u001b[49m\u001b[43m \u001b[49m\u001b[38;5;241;43m*\u001b[39;49m\u001b[38;5;241;43m*\u001b[39;49m\u001b[43mkwargs\u001b[49m\u001b[43m)\u001b[49m\n",
      "File \u001b[0;32m~/.conda/envs/NAR/lib/python3.8/site-packages/torch/nn/modules/module.py:1527\u001b[0m, in \u001b[0;36mModule._call_impl\u001b[0;34m(self, *args, **kwargs)\u001b[0m\n\u001b[1;32m   1522\u001b[0m \u001b[38;5;66;03m# If we don't have any hooks, we want to skip the rest of the logic in\u001b[39;00m\n\u001b[1;32m   1523\u001b[0m \u001b[38;5;66;03m# this function, and just call forward.\u001b[39;00m\n\u001b[1;32m   1524\u001b[0m \u001b[38;5;28;01mif\u001b[39;00m \u001b[38;5;129;01mnot\u001b[39;00m (\u001b[38;5;28mself\u001b[39m\u001b[38;5;241m.\u001b[39m_backward_hooks \u001b[38;5;129;01mor\u001b[39;00m \u001b[38;5;28mself\u001b[39m\u001b[38;5;241m.\u001b[39m_backward_pre_hooks \u001b[38;5;129;01mor\u001b[39;00m \u001b[38;5;28mself\u001b[39m\u001b[38;5;241m.\u001b[39m_forward_hooks \u001b[38;5;129;01mor\u001b[39;00m \u001b[38;5;28mself\u001b[39m\u001b[38;5;241m.\u001b[39m_forward_pre_hooks\n\u001b[1;32m   1525\u001b[0m         \u001b[38;5;129;01mor\u001b[39;00m _global_backward_pre_hooks \u001b[38;5;129;01mor\u001b[39;00m _global_backward_hooks\n\u001b[1;32m   1526\u001b[0m         \u001b[38;5;129;01mor\u001b[39;00m _global_forward_hooks \u001b[38;5;129;01mor\u001b[39;00m _global_forward_pre_hooks):\n\u001b[0;32m-> 1527\u001b[0m     \u001b[38;5;28;01mreturn\u001b[39;00m \u001b[43mforward_call\u001b[49m\u001b[43m(\u001b[49m\u001b[38;5;241;43m*\u001b[39;49m\u001b[43margs\u001b[49m\u001b[43m,\u001b[49m\u001b[43m \u001b[49m\u001b[38;5;241;43m*\u001b[39;49m\u001b[38;5;241;43m*\u001b[39;49m\u001b[43mkwargs\u001b[49m\u001b[43m)\u001b[49m\n\u001b[1;32m   1529\u001b[0m \u001b[38;5;28;01mtry\u001b[39;00m:\n\u001b[1;32m   1530\u001b[0m     result \u001b[38;5;241m=\u001b[39m \u001b[38;5;28;01mNone\u001b[39;00m\n",
      "Cell \u001b[0;32mIn[10], line 32\u001b[0m, in \u001b[0;36mNetwork.forward\u001b[0;34m(self, batch, max_iter)\u001b[0m\n\u001b[1;32m     28\u001b[0m real_parents \u001b[38;5;241m=\u001b[39m torch\u001b[38;5;241m.\u001b[39mzeros(max_iter, batch\u001b[38;5;241m.\u001b[39ms\u001b[38;5;241m.\u001b[39msize(\u001b[38;5;241m0\u001b[39m))\n\u001b[1;32m     30\u001b[0m \u001b[38;5;28;01mfor\u001b[39;00m i \u001b[38;5;129;01min\u001b[39;00m \u001b[38;5;28mrange\u001b[39m(max_iter):\n\u001b[1;32m     31\u001b[0m     \u001b[38;5;66;03m# NETWORK START\u001b[39;00m\n\u001b[0;32m---> 32\u001b[0m     z \u001b[38;5;241m=\u001b[39m \u001b[38;5;28;43mself\u001b[39;49m\u001b[38;5;241;43m.\u001b[39;49m\u001b[43mencoder\u001b[49m\u001b[43m(\u001b[49m\u001b[38;5;28;43minput\u001b[39;49m\u001b[43m)\u001b[49m \u001b[38;5;66;03m# the encoded input\u001b[39;00m\n\u001b[1;32m     33\u001b[0m     processor_input \u001b[38;5;241m=\u001b[39m torch\u001b[38;5;241m.\u001b[39mcat([z, h], dim\u001b[38;5;241m=\u001b[39m\u001b[38;5;241m1\u001b[39m) \u001b[38;5;66;03m# the input to the processor\u001b[39;00m\n\u001b[1;32m     34\u001b[0m     h \u001b[38;5;241m=\u001b[39m \u001b[38;5;28mself\u001b[39m\u001b[38;5;241m.\u001b[39mprocessor(processor_input, batch\u001b[38;5;241m.\u001b[39medge_index\u001b[38;5;241m.\u001b[39mlong()) \u001b[38;5;66;03m# the output of the processor\u001b[39;00m\n",
      "File \u001b[0;32m~/.conda/envs/NAR/lib/python3.8/site-packages/torch/nn/modules/module.py:1518\u001b[0m, in \u001b[0;36mModule._wrapped_call_impl\u001b[0;34m(self, *args, **kwargs)\u001b[0m\n\u001b[1;32m   1516\u001b[0m     \u001b[38;5;28;01mreturn\u001b[39;00m \u001b[38;5;28mself\u001b[39m\u001b[38;5;241m.\u001b[39m_compiled_call_impl(\u001b[38;5;241m*\u001b[39margs, \u001b[38;5;241m*\u001b[39m\u001b[38;5;241m*\u001b[39mkwargs)  \u001b[38;5;66;03m# type: ignore[misc]\u001b[39;00m\n\u001b[1;32m   1517\u001b[0m \u001b[38;5;28;01melse\u001b[39;00m:\n\u001b[0;32m-> 1518\u001b[0m     \u001b[38;5;28;01mreturn\u001b[39;00m \u001b[38;5;28;43mself\u001b[39;49m\u001b[38;5;241;43m.\u001b[39;49m\u001b[43m_call_impl\u001b[49m\u001b[43m(\u001b[49m\u001b[38;5;241;43m*\u001b[39;49m\u001b[43margs\u001b[49m\u001b[43m,\u001b[49m\u001b[43m \u001b[49m\u001b[38;5;241;43m*\u001b[39;49m\u001b[38;5;241;43m*\u001b[39;49m\u001b[43mkwargs\u001b[49m\u001b[43m)\u001b[49m\n",
      "File \u001b[0;32m~/.conda/envs/NAR/lib/python3.8/site-packages/torch/nn/modules/module.py:1527\u001b[0m, in \u001b[0;36mModule._call_impl\u001b[0;34m(self, *args, **kwargs)\u001b[0m\n\u001b[1;32m   1522\u001b[0m \u001b[38;5;66;03m# If we don't have any hooks, we want to skip the rest of the logic in\u001b[39;00m\n\u001b[1;32m   1523\u001b[0m \u001b[38;5;66;03m# this function, and just call forward.\u001b[39;00m\n\u001b[1;32m   1524\u001b[0m \u001b[38;5;28;01mif\u001b[39;00m \u001b[38;5;129;01mnot\u001b[39;00m (\u001b[38;5;28mself\u001b[39m\u001b[38;5;241m.\u001b[39m_backward_hooks \u001b[38;5;129;01mor\u001b[39;00m \u001b[38;5;28mself\u001b[39m\u001b[38;5;241m.\u001b[39m_backward_pre_hooks \u001b[38;5;129;01mor\u001b[39;00m \u001b[38;5;28mself\u001b[39m\u001b[38;5;241m.\u001b[39m_forward_hooks \u001b[38;5;129;01mor\u001b[39;00m \u001b[38;5;28mself\u001b[39m\u001b[38;5;241m.\u001b[39m_forward_pre_hooks\n\u001b[1;32m   1525\u001b[0m         \u001b[38;5;129;01mor\u001b[39;00m _global_backward_pre_hooks \u001b[38;5;129;01mor\u001b[39;00m _global_backward_hooks\n\u001b[1;32m   1526\u001b[0m         \u001b[38;5;129;01mor\u001b[39;00m _global_forward_hooks \u001b[38;5;129;01mor\u001b[39;00m _global_forward_pre_hooks):\n\u001b[0;32m-> 1527\u001b[0m     \u001b[38;5;28;01mreturn\u001b[39;00m \u001b[43mforward_call\u001b[49m\u001b[43m(\u001b[49m\u001b[38;5;241;43m*\u001b[39;49m\u001b[43margs\u001b[49m\u001b[43m,\u001b[49m\u001b[43m \u001b[49m\u001b[38;5;241;43m*\u001b[39;49m\u001b[38;5;241;43m*\u001b[39;49m\u001b[43mkwargs\u001b[49m\u001b[43m)\u001b[49m\n\u001b[1;32m   1529\u001b[0m \u001b[38;5;28;01mtry\u001b[39;00m:\n\u001b[1;32m   1530\u001b[0m     result \u001b[38;5;241m=\u001b[39m \u001b[38;5;28;01mNone\u001b[39;00m\n",
      "File \u001b[0;32m~/work/NAR/models/encoder.py:14\u001b[0m, in \u001b[0;36mEncoder.forward\u001b[0;34m(self, x)\u001b[0m\n\u001b[1;32m     12\u001b[0m \u001b[38;5;28;01mif\u001b[39;00m x\u001b[38;5;241m.\u001b[39mdim() \u001b[38;5;241m==\u001b[39m \u001b[38;5;241m1\u001b[39m:\n\u001b[1;32m     13\u001b[0m     x \u001b[38;5;241m=\u001b[39m x\u001b[38;5;241m.\u001b[39munsqueeze(\u001b[38;5;241m-\u001b[39m\u001b[38;5;241m1\u001b[39m)\n\u001b[0;32m---> 14\u001b[0m \u001b[38;5;28;01mreturn\u001b[39;00m \u001b[38;5;28;43mself\u001b[39;49m\u001b[38;5;241;43m.\u001b[39;49m\u001b[43mlin\u001b[49m\u001b[43m(\u001b[49m\u001b[43mx\u001b[49m\u001b[43m)\u001b[49m\n",
      "File \u001b[0;32m~/.conda/envs/NAR/lib/python3.8/site-packages/torch/nn/modules/module.py:1518\u001b[0m, in \u001b[0;36mModule._wrapped_call_impl\u001b[0;34m(self, *args, **kwargs)\u001b[0m\n\u001b[1;32m   1516\u001b[0m     \u001b[38;5;28;01mreturn\u001b[39;00m \u001b[38;5;28mself\u001b[39m\u001b[38;5;241m.\u001b[39m_compiled_call_impl(\u001b[38;5;241m*\u001b[39margs, \u001b[38;5;241m*\u001b[39m\u001b[38;5;241m*\u001b[39mkwargs)  \u001b[38;5;66;03m# type: ignore[misc]\u001b[39;00m\n\u001b[1;32m   1517\u001b[0m \u001b[38;5;28;01melse\u001b[39;00m:\n\u001b[0;32m-> 1518\u001b[0m     \u001b[38;5;28;01mreturn\u001b[39;00m \u001b[38;5;28;43mself\u001b[39;49m\u001b[38;5;241;43m.\u001b[39;49m\u001b[43m_call_impl\u001b[49m\u001b[43m(\u001b[49m\u001b[38;5;241;43m*\u001b[39;49m\u001b[43margs\u001b[49m\u001b[43m,\u001b[49m\u001b[43m \u001b[49m\u001b[38;5;241;43m*\u001b[39;49m\u001b[38;5;241;43m*\u001b[39;49m\u001b[43mkwargs\u001b[49m\u001b[43m)\u001b[49m\n",
      "File \u001b[0;32m~/.conda/envs/NAR/lib/python3.8/site-packages/torch/nn/modules/module.py:1527\u001b[0m, in \u001b[0;36mModule._call_impl\u001b[0;34m(self, *args, **kwargs)\u001b[0m\n\u001b[1;32m   1522\u001b[0m \u001b[38;5;66;03m# If we don't have any hooks, we want to skip the rest of the logic in\u001b[39;00m\n\u001b[1;32m   1523\u001b[0m \u001b[38;5;66;03m# this function, and just call forward.\u001b[39;00m\n\u001b[1;32m   1524\u001b[0m \u001b[38;5;28;01mif\u001b[39;00m \u001b[38;5;129;01mnot\u001b[39;00m (\u001b[38;5;28mself\u001b[39m\u001b[38;5;241m.\u001b[39m_backward_hooks \u001b[38;5;129;01mor\u001b[39;00m \u001b[38;5;28mself\u001b[39m\u001b[38;5;241m.\u001b[39m_backward_pre_hooks \u001b[38;5;129;01mor\u001b[39;00m \u001b[38;5;28mself\u001b[39m\u001b[38;5;241m.\u001b[39m_forward_hooks \u001b[38;5;129;01mor\u001b[39;00m \u001b[38;5;28mself\u001b[39m\u001b[38;5;241m.\u001b[39m_forward_pre_hooks\n\u001b[1;32m   1525\u001b[0m         \u001b[38;5;129;01mor\u001b[39;00m _global_backward_pre_hooks \u001b[38;5;129;01mor\u001b[39;00m _global_backward_hooks\n\u001b[1;32m   1526\u001b[0m         \u001b[38;5;129;01mor\u001b[39;00m _global_forward_hooks \u001b[38;5;129;01mor\u001b[39;00m _global_forward_pre_hooks):\n\u001b[0;32m-> 1527\u001b[0m     \u001b[38;5;28;01mreturn\u001b[39;00m \u001b[43mforward_call\u001b[49m\u001b[43m(\u001b[49m\u001b[38;5;241;43m*\u001b[39;49m\u001b[43margs\u001b[49m\u001b[43m,\u001b[49m\u001b[43m \u001b[49m\u001b[38;5;241;43m*\u001b[39;49m\u001b[38;5;241;43m*\u001b[39;49m\u001b[43mkwargs\u001b[49m\u001b[43m)\u001b[49m\n\u001b[1;32m   1529\u001b[0m \u001b[38;5;28;01mtry\u001b[39;00m:\n\u001b[1;32m   1530\u001b[0m     result \u001b[38;5;241m=\u001b[39m \u001b[38;5;28;01mNone\u001b[39;00m\n",
      "File \u001b[0;32m~/.conda/envs/NAR/lib/python3.8/site-packages/torch/nn/modules/linear.py:114\u001b[0m, in \u001b[0;36mLinear.forward\u001b[0;34m(self, input)\u001b[0m\n\u001b[1;32m    113\u001b[0m \u001b[38;5;28;01mdef\u001b[39;00m \u001b[38;5;21mforward\u001b[39m(\u001b[38;5;28mself\u001b[39m, \u001b[38;5;28minput\u001b[39m: Tensor) \u001b[38;5;241m-\u001b[39m\u001b[38;5;241m>\u001b[39m Tensor:\n\u001b[0;32m--> 114\u001b[0m     \u001b[38;5;28;01mreturn\u001b[39;00m \u001b[43mF\u001b[49m\u001b[38;5;241;43m.\u001b[39;49m\u001b[43mlinear\u001b[49m\u001b[43m(\u001b[49m\u001b[38;5;28;43minput\u001b[39;49m\u001b[43m,\u001b[49m\u001b[43m \u001b[49m\u001b[38;5;28;43mself\u001b[39;49m\u001b[38;5;241;43m.\u001b[39;49m\u001b[43mweight\u001b[49m\u001b[43m,\u001b[49m\u001b[43m \u001b[49m\u001b[38;5;28;43mself\u001b[39;49m\u001b[38;5;241;43m.\u001b[39;49m\u001b[43mbias\u001b[49m\u001b[43m)\u001b[49m\n",
      "\u001b[0;31mRuntimeError\u001b[0m: Expected all tensors to be on the same device, but found at least two devices, cuda:0 and cpu! (when checking argument for argument mat1 in method wrapper_CUDA_addmm)"
     ]
    }
   ],
   "source": [
    "lr = 0.0005\n",
    "\n",
    "device = torch.device('cuda' if torch.cuda.is_available() else 'cpu')\n",
    "\n",
    "\n",
    "model = Network()\n",
    "model.to(device)\n",
    "optimizer = torch.optim.Adam\n",
    "\n",
    "loss_edges_train, loss_reach_train, loss_parents_train = train(model=model, train_dataset=train_dataset,\n",
    "      optimizer=optimizer(model.parameters(), lr=lr), epochs=10, batch_size=32)"
   ]
  },
  {
   "cell_type": "code",
   "execution_count": 5,
   "metadata": {},
   "outputs": [
    {
     "name": "stdout",
     "output_type": "stream",
     "text": [
      "Generating 500 graphs\n"
     ]
    },
    {
     "name": "stderr",
     "output_type": "stream",
     "text": [
      "100%|██████████| 500/500 [00:02<00:00, 206.15it/s]\n",
      "Processing...\n",
      "100%|██████████| 500/500 [00:14<00:00, 35.58it/s]\n",
      "Done!\n"
     ]
    }
   ],
   "source": [
    "# split the dataset into training and testing using the train_test_split function\n",
    "from torch.utils.data import random_split\n",
    "n=[20, 100]\n",
    "p=0.3\n",
    "dataset = RandomGraphDataset(root='./data', gen_num_graph=500, n=n, p=p)\n",
    "train_dataset, test_dataset = random_split(dataset, [400, 100])"
   ]
  },
  {
   "cell_type": "code",
   "execution_count": null,
   "metadata": {},
   "outputs": [],
   "source": [
    "# create a test set\n",
    "n=[100, 1000]\n",
    "p=0.3\n",
    "\n",
    "test_dataset = RandomGraphDataset(root='./data/test', gen_num_graph=100, n=n, p=p)"
   ]
  },
  {
   "cell_type": "code",
   "execution_count": null,
   "metadata": {},
   "outputs": [],
   "source": []
  },
  {
   "cell_type": "code",
   "execution_count": 17,
   "metadata": {},
   "outputs": [
    {
     "name": "stdout",
     "output_type": "stream",
     "text": [
      "Epoch 0, loss 0.474441260099411, validation loss 0.483560174703598\n",
      "Epoch 1, loss 0.2088150680065155, validation loss 0.18745948374271393\n",
      "Epoch 2, loss 0.008495943620800972, validation loss 0.006550794932991266\n",
      "Epoch 3, loss 0.00042512972140684724, validation loss 0.00037600912037305534\n",
      "Epoch 4, loss 9.510121890343726e-05, validation loss 9.221333311870694e-05\n",
      "Epoch 5, loss 4.748110950458795e-05, validation loss 4.7312365495599806e-05\n",
      "Epoch 6, loss 3.1041312468005344e-05, validation loss 3.187461697962135e-05\n",
      "Epoch 7, loss 2.4472823497490026e-05, validation loss 2.5687741072033532e-05\n",
      "Epoch 8, loss 2.107813816110138e-05, validation loss 2.2359427021001466e-05\n",
      "Epoch 9, loss 1.8665112293092534e-05, validation loss 1.9870582036674023e-05\n",
      "Epoch 10, loss 1.6638863598927855e-05, validation loss 1.77220645127818e-05\n",
      "Epoch 11, loss 1.4860472219879739e-05, validation loss 1.5818113752175122e-05\n",
      "Epoch 12, loss 1.3286005014379043e-05, validation loss 1.4136039681034163e-05\n",
      "Epoch 13, loss 1.1898310731339734e-05, validation loss 1.2655712453124579e-05\n",
      "Epoch 14, loss 1.0680992090783548e-05, validation loss 1.1359148629708216e-05\n"
     ]
    }
   ],
   "source": [
    "optimizer = torch.optim.Adam\n",
    "model = Network()\n",
    "lr = 0.001\n",
    "\n",
    "train_loss, val_losses = train(model=model, train_dataset=train_dataset, validation_dataset=test_dataset,\n",
    "      optimizer=optimizer(model.parameters(), lr=lr), epochs=15, batch_size=32)"
   ]
  },
  {
   "cell_type": "code",
   "execution_count": 54,
   "metadata": {},
   "outputs": [
    {
     "data": {
      "image/png": "[encoded data removed]",
      "text/plain": [
       "<Figure size 640x480 with 1 Axes>"
      ]
     },
     "metadata": {},
     "output_type": "display_data"
    }
   ],
   "source": [
    "# plot the losses\n",
    "import matplotlib.pyplot as plt\n",
    "plt.plot(loss_edges_train, label='train')\n",
    "plt.legend()\n",
    "# use log scale\n",
    "plt.yscale('log')\n",
    "plt.show()"
   ]
  },
  {
   "cell_type": "code",
   "execution_count": 25,
   "metadata": {},
   "outputs": [
    {
     "data": {
      "image/png": "[encoded data removed]",
      "text/plain": [
       "<Figure size 640x480 with 1 Axes>"
      ]
     },
     "metadata": {},
     "output_type": "display_data"
    }
   ],
   "source": [
    "plt.plot(train_loss, label='train')\n",
    "plt.plot(val_losses, label='validation')\n",
    "plt.legend()\n",
    "# use log scale\n",
    "plt.yscale('log')\n",
    "plt.show()"
   ]
  },
  {
   "cell_type": "code",
   "execution_count": null,
   "metadata": {},
   "outputs": [],
   "source": []
  },
  {
   "cell_type": "code",
   "execution_count": null,
   "metadata": {},
   "outputs": [
    {
     "name": "stdout",
     "output_type": "stream",
     "text": [
      "tensor([1., 0., 1., 1., 1., 0.], dtype=torch.float64)\n",
      "tensor([1.0000, 0.0507, 1.0000, 1.0000, 1.0000, 0.0255],\n",
      "       grad_fn=<SigmoidBackward0>)\n"
     ]
    }
   ],
   "source": [
    "i =31\n",
    "graph = test_dataset[i]\n",
    "print(graph.reach_h[-1])\n",
    "print(torch.sigmoid(model(graph)[0]))"
   ]
  },
  {
   "cell_type": "code",
   "execution_count": null,
   "metadata": {},
   "outputs": [
    {
     "data": {
      "text/plain": [
       "tensor([3500525.5000, 3524301.5000, 3249399.0000, 3501471.5000, 3512054.0000,\n",
       "        3518177.7500], grad_fn=<ViewBackward0>)"
      ]
     },
     "execution_count": 238,
     "metadata": {},
     "output_type": "execute_result"
    }
   ],
   "source": [
    "model(graph)[0]"
   ]
  },
  {
   "cell_type": "markdown",
   "metadata": {},
   "source": []
  },
  {
   "cell_type": "code",
   "execution_count": 35,
   "metadata": {},
   "outputs": [
    {
     "data": {
      "text/plain": [
       "tensor(True)"
      ]
     },
     "execution_count": 35,
     "metadata": {},
     "output_type": "execute_result"
    }
   ],
   "source": [
    "(dataset[0].pi_h[-1] == dataset[0].pi).all()"
   ]
  },
  {
   "cell_type": "code",
   "execution_count": null,
   "metadata": {},
   "outputs": [
    {
     "data": {
      "text/plain": [
       "tensor([[-0.0748],\n",
       "        [-0.0829],\n",
       "        [-0.0641],\n",
       "        [-0.0551],\n",
       "        [-0.0525],\n",
       "        [-0.0458]], grad_fn=<AddmmBackward0>)"
      ]
     },
     "execution_count": 9,
     "metadata": {},
     "output_type": "execute_result"
    }
   ],
   "source": [
    "Network().forward(input, dataset[0].edge_index)"
   ]
  },
  {
   "cell_type": "code",
   "execution_count": null,
   "metadata": {},
   "outputs": [],
   "source": [
    "class Encoder(nn.Module):\n",
    "    def __init__(self, input_dim, hidden_dim=128):\n",
    "        super(Encoder, self).__init__()\n",
    "        self.input_dim = input_dim\n",
    "        self.hidden_dim = hidden_dim\n",
    "        self.lin = nn.Linear(input_dim, hidden_dim)\n",
    "\n",
    "    def forward(self, x):\n",
    "        if x.dim() == 1:\n",
    "            x = x.unsqueeze(-1)\n",
    "        return self.lin(x)"
   ]
  },
  {
   "cell_type": "code",
   "execution_count": null,
   "metadata": {},
   "outputs": [],
   "source": [
    "encoder = Encoder(2)\n",
    "z = encoder(input)"
   ]
  },
  {
   "cell_type": "code",
   "execution_count": null,
   "metadata": {},
   "outputs": [],
   "source": [
    "h = torch.zeros(input.size(0), 128)"
   ]
  },
  {
   "cell_type": "code",
   "execution_count": null,
   "metadata": {},
   "outputs": [
    {
     "data": {
      "text/plain": [
       "torch.Size([6, 256])"
      ]
     },
     "execution_count": 125,
     "metadata": {},
     "output_type": "execute_result"
    }
   ],
   "source": [
    "z_ = torch.cat([z, h], dim=1)\n",
    "z_.size()"
   ]
  },
  {
   "cell_type": "code",
   "execution_count": null,
   "metadata": {},
   "outputs": [],
   "source": [
    "import torch\n",
    "from torch_geometric.nn import MessagePassing\n",
    "from torch.nn import Linear\n",
    "\n",
    "class MPNN(MessagePassing):\n",
    "  def __init__(self, in_channels, hidden_channels, activation=None):\n",
    "    super(MPNN, self).__init__(aggr='max') #  \"Max\" aggregation.\n",
    "    self.in_channels = in_channels\n",
    "    self.hidden_channels = hidden_channels\n",
    "    self.messages = Linear(self.in_channels * 2, self.hidden_channels)\n",
    "    self.update_fn = Linear(self.in_channels + self.hidden_channels, self.hidden_channels)\n",
    "    self.activation = activation\n",
    "\n",
    "    self.mlp = torch.nn.Sequential(\n",
    "        Linear(hidden_channels, hidden_channels),\n",
    "        torch.nn.ReLU(),\n",
    "        Linear(hidden_channels, self.hidden_channels)\n",
    "    )\n",
    "    \n",
    "  def forward(self, x, edge_index):\n",
    "    out = self.propagate(edge_index, x=x)\n",
    "    out = self.mlp(out)\n",
    "    if self.activation is not None:\n",
    "      out = self.activation(out)\n",
    "    return out\n",
    "    \n",
    "  def message(self, x_i, x_j):\n",
    "    # x_i has shape [E, in_channels]\n",
    "    # x_j has shape [E, in_channels]\n",
    "    #print('MPNN => xi, xj', x_i.size(), x_j.size())\n",
    "    tmp = torch.cat([x_i, x_j], dim=1)  # tmp has shape [E, 2 * in_channels]\n",
    "    #print('MPNN => messages IN', tmp.size())\n",
    "    m = self.messages(tmp)\n",
    "    #print('MPNN => messages OUT', m.size())\n",
    "    return m\n",
    "  \n",
    "  def update(self, aggr_out, x):\n",
    "    # aggr_out has shape [N, out_channels]\n",
    "    # x has shape [N, in_channels]\n",
    "    #print(f'MPNN => x_i', x.size(), ' aggr_out ', aggr_out.size())\n",
    "    tmp = torch.cat([x, aggr_out], dim=1)\n",
    "    #print(f'MPNN => tmp', tmp.size())\n",
    "    return self.update_fn(tmp)"
   ]
  },
  {
   "cell_type": "code",
   "execution_count": null,
   "metadata": {},
   "outputs": [],
   "source": [
    "processor = MPNN(256, 128)"
   ]
  },
  {
   "cell_type": "code",
   "execution_count": null,
   "metadata": {},
   "outputs": [],
   "source": [
    "hi = processor(z_, dataset[0].edge_index)"
   ]
  },
  {
   "cell_type": "code",
   "execution_count": null,
   "metadata": {},
   "outputs": [
    {
     "data": {
      "text/plain": [
       "torch.Size([6, 128])"
      ]
     },
     "execution_count": 162,
     "metadata": {},
     "output_type": "execute_result"
    }
   ],
   "source": [
    "hi.size()"
   ]
  },
  {
   "cell_type": "code",
   "execution_count": null,
   "metadata": {},
   "outputs": [],
   "source": []
  }
 ],
 "metadata": {
  "kernelspec": {
   "display_name": "base",
   "language": "python",
   "name": "python3"
  },
  "language_info": {
   "codemirror_mode": {
    "name": "ipython",
    "version": 3
   },
   "file_extension": ".py",
   "mimetype": "text/x-python",
   "name": "python",
   "nbconvert_exporter": "python",
   "pygments_lexer": "ipython3",
   "version": "3.8.18"
  }
 },
 "nbformat": 4,
 "nbformat_minor": 2
}
