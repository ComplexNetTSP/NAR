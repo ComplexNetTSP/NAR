{
 "cells": [
  {
   "cell_type": "code",
   "execution_count": 18,
   "metadata": {},
   "outputs": [],
   "source": [
    "import torch\n",
    "\n",
    "def calculate_parents(alpha, edge_index, s):\n",
    "    parents = torch.full((len(s),), -1, dtype=torch.long)\n",
    "    for child in range(len(s)):\n",
    "        indices = (edge_index[1] == child).nonzero(as_tuple=False).squeeze()\n",
    "        passed_indices = indices[alpha[indices] == 1]\n",
    "        if passed_indices.numel() > 0:\n",
    "            parent_index = edge_index[0, passed_indices[0]]\n",
    "            parents[child] = parent_index.item()\n",
    "    return parents"
   ]
  },
  {
   "cell_type": "code",
   "execution_count": null,
   "metadata": {},
   "outputs": [],
   "source": [
    "def calculate_parents(alpha, edge_index, s):\n",
    "    parents = torch.full((len(s),), -1, dtype=torch.long)\n",
    "\n",
    "    for child in range(len(s)):\n",
    "        indices = (edge_index[1] == child).nonzero(as_tuple=False).squeeze()\n",
    "        \n",
    "        passed_indices = indices[alpha[indices] == 1]\n",
    "        \n",
    "        if passed_indices.numel() > 0:\n",
    "            parent_index = edge_index[0, passed_indices[0]]\n",
    "            parents[child] = parent_index.item()\n",
    "    return parents"
   ]
  },
  {
   "cell_type": "code",
   "execution_count": 19,
   "metadata": {},
   "outputs": [],
   "source": [
    "edge_index = torch.tensor([\n",
    "    [0, 2, 1],\n",
    "    [1, 1, 2]\n",
    "])"
   ]
  },
  {
   "cell_type": "code",
   "execution_count": 20,
   "metadata": {},
   "outputs": [],
   "source": [
    "alpha = torch.tensor([0.9, 0.1, 0.9])\n",
    "s = torch.tensor([1, 0, 0])"
   ]
  },
  {
   "cell_type": "code",
   "execution_count": 21,
   "metadata": {},
   "outputs": [
    {
     "data": {
      "text/plain": [
       "tensor([-1, -1, -1])"
      ]
     },
     "execution_count": 21,
     "metadata": {},
     "output_type": "execute_result"
    }
   ],
   "source": [
    "calculate_parents(alpha, edge_index, s)"
   ]
  },
  {
   "cell_type": "code",
   "execution_count": 25,
   "metadata": {},
   "outputs": [],
   "source": [
    "def get_parent_nodes(edge_index, alpha, s):\n",
    "    parent_nodes = torch.zeros_like(s)\n",
    "\n",
    "    for node in range(s.size(0)):\n",
    "        # get "
   ]
  },
  {
   "cell_type": "code",
   "execution_count": 27,
   "metadata": {},
   "outputs": [
    {
     "name": "stdout",
     "output_type": "stream",
     "text": [
      "0\n",
      "1\n",
      "2\n"
     ]
    }
   ],
   "source": [
    "get_parent_nodes(edge_index, alpha, s)"
   ]
  },
  {
   "cell_type": "code",
   "execution_count": 28,
   "metadata": {},
   "outputs": [],
   "source": [
    "edge_index = torch.tensor([[0, 0, 1, 1, 1, 2, 3, 4],\n",
    "                           [1, 2, 0, 3, 4, 0, 1, 1]])"
   ]
  },
  {
   "cell_type": "code",
   "execution_count": null,
   "metadata": {},
   "outputs": [],
   "source": [
    "# plot this graph\n"
   ]
  },
  {
   "cell_type": "code",
   "execution_count": 29,
   "metadata": {},
   "outputs": [],
   "source": [
    "pi = torch.tensor([0., 1., 1., 1., 0., 0., 0., 1.])"
   ]
  },
  {
   "cell_type": "code",
   "execution_count": 31,
   "metadata": {},
   "outputs": [],
   "source": [
    "s = torch.tensor([0., 0., 0., 0., 1.])"
   ]
  },
  {
   "cell_type": "code",
   "execution_count": 37,
   "metadata": {},
   "outputs": [],
   "source": [
    "def get_parent_nodes(edge_index, alpha, s, threshold=0.8):\n",
    "    parent_nodes = torch.full_like(s, -1)  # Initialize with -1\n",
    "    for node in range(s.size(0)):\n",
    "        # get all edges that point to the current node\n",
    "        incoming_edges = (edge_index[1] == node).nonzero(as_tuple=False).squeeze()\n",
    "        # filter alpha based on threshold\n",
    "        filtered_edges = incoming_edges[alpha[incoming_edges] >= threshold]\n",
    "        # check if there are any edges after filtering\n",
    "        if filtered_edges.numel() != 0:\n",
    "            # get the index of the edge with the highest alpha after filtering\n",
    "            max_alpha_index = torch.argmax(alpha[filtered_edges])\n",
    "            # get the parent node\n",
    "            parent_nodes[node] = edge_index[0, filtered_edges[max_alpha_index]].item()\n",
    "    return parent_nodes"
   ]
  },
  {
   "cell_type": "code",
   "execution_count": 3,
   "metadata": {},
   "outputs": [],
   "source": [
    "from generator import RandomGraphDataset"
   ]
  },
  {
   "cell_type": "code",
   "execution_count": 4,
   "metadata": {},
   "outputs": [],
   "source": [
    "n=[5, 10]\n",
    "p=0.3\n",
    "dataset = RandomGraphDataset(root='./data/medium', gen_num_graph=10, n=n, p=p)"
   ]
  },
  {
   "cell_type": "code",
   "execution_count": 5,
   "metadata": {},
   "outputs": [
    {
     "data": {
      "text/plain": [
       "tensor([1., 1., 0., 0., 1., 0.], dtype=torch.float64)"
      ]
     },
     "execution_count": 5,
     "metadata": {},
     "output_type": "execute_result"
    }
   ],
   "source": [
    "dataset[0].pi"
   ]
  },
  {
   "cell_type": "code",
   "execution_count": 6,
   "metadata": {},
   "outputs": [],
   "source": [
    "def get_parent_nodes(edge_index, alpha, s, threshold=0.8):\n",
    "    parent_nodes = torch.full_like(s, -1)  # Initialize with -1\n",
    "    for node in range(s.size(0)):\n",
    "        # get all edges that point to the current node\n",
    "        incoming_edges = (edge_index[1] == node).nonzero(as_tuple=False).squeeze()\n",
    "        # filter alpha based on threshold\n",
    "        filtered_edges = incoming_edges[alpha[incoming_edges] >= threshold]\n",
    "        # check if there are any edges after filtering\n",
    "        if filtered_edges.numel() != 0:\n",
    "            # get the index of the edge with the highest alpha after filtering\n",
    "            max_alpha_index = torch.argmax(alpha[filtered_edges])\n",
    "            # get the parent node\n",
    "            parent_nodes[node] = edge_index[0, filtered_edges[max_alpha_index]].item()\n",
    "    return parent_nodes"
   ]
  },
  {
   "cell_type": "code",
   "execution_count": 7,
   "metadata": {},
   "outputs": [],
   "source": [
    "import networkx as nx"
   ]
  },
  {
   "cell_type": "code",
   "execution_count": 8,
   "metadata": {},
   "outputs": [
    {
     "name": "stdout",
     "output_type": "stream",
     "text": [
      "tensor([[0, 0, 1, 2, 2, 3],\n",
      "        [1, 2, 0, 0, 3, 2]])\n",
      "tensor(0)\n",
      "tensor([-1,  3,  0,  0])\n"
     ]
    },
    {
     "data": {
      "image/png": "[encoded data removed]",
      "text/plain": [
       "<Figure size 640x480 with 1 Axes>"
      ]
     },
     "metadata": {},
     "output_type": "display_data"
    }
   ],
   "source": [
    "for i in range(dataset.len()):\n",
    "    g = dataset[i]\n",
    "    G = nx.Graph()\n",
    "    G.add_edges_from(g.edge_index.T.numpy())\n",
    "    nx.draw(G, with_labels=True)\n",
    "    print(g.edge_index)\n",
    "    print(g.s.argmax())\n",
    "    print(g.parents)\n",
    "    break"
   ]
  },
  {
   "cell_type": "code",
   "execution_count": 9,
   "metadata": {},
   "outputs": [
    {
     "name": "stdout",
     "output_type": "stream",
     "text": [
      "Generating 10 graphs\n"
     ]
    },
    {
     "name": "stderr",
     "output_type": "stream",
     "text": [
      "100%|██████████| 10/10 [00:00<00:00, 2127.04it/s]\n",
      "Processing...\n",
      "100%|██████████| 10/10 [00:00<00:00, 340.12it/s]\n",
      "Done!\n"
     ]
    }
   ],
   "source": [
    "n=[5, 10]\n",
    "p=0.3\n",
    "dataset2 = RandomGraphDataset(root='./data/test2', gen_num_graph=10, n=n, p=p)"
   ]
  },
  {
   "cell_type": "code",
   "execution_count": 14,
   "metadata": {},
   "outputs": [
    {
     "name": "stdout",
     "output_type": "stream",
     "text": [
      "tensor([[0, 0, 3, 3, 1, 4],\n",
      "        [2, 3, 1, 4, 6, 6]])\n",
      "tensor(3)\n",
      "tensor([ 3,  3,  0, -1,  3, -1,  1])\n"
     ]
    },
    {
     "data": {
      "image/png": "[encoded data removed]",
      "text/plain": [
       "<Figure size 640x480 with 1 Axes>"
      ]
     },
     "metadata": {},
     "output_type": "display_data"
    }
   ],
   "source": [
    "for i in range(dataset2.len()):\n",
    "    g = dataset2[2]\n",
    "    G = nx.Graph()\n",
    "    G.add_edges_from(g.edge_index.T.numpy())\n",
    "    nx.draw(G, with_labels=True)\n",
    "    print(g.edge_index)\n",
    "    print(g.s.argmax())\n",
    "    print(g.parents)\n",
    "    break"
   ]
  },
  {
   "cell_type": "code",
   "execution_count": 18,
   "metadata": {},
   "outputs": [
    {
     "data": {
      "text/plain": [
       "tensor([1., 0., 0., 1., 0., 1., 1., 1., 0., 0., 0., 0.], dtype=torch.float64)"
      ]
     },
     "execution_count": 18,
     "metadata": {},
     "output_type": "execute_result"
    }
   ],
   "source": [
    "g.pi_h[-1]"
   ]
  },
  {
   "cell_type": "code",
   "execution_count": 20,
   "metadata": {},
   "outputs": [],
   "source": [
    "from clrs._src.algorithms.graphs import bfs"
   ]
  },
  {
   "cell_type": "code",
   "execution_count": 54,
   "metadata": {},
   "outputs": [
    {
     "data": {
      "image/png": "[encoded data removed]",
      "text/plain": [
       "<Figure size 640x480 with 1 Axes>"
      ]
     },
     "metadata": {},
     "output_type": "display_data"
    }
   ],
   "source": [
    "nx.draw(G, with_labels=True)"
   ]
  },
  {
   "cell_type": "code",
   "execution_count": 30,
   "metadata": {},
   "outputs": [],
   "source": [
    "adj = nx.to_numpy_array(G)"
   ]
  },
  {
   "cell_type": "code",
   "execution_count": 48,
   "metadata": {},
   "outputs": [
    {
     "data": {
      "text/plain": [
       "tensor(3)"
      ]
     },
     "execution_count": 48,
     "metadata": {},
     "output_type": "execute_result"
    }
   ],
   "source": [
    "g.s.argmax()"
   ]
  },
  {
   "cell_type": "code",
   "execution_count": 49,
   "metadata": {},
   "outputs": [],
   "source": [
    "b = bfs(adj, 3)"
   ]
  },
  {
   "cell_type": "code",
   "execution_count": 64,
   "metadata": {},
   "outputs": [],
   "source": [
    "pi = b[1]['hint']['node']['pi_h']['data'][-1]"
   ]
  },
  {
   "cell_type": "code",
   "execution_count": 65,
   "metadata": {},
   "outputs": [
    {
     "data": {
      "text/plain": [
       "array([2, 0, 3, 3, 2, 3])"
      ]
     },
     "execution_count": 65,
     "metadata": {},
     "output_type": "execute_result"
    }
   ],
   "source": [
    "pi"
   ]
  },
  {
   "cell_type": "code",
   "execution_count": 68,
   "metadata": {},
   "outputs": [],
   "source": [
    "def get_edges(A, pi: list, edge_index):\n",
    "    \"\"\"Returns a binary list of edges in the graph. If the edge was accessed by the algorithm, it is marked as 1, otherwise it is 0.\"\"\"\n",
    "    edges = np.zeros(len(edge_index[0]))\n",
    "    for i in range(len(pi)):\n",
    "        if pi[i] != -1:\n",
    "            for j in range(len(edge_index[0])):\n",
    "                if edge_index[1][j] == i and edge_index[0][j] == pi[i]:\n",
    "                    edges[j] = 1\n",
    "    return edges"
   ]
  },
  {
   "cell_type": "code",
   "execution_count": 63,
   "metadata": {},
   "outputs": [
    {
     "data": {
      "text/plain": [
       "array([0., 0., 0., 0., 0., 0.])"
      ]
     },
     "execution_count": 63,
     "metadata": {},
     "output_type": "execute_result"
    }
   ],
   "source": [
    "get_edges(adj, pi)"
   ]
  },
  {
   "cell_type": "code",
   "execution_count": null,
   "metadata": {},
   "outputs": [],
   "source": []
  }
 ],
 "metadata": {
  "kernelspec": {
   "display_name": "NAR",
   "language": "python",
   "name": "python3"
  },
  "language_info": {
   "codemirror_mode": {
    "name": "ipython",
    "version": 3
   },
   "file_extension": ".py",
   "mimetype": "text/x-python",
   "name": "python",
   "nbconvert_exporter": "python",
   "pygments_lexer": "ipython3",
   "version": "3.8.18"
  }
 },
 "nbformat": 4,
 "nbformat_minor": 2
}
