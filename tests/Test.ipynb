{
 "cells": [
  {
   "cell_type": "code",
   "execution_count": 1,
   "metadata": {},
   "outputs": [],
   "source": [
    "from salsaclrs import SALSACLRSDataset\n",
    "from salsaclrs import SALSACLRSDataLoader"
   ]
  },
  {
   "cell_type": "code",
   "execution_count": 113,
   "metadata": {},
   "outputs": [
    {
     "name": "stderr",
     "output_type": "stream",
     "text": [
      "Processing...\n",
      "\u001b[32m2024-03-04 16:50:25.808\u001b[0m | \u001b[1mINFO    \u001b[0m | \u001b[36msalsaclrs.data\u001b[0m:\u001b[36mprocess\u001b[0m:\u001b[36m326\u001b[0m - \u001b[1mGenerating bfs dataset with 10 samples on -1 cores\u001b[0m\n",
      "\u001b[32m2024-03-04 16:50:25.809\u001b[0m | \u001b[1mINFO    \u001b[0m | \u001b[36msalsaclrs.data\u001b[0m:\u001b[36mprocess\u001b[0m:\u001b[36m327\u001b[0m - \u001b[1mGraph generator: er with kwargs {'n': 4, 'p': 0.1, 'directed': False, 'connected': False}\u001b[0m\n"
     ]
    },
    {
     "data": {
      "application/vnd.jupyter.widget-view+json": {
       "model_id": "35f9cee66dac4b4ab8317db4432176cc",
       "version_major": 2,
       "version_minor": 0
      },
      "text/plain": [
       "  0%|          | 0/10 [00:00<?, ?it/s]"
      ]
     },
     "metadata": {},
     "output_type": "display_data"
    },
    {
     "name": "stderr",
     "output_type": "stream",
     "text": [
      "Done!\n"
     ]
    }
   ],
   "source": [
    "ds = SALSACLRSDataset(root=\"./\", split=\"train\", algorithm=\"bfs\", num_samples=10, graph_generator=\"er\", graph_generator_kwargs={\"n\": 4, \"p\":0.1, \"directed\": False, 'connected':False}, hints=True)"
   ]
  },
  {
   "cell_type": "code",
   "execution_count": 114,
   "metadata": {},
   "outputs": [],
   "source": [
    "dl = SALSACLRSDataLoader(ds, batch_size=32, num_workers=12)"
   ]
  },
  {
   "cell_type": "code",
   "execution_count": 115,
   "metadata": {},
   "outputs": [
    {
     "data": {
      "text/plain": [
       "CLRSData(edge_index=[2, 6], pos=[4], length=1, s=[4], pi=[6], reach_h=[4, 1], pi_h=[6, 1], hints=[2], inputs=[2], outputs=[1])"
      ]
     },
     "execution_count": 115,
     "metadata": {},
     "output_type": "execute_result"
    }
   ],
   "source": [
    "dl.dataset[0]"
   ]
  },
  {
   "cell_type": "code",
   "execution_count": 10,
   "metadata": {},
   "outputs": [
    {
     "ename": "NameError",
     "evalue": "name 'dl' is not defined",
     "output_type": "error",
     "traceback": [
      "\u001b[0;31m---------------------------------------------------------------------------\u001b[0m",
      "\u001b[0;31mNameError\u001b[0m                                 Traceback (most recent call last)",
      "Cell \u001b[0;32mIn[10], line 1\u001b[0m\n\u001b[0;32m----> 1\u001b[0m dl\u001b[38;5;241m.\u001b[39mhints\n\u001b[1;32m      2\u001b[0m \u001b[38;5;66;03m# get dtype of hints\u001b[39;00m\n\u001b[1;32m      3\u001b[0m \u001b[38;5;28mtype\u001b[39m(dl\u001b[38;5;241m.\u001b[39mhints)\n",
      "\u001b[0;31mNameError\u001b[0m: name 'dl' is not defined"
     ]
    }
   ],
   "source": [
    "dl.hints\n",
    "# get dtype of hints\n"
   ]
  },
  {
   "cell_type": "code",
   "execution_count": null,
   "metadata": {},
   "outputs": [],
   "source": []
  },
  {
   "cell_type": "code",
   "execution_count": 13,
   "metadata": {},
   "outputs": [
    {
     "name": "stdout",
     "output_type": "stream",
     "text": [
      "CLRSData(edge_index=[2, 6], pos=[4], length=1, s=[4], pi=[6], reach_h=[4, 1], pi_h=[6, 1], hints=[2], inputs=[2], outputs=[1])\n"
     ]
    }
   ],
   "source": [
    "path = \"./bfs/train/graphgenerator=er_n=4_p=0.1_directed=False_connected=False/processed/data_0.pt\"\n",
    "# load tensor from file\n",
    "import torch\n",
    "tensor = torch.load(path)\n",
    "print(tensor)"
   ]
  },
  {
   "cell_type": "code",
   "execution_count": 15,
   "metadata": {},
   "outputs": [
    {
     "data": {
      "text/plain": [
       "['pos', 's']"
      ]
     },
     "execution_count": 15,
     "metadata": {},
     "output_type": "execute_result"
    }
   ],
   "source": [
    "tensor.inputs"
   ]
  },
  {
   "cell_type": "code",
   "execution_count": 11,
   "metadata": {},
   "outputs": [
    {
     "data": {
      "text/plain": [
       "list"
      ]
     },
     "execution_count": 11,
     "metadata": {},
     "output_type": "execute_result"
    }
   ],
   "source": [
    "type(tensor.hints)"
   ]
  },
  {
   "cell_type": "code",
   "execution_count": 3,
   "metadata": {},
   "outputs": [
    {
     "data": {
      "text/plain": [
       "tensor([0.0000, 0.2500, 0.5000, 0.7500])"
      ]
     },
     "execution_count": 3,
     "metadata": {},
     "output_type": "execute_result"
    }
   ],
   "source": [
    "tensor.pos"
   ]
  },
  {
   "cell_type": "code",
   "execution_count": 120,
   "metadata": {},
   "outputs": [
    {
     "data": {
      "text/plain": [
       "tensor([[0, 0, 1, 2, 2, 3],\n",
       "        [0, 2, 1, 0, 2, 3]])"
      ]
     },
     "execution_count": 120,
     "metadata": {},
     "output_type": "execute_result"
    }
   ],
   "source": [
    "tensor.edge_index\n"
   ]
  },
  {
   "cell_type": "code",
   "execution_count": 99,
   "metadata": {},
   "outputs": [
    {
     "data": {
      "text/plain": [
       "tensor([[1., 0., 0., 0., 0., 1., 0., 0., 1., 0., 0., 1.],\n",
       "        [0., 1., 0., 0., 0., 1., 0., 0., 1., 0., 1., 0.],\n",
       "        [0., 1., 0., 0., 0., 1., 0., 1., 0., 0., 1., 0.]])"
      ]
     },
     "execution_count": 99,
     "metadata": {},
     "output_type": "execute_result"
    }
   ],
   "source": [
    "tensor.pi_h.T"
   ]
  },
  {
   "cell_type": "code",
   "execution_count": 87,
   "metadata": {},
   "outputs": [
    {
     "name": "stdout",
     "output_type": "stream",
     "text": [
      "tensor([0., 1., 0., 0., 0., 1., 0., 1., 0., 0., 1., 0.], dtype=torch.float64)\n"
     ]
    }
   ],
   "source": [
    "# CLRSData(edge_index=[2, 170], pos=[32], length=5, s=[32], pi=[170], reach_h=[32, 5], pi_h=[170, 5], hints=[2], inputs=[2], outputs=[1])\n",
    "\n",
    "# show every attribute of the tensor\n",
    "print(tensor.pi)"
   ]
  },
  {
   "cell_type": "code",
   "execution_count": 70,
   "metadata": {},
   "outputs": [
    {
     "name": "stdout",
     "output_type": "stream",
     "text": [
      "[10, 10, 12, 12, 8, 2, 3, 14, 13, 20, 12, 12, 12, 12, 12, 12, 12, 13, 12, 12, 11, 11, 12, 10, 11, 18, 12, 19, 14, 2, 12, 12]\n"
     ]
    }
   ],
   "source": [
    "def pi_to_node(tensor):\n",
    "    pi = tensor.pi\n",
    "    edge_index = tensor.edge_index\n",
    "\n",
    "    # create a dictionary to map pi to node\n",
    "    nodes = []\n",
    "    for i in range(len(pi)):\n",
    "        if pi[i] > 0:\n",
    "            nodes.append(edge_index[1][i].item())\n",
    "    return nodes\n",
    "\n",
    "print(pi_to_node(tensor))"
   ]
  },
  {
   "cell_type": "code",
   "execution_count": 65,
   "metadata": {},
   "outputs": [
    {
     "data": {
      "text/plain": [
       "32"
      ]
     },
     "execution_count": 65,
     "metadata": {},
     "output_type": "execute_result"
    }
   ],
   "source": [
    "len(pi_to_node(tensor))"
   ]
  },
  {
   "cell_type": "code",
   "execution_count": 88,
   "metadata": {},
   "outputs": [
    {
     "name": "stdout",
     "output_type": "stream",
     "text": [
      "tensor([[0, 0, 0, 0, 1, 1, 1, 2, 2, 3, 3, 3],\n",
      "        [0, 1, 2, 3, 0, 1, 3, 0, 2, 0, 1, 3]])\n"
     ]
    }
   ],
   "source": [
    "print(tensor.edge_index)"
   ]
  },
  {
   "cell_type": "code",
   "execution_count": 89,
   "metadata": {},
   "outputs": [
    {
     "name": "stdout",
     "output_type": "stream",
     "text": [
      "4\n"
     ]
    }
   ],
   "source": [
    "# how many nodes are in the graph\n",
    "print(tensor.s.size(0))"
   ]
  }
 ],
 "metadata": {
  "kernelspec": {
   "display_name": "base",
   "language": "python",
   "name": "python3"
  },
  "language_info": {
   "codemirror_mode": {
    "name": "ipython",
    "version": 3
   },
   "file_extension": ".py",
   "mimetype": "text/x-python",
   "name": "python",
   "nbconvert_exporter": "python",
   "pygments_lexer": "ipython3",
   "version": "3.11.4"
  }
 },
 "nbformat": 4,
 "nbformat_minor": 2
}
