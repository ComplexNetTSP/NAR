{
 "cells": [
  {
   "cell_type": "code",
   "execution_count": 1,
   "metadata": {},
   "outputs": [],
   "source": [
    "from clrs._src.algorithms.graphs import bfs"
   ]
  },
  {
   "cell_type": "code",
   "execution_count": 3,
   "metadata": {},
   "outputs": [],
   "source": [
    "import numpy as np\n",
    "import networkx as nx"
   ]
  },
  {
   "cell_type": "code",
   "execution_count": 45,
   "metadata": {},
   "outputs": [],
   "source": [
    "import numpy as np\n",
    "import networkx as nx\n",
    "from clrs._src.algorithms.graphs import bfs\n",
    "import matplotlib.pyplot as plt\n",
    "\n",
    "class graph_generator:\n",
    "    def __init__(self, n, p, directed=False, type='erdos_renyi'):\n",
    "        self.n = n # number of nodes\n",
    "        self.p = p # probability of edge creation\n",
    "        self.s = np.random.randint(0, n) # source node\n",
    "        if type == 'erdos_renyi':\n",
    "            self.graph = nx.erdos_renyi_graph(n, p, directed=directed)\n",
    "        self.adj = nx.to_numpy_array(self.graph)\n",
    "        self.edges_indexes = self.get_edges_indexes(self.adj)\n",
    "\n",
    "        self.pi, probes = bfs(self.adj, self.s)\n",
    "        self.pi_h = probes['hint']['node']['pi_h']['data']\n",
    "        self.reach_h = probes['hint']['node']['reach_h']['data']\n",
    "\n",
    "        self.pi = self.get_edges(self.adj, self.pi)\n",
    "        self.pi_h = np.array([self.get_edges(self.adj, x) for x in self.pi_h])\n",
    "        self.pos = np.arange(0, n)/n\n",
    "\n",
    "    def get_edges_indexes(self, A):\n",
    "        edge_indexes = [[],[]]\n",
    "        \"\"\"Create a 2x1 list of lists to store the indexes of the edges in the adjacency matrix.\"\"\"\n",
    "        for i in range(len(A)):\n",
    "            for j in range(len(A)):\n",
    "                if A[i][j] == 1:\n",
    "                    edge_indexes[0].append(i)\n",
    "                    edge_indexes[1].append(j)\n",
    "        return edge_indexes\n",
    "    \n",
    "    def get_edges(self, A, pi):\n",
    "        \"\"\"Returns a binary list of edges in the graph. If the edge was accessed by the algorithm, it is marked as 1, otherwise it is 0.\"\"\"\n",
    "        edge_indexes = self.get_edges_indexes(A)\n",
    "        edges = np.zeros(len(edge_indexes[0]))\n",
    "        for i in range(len(pi)):\n",
    "            if pi[i] != -1:\n",
    "                for j in range(len(edge_indexes[0])):\n",
    "                    if edge_indexes[1][j] == i and edge_indexes[0][j] == pi[i]:\n",
    "                        edges[j] = 1\n",
    "        return edges\n",
    "    \n",
    "    def visualize_graph(self):\n",
    "        nx.draw(self.graph, with_labels=True, font_weight='bold')\n",
    "        plt.show()\n",
    "        "
   ]
  },
  {
   "cell_type": "code",
   "execution_count": 46,
   "metadata": {},
   "outputs": [],
   "source": [
    "# test class graph_generator\n",
    "n = 4\n",
    "p = 0.3\n",
    "g = graph_generator(n, p)"
   ]
  },
  {
   "cell_type": "code",
   "execution_count": 47,
   "metadata": {},
   "outputs": [
    {
     "data": {
      "text/plain": [
       "array([0.  , 0.25, 0.5 , 0.75])"
      ]
     },
     "execution_count": 47,
     "metadata": {},
     "output_type": "execute_result"
    }
   ],
   "source": [
    "g.pos"
   ]
  },
  {
   "cell_type": "code",
   "execution_count": 31,
   "metadata": {},
   "outputs": [
    {
     "data": {
      "text/plain": [
       "array([0., 0., 1., 0., 0., 0., 0., 0., 0., 0., 0., 0., 1., 1., 1., 1., 1.,\n",
       "       1., 0., 0., 0., 0., 0., 0.])"
      ]
     },
     "execution_count": 31,
     "metadata": {},
     "output_type": "execute_result"
    }
   ],
   "source": [
    "g.pi"
   ]
  },
  {
   "cell_type": "code",
   "execution_count": 38,
   "metadata": {},
   "outputs": [
    {
     "ename": "AttributeError",
     "evalue": "'graph_generator' object has no attribute 'visualize_graph'",
     "output_type": "error",
     "traceback": [
      "\u001b[0;31m---------------------------------------------------------------------------\u001b[0m",
      "\u001b[0;31mAttributeError\u001b[0m                            Traceback (most recent call last)",
      "Cell \u001b[0;32mIn[38], line 1\u001b[0m\n\u001b[0;32m----> 1\u001b[0m g\u001b[38;5;241m.\u001b[39mvisualize_graph()\n",
      "\u001b[0;31mAttributeError\u001b[0m: 'graph_generator' object has no attribute 'visualize_graph'"
     ]
    }
   ],
   "source": [
    "g.visualize_graph()"
   ]
  },
  {
   "cell_type": "code",
   "execution_count": 33,
   "metadata": {},
   "outputs": [
    {
     "data": {
      "image/png": "[encoded data removed]",
      "text/plain": [
       "<Figure size 640x480 with 1 Axes>"
      ]
     },
     "metadata": {},
     "output_type": "display_data"
    }
   ],
   "source": [
    "# visualize graph\n",
    "import matplotlib.pyplot as plt\n",
    "nx.draw(g.graph, with_labels=True)\n",
    "plt.show()"
   ]
  },
  {
   "cell_type": "code",
   "execution_count": 34,
   "metadata": {},
   "outputs": [
    {
     "data": {
      "text/plain": [
       "array([[0., 0., 0., 0., 0., 1., 0., 0., 0., 0.],\n",
       "       [1., 0., 1., 1., 1., 1., 0., 0., 0., 0.],\n",
       "       [1., 0., 1., 1., 1., 1., 1., 0., 1., 1.]])"
      ]
     },
     "execution_count": 34,
     "metadata": {},
     "output_type": "execute_result"
    }
   ],
   "source": [
    "g.reach_h"
   ]
  },
  {
   "cell_type": "code",
   "execution_count": 4,
   "metadata": {},
   "outputs": [],
   "source": [
    "# genearte random er graph\n",
    "n = 10\n",
    "p = 0.3\n",
    "G = nx.erdos_renyi_graph(n, p)\n",
    "\n",
    "# get the adjacency matrix\n",
    "A = nx.to_numpy_array(G)"
   ]
  },
  {
   "cell_type": "code",
   "execution_count": 5,
   "metadata": {},
   "outputs": [
    {
     "name": "stdout",
     "output_type": "stream",
     "text": [
      "[[0. 0. 1. 0. 0. 0. 0. 0. 0. 0.]\n",
      " [0. 0. 1. 1. 0. 0. 1. 1. 1. 0.]\n",
      " [1. 1. 0. 1. 0. 0. 1. 1. 0. 0.]\n",
      " [0. 1. 1. 0. 1. 0. 1. 0. 0. 0.]\n",
      " [0. 0. 0. 1. 0. 1. 0. 0. 0. 0.]\n",
      " [0. 0. 0. 0. 1. 0. 1. 0. 1. 0.]\n",
      " [0. 1. 1. 1. 0. 1. 0. 0. 0. 1.]\n",
      " [0. 1. 1. 0. 0. 0. 0. 0. 0. 0.]\n",
      " [0. 1. 0. 0. 0. 1. 0. 0. 0. 0.]\n",
      " [0. 0. 0. 0. 0. 0. 1. 0. 0. 0.]]\n"
     ]
    }
   ],
   "source": [
    "print(A)"
   ]
  },
  {
   "cell_type": "code",
   "execution_count": 11,
   "metadata": {},
   "outputs": [],
   "source": [
    "# apply bfs\n",
    "s = 0\n",
    "pi, probes = bfs(A, s)\n",
    "pi, hints = pi, probes['hint']['node']['pi_h']['data']"
   ]
  },
  {
   "cell_type": "code",
   "execution_count": 12,
   "metadata": {},
   "outputs": [
    {
     "data": {
      "text/plain": [
       "{'input': {'node': {'pos': {'data': array([0. , 0.1, 0.2, 0.3, 0.4, 0.5, 0.6, 0.7, 0.8, 0.9]),\n",
       "    'type_': 'scalar'},\n",
       "   's': {'data': array([1., 0., 0., 0., 0., 0., 0., 0., 0., 0.]),\n",
       "    'type_': 'mask_one'}},\n",
       "  'edge': {'A': {'data': array([[0., 0., 1., 0., 0., 0., 0., 0., 0., 0.],\n",
       "           [0., 0., 1., 1., 0., 0., 1., 1., 1., 0.],\n",
       "           [1., 1., 0., 1., 0., 0., 1., 1., 0., 0.],\n",
       "           [0., 1., 1., 0., 1., 0., 1., 0., 0., 0.],\n",
       "           [0., 0., 0., 1., 0., 1., 0., 0., 0., 0.],\n",
       "           [0., 0., 0., 0., 1., 0., 1., 0., 1., 0.],\n",
       "           [0., 1., 1., 1., 0., 1., 0., 0., 0., 1.],\n",
       "           [0., 1., 1., 0., 0., 0., 0., 0., 0., 0.],\n",
       "           [0., 1., 0., 0., 0., 1., 0., 0., 0., 0.],\n",
       "           [0., 0., 0., 0., 0., 0., 1., 0., 0., 0.]]),\n",
       "    'type_': 'scalar'},\n",
       "   'adj': {'data': array([[1., 0., 1., 0., 0., 0., 0., 0., 0., 0.],\n",
       "           [0., 1., 1., 1., 0., 0., 1., 1., 1., 0.],\n",
       "           [1., 1., 1., 1., 0., 0., 1., 1., 0., 0.],\n",
       "           [0., 1., 1., 1., 1., 0., 1., 0., 0., 0.],\n",
       "           [0., 0., 0., 1., 1., 1., 0., 0., 0., 0.],\n",
       "           [0., 0., 0., 0., 1., 1., 1., 0., 1., 0.],\n",
       "           [0., 1., 1., 1., 0., 1., 1., 0., 0., 1.],\n",
       "           [0., 1., 1., 0., 0., 0., 0., 1., 0., 0.],\n",
       "           [0., 1., 0., 0., 0., 1., 0., 0., 1., 0.],\n",
       "           [0., 0., 0., 0., 0., 0., 1., 0., 0., 1.]]),\n",
       "    'type_': 'mask'}},\n",
       "  'graph': {}},\n",
       " 'output': {'node': {'pi': {'data': array([0, 2, 0, 2, 3, 6, 2, 2, 1, 6]),\n",
       "    'type_': 'pointer'}},\n",
       "  'edge': {},\n",
       "  'graph': {}},\n",
       " 'hint': {'node': {'reach_h': {'data': array([[1., 0., 0., 0., 0., 0., 0., 0., 0., 0.],\n",
       "           [1., 0., 1., 0., 0., 0., 0., 0., 0., 0.],\n",
       "           [1., 1., 1., 1., 0., 0., 1., 1., 0., 0.],\n",
       "           [1., 1., 1., 1., 1., 1., 1., 1., 1., 1.]]),\n",
       "    'type_': 'mask'},\n",
       "   'pi_h': {'data': array([[0, 1, 2, 3, 4, 5, 6, 7, 8, 9],\n",
       "           [0, 1, 0, 3, 4, 5, 6, 7, 8, 9],\n",
       "           [0, 2, 0, 2, 4, 5, 2, 2, 8, 9],\n",
       "           [0, 2, 0, 2, 3, 6, 2, 2, 1, 6]]),\n",
       "    'type_': 'pointer'}},\n",
       "  'edge': {},\n",
       "  'graph': {}}}"
      ]
     },
     "execution_count": 12,
     "metadata": {},
     "output_type": "execute_result"
    }
   ],
   "source": [
    "probes"
   ]
  },
  {
   "cell_type": "code",
   "execution_count": 28,
   "metadata": {},
   "outputs": [
    {
     "data": {
      "text/plain": [
       "<networkx.classes.graph.Graph at 0x1761ebcd0>"
      ]
     },
     "execution_count": 28,
     "metadata": {},
     "output_type": "execute_result"
    },
    {
     "data": {
      "image/png": "[encoded data removed]",
      "text/plain": [
       "<Figure size 640x480 with 1 Axes>"
      ]
     },
     "metadata": {},
     "output_type": "display_data"
    }
   ],
   "source": [
    "def visualize_bfs_tree(A, pi):\n",
    "    G = nx.from_numpy_array(A)\n",
    "    edges = [(pi[i], i) for i in range(len(pi)) if pi[i] != -1]\n",
    "    G.add_edges_from(edges)\n",
    "    pos = nx.spring_layout(G)\n",
    "    nx.draw(G, pos, with_labels=True)\n",
    "    nx.draw_networkx_edge_labels(G, pos, edge_labels={(pi[i], i): f'{pi[i]}->{i}' for i in range(len(pi)) if pi[i] != -1})\n",
    "    return G\n",
    "\n",
    "visualize_bfs_tree(A, pi)"
   ]
  },
  {
   "cell_type": "code",
   "execution_count": 8,
   "metadata": {},
   "outputs": [],
   "source": [
    "def bfs_mod(A, s):\n",
    "    # apply bfs but pi + hints (each step result)\n",
    "    n = len(A)\n",
    "    hints = []\n",
    "    # use bfs \n",
    "    for i in range(n):  \n",
    "        bfs__ = bfs(A, i)\n",
    "        pi, probes = bfs__\n",
    "        hints.append((pi))\n",
    "    return hints\n",
    "\n",
    "hints = bfs_mod(A, s)"
   ]
  },
  {
   "cell_type": "code",
   "execution_count": 9,
   "metadata": {},
   "outputs": [],
   "source": [
    "def get_edges_indexes(A):\n",
    "    edge_indexes = [[],[]]\n",
    "    \"\"\"Create a 2x1 list of lists to store the indexes of the edges in the adjacency matrix.\"\"\"\n",
    "    for i in range(len(A)):\n",
    "        for j in range(len(A)):\n",
    "            if A[i][j] == 1:\n",
    "                edge_indexes[0].append(i)\n",
    "                edge_indexes[1].append(j)\n",
    "    return edge_indexes"
   ]
  },
  {
   "cell_type": "code",
   "execution_count": 10,
   "metadata": {},
   "outputs": [],
   "source": [
    "def get_edges(A, pi):\n",
    "    edge_indexes = get_edges_indexes(A)\n",
    "    edges = np.zeros(len(edge_indexes[0]))\n",
    "    for i in range(len(pi)):\n",
    "        if pi[i] != -1:\n",
    "            for j in range(len(edge_indexes[0])):\n",
    "                if edge_indexes[1][j] == i and edge_indexes[0][j] == pi[i]:\n",
    "                    edges[j] = 1\n",
    "    return edges"
   ]
  },
  {
   "cell_type": "code",
   "execution_count": 157,
   "metadata": {},
   "outputs": [
    {
     "name": "stdout",
     "output_type": "stream",
     "text": [
      "[1. 1. 0. 0. 0. 0. 0. 0. 0. 0. 0. 0. 0. 0. 0. 0. 0. 0. 0. 0. 0. 0. 0. 0.\n",
      " 0. 0. 0. 0. 0. 0. 0. 0. 0. 0. 0. 0. 0. 0.]\n"
     ]
    }
   ],
   "source": [
    "# test the function\n",
    "pi = [0, 0, 6, 0, 4, 5, 0, 7, 8, 9]\n",
    "edges = get_edges(A, pi)\n",
    "print(edges)"
   ]
  },
  {
   "cell_type": "code",
   "execution_count": 72,
   "metadata": {},
   "outputs": [],
   "source": [
    "# genearte random er graph\n",
    "n = 10\n",
    "p = 0.3\n",
    "G = nx.erdos_renyi_graph(n, p)\n",
    "\n",
    "# get the adjacency matrix\n",
    "A = nx.to_numpy_array(G)\n",
    "\n",
    "# apply bfs\n",
    "s = 0\n",
    "pi, hints = bfs(A, s)"
   ]
  },
  {
   "cell_type": "code",
   "execution_count": null,
   "metadata": {},
   "outputs": [],
   "source": []
  },
  {
   "cell_type": "code",
   "execution_count": null,
   "metadata": {},
   "outputs": [],
   "source": []
  }
 ],
 "metadata": {
  "kernelspec": {
   "display_name": "base",
   "language": "python",
   "name": "python3"
  },
  "language_info": {
   "codemirror_mode": {
    "name": "ipython",
    "version": 3
   },
   "file_extension": ".py",
   "mimetype": "text/x-python",
   "name": "python",
   "nbconvert_exporter": "python",
   "pygments_lexer": "ipython3",
   "version": "3.11.4"
  }
 },
 "nbformat": 4,
 "nbformat_minor": 2
}
