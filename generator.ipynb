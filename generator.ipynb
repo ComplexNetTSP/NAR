{
 "cells": [
  {
   "cell_type": "code",
   "execution_count": 3,
   "metadata": {},
   "outputs": [],
   "source": [
    "from clrs._src.algorithms.graphs import bfs"
   ]
  },
  {
   "cell_type": "code",
   "execution_count": 4,
   "metadata": {},
   "outputs": [],
   "source": [
    "import numpy as np\n",
    "from torch_geometric.data import Data\n",
    "import networkx as nx"
   ]
  },
  {
   "cell_type": "code",
   "execution_count": 5,
   "metadata": {},
   "outputs": [],
   "source": [
    "class CLRSData(Data):\n",
    "    \"\"\"A data object for CLRS data.\"\"\"\n",
    "    def __init__(self, **kwargs):\n",
    "        super().__init__(**kwargs)"
   ]
  },
  {
   "cell_type": "code",
   "execution_count": 11,
   "metadata": {},
   "outputs": [],
   "source": [
    "import numpy as np\n",
    "import networkx as nx\n",
    "from clrs._src.algorithms.graphs import bfs\n",
    "import matplotlib.pyplot as plt\n",
    "import torch\n",
    "class graph_generator:\n",
    "    def __init__(self, n, p, directed=False, type='erdos_renyi'):\n",
    "        self.n = n # number of nodes\n",
    "        self.p = p # probability of edge creation\n",
    "        self.s = np.random.randint(0, n) # source node\n",
    "        if type == 'erdos_renyi':\n",
    "            self.graph = nx.erdos_renyi_graph(n, p, directed=directed)\n",
    "        self.adj = nx.to_numpy_array(self.graph)\n",
    "        self.edges_indexes = self.get_edges_indexes(self.adj)\n",
    "\n",
    "        self.pi, probes = bfs(self.adj, self.s)\n",
    "        self.pi_h = probes['hint']['node']['pi_h']['data']\n",
    "        self.reach_h = probes['hint']['node']['reach_h']['data']\n",
    "\n",
    "        self.pi = self.get_edges(self.adj, self.pi)\n",
    "        self.pi_h = np.array([self.get_edges(self.adj, x) for x in self.pi_h])\n",
    "        self.pos = np.arange(0, n)/n\n",
    "        self.length = (self.pi_h).shape[0] # length of the sequence of hints\n",
    "\n",
    "        dict = {'edge_index': self.edges_indexes, 'pos': self.pos, 'length': self.length, 's': self.s, 'pi': self.pi, 'reach_h': self.reach_h, 'pi_h': self.pi_h}\n",
    "        dict = {k: self.to_torch(v) for k,v in dict.items()}\n",
    "        dict['hints'] = np.array(['reach_h', 'pi_h'])\n",
    "        dict['inputs'] = np.array(['pos', 's'])\n",
    "        dict['outputs'] = np.array(['pi'])\n",
    "        self.tensor = CLRSData(**dict)\n",
    "\n",
    "    def get_edges_indexes(self, A):\n",
    "        edge_indexes = [[],[]]\n",
    "        \"\"\"Create a 2x1 list of lists to store the indexes of the edges in the adjacency matrix.\"\"\"\n",
    "        for i in range(len(A)):\n",
    "            for j in range(len(A)):\n",
    "                if A[i][j] == 1:\n",
    "                    edge_indexes[0].append(i)\n",
    "                    edge_indexes[1].append(j)\n",
    "        return edge_indexes\n",
    "    \n",
    "    def get_edges(self, A, pi):\n",
    "        \"\"\"Returns a binary list of edges in the graph. If the edge was accessed by the algorithm, it is marked as 1, otherwise it is 0.\"\"\"\n",
    "        edge_indexes = self.get_edges_indexes(A)\n",
    "        edges = np.zeros(len(edge_indexes[0]))\n",
    "        for i in range(len(pi)):\n",
    "            if pi[i] != -1:\n",
    "                for j in range(len(edge_indexes[0])):\n",
    "                    if edge_indexes[1][j] == i and edge_indexes[0][j] == pi[i]:\n",
    "                        edges[j] = 1\n",
    "        return edges\n",
    "    \n",
    "    def draw(self):\n",
    "        nx.draw(self.graph, with_labels=True)\n",
    "        plt.show()\n",
    "    \n",
    "    def to_torch(self, value):\n",
    "        if isinstance(value, np.ndarray):\n",
    "            return torch.from_numpy(value)\n",
    "        elif isinstance(value, torch.Tensor):\n",
    "            return value\n",
    "        else:\n",
    "            return torch.tensor(value)\n",
    "        \n",
    "    def save(self, path):\n",
    "        torch.save(self.tensor, path)"
   ]
  },
  {
   "cell_type": "code",
   "execution_count": 12,
   "metadata": {},
   "outputs": [],
   "source": [
    "# test de la clase\n",
    "n =10\n",
    "p = 0.3\n",
    "g = graph_generator(n, p)"
   ]
  },
  {
   "cell_type": "code",
   "execution_count": 13,
   "metadata": {},
   "outputs": [],
   "source": [
    "from concurrent.futures import ThreadPoolExecutor\n",
    "class graph_generator_batch:\n",
    "    def __init__(self, n, p, path, directed=False, max_workers=2):\n",
    "        self.n = np.array(n)\n",
    "        self.p = np.array(p)\n",
    "        self.directed = directed\n",
    "        self.path = path\n",
    "        self.max_workers = max_workers\n",
    "    \n",
    "    def generate(self, num_graphs):\n",
    "        print('Generating ' + str(num_graphs) + ' graphs')\n",
    "        for i in range(num_graphs):\n",
    "            self.generate_graph(i)\n",
    "\n",
    "    def generate_graph(self, i):\n",
    "        g = graph_generator(np.random.randint(self.n[0], self.n[1]), np.random.uniform(self.p[0], self.p[1]), directed=self.directed)\n",
    "        g.save(self.path + '/graph' + str(i) + '.pt')"
   ]
  },
  {
   "cell_type": "code",
   "execution_count": 14,
   "metadata": {},
   "outputs": [],
   "source": [
    "import os\n",
    "n = [10, 20]\n",
    "p = [0.3, 0.5]\n",
    "path = os.getcwd() + '/data'"
   ]
  },
  {
   "cell_type": "code",
   "execution_count": 15,
   "metadata": {},
   "outputs": [
    {
     "name": "stdout",
     "output_type": "stream",
     "text": [
      "Generating 10 graphs\n"
     ]
    }
   ],
   "source": [
    "num_graphs = 10\n",
    "g = graph_generator_batch(n, p, path)\n",
    "g.generate(num_graphs)"
   ]
  },
  {
   "cell_type": "code",
   "execution_count": 16,
   "metadata": {},
   "outputs": [
    {
     "name": "stdout",
     "output_type": "stream",
     "text": [
      "CLRSData(edge_index=[2, 66], pos=[15], length=4, s=2, pi=[66], reach_h=[4, 15], pi_h=[4, 66], hints=[2], inputs=[2], outputs=[1])\n"
     ]
    }
   ],
   "source": [
    "# access the first graph\n",
    "graph = torch.load(path + '/graph0.pt')\n",
    "print(graph)"
   ]
  },
  {
   "cell_type": "code",
   "execution_count": null,
   "metadata": {},
   "outputs": [],
   "source": [
    "# create an encoder class\n",
    "import torch\n",
    "import torch.nn as nn\n",
    "import torch.nn.functional as F\n",
    "from torch_geometric.nn import GCNConv\n",
    "\n",
    "class Encoder(nn.Module):\n",
    "    def __init__(self, input_dim, hidden_dim, output_dim, num_layers):\n",
    "        super(Encoder, self).__init__()\n",
    "        \n",
    "        \n",
    "    def forward(self, data):\n",
    "        x, edge_index = data.x, data.edge_index\n",
    "        x = F.relu(self.conv1(x, edge_index))\n",
    "        for conv in self.convs:\n",
    "            x = F.relu(conv(x, edge_index))\n",
    "        x = self.conv2(x, edge_index)\n",
    "        return x"
   ]
  },
  {
   "cell_type": "code",
   "execution_count": null,
   "metadata": {},
   "outputs": [],
   "source": []
  },
  {
   "cell_type": "code",
   "execution_count": null,
   "metadata": {},
   "outputs": [],
   "source": []
  },
  {
   "cell_type": "code",
   "execution_count": null,
   "metadata": {},
   "outputs": [],
   "source": []
  }
 ],
 "metadata": {
  "kernelspec": {
   "display_name": "base",
   "language": "python",
   "name": "python3"
  },
  "language_info": {
   "codemirror_mode": {
    "name": "ipython",
    "version": 3
   },
   "file_extension": ".py",
   "mimetype": "text/x-python",
   "name": "python",
   "nbconvert_exporter": "python",
   "pygments_lexer": "ipython3",
   "version": "3.11.4"
  }
 },
 "nbformat": 4,
 "nbformat_minor": 2
}
