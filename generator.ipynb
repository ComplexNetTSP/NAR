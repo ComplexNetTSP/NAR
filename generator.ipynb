{
 "cells": [
  {
   "cell_type": "code",
   "execution_count": 105,
   "metadata": {},
   "outputs": [],
   "source": [
    "from clrs._src.algorithms.graphs import bfs"
   ]
  },
  {
   "cell_type": "code",
   "execution_count": 106,
   "metadata": {},
   "outputs": [],
   "source": [
    "import numpy as np\n",
    "from torch_geometric.data import Data\n",
    "import networkx as nx"
   ]
  },
  {
   "cell_type": "code",
   "execution_count": 107,
   "metadata": {},
   "outputs": [],
   "source": [
    "class CLRSData(Data):\n",
    "    \"\"\"A data object for CLRS data.\"\"\"\n",
    "    def __init__(self, **kwargs):\n",
    "        super().__init__(**kwargs)"
   ]
  },
  {
   "cell_type": "code",
   "execution_count": 108,
   "metadata": {},
   "outputs": [],
   "source": [
    "import numpy as np\n",
    "import networkx as nx\n",
    "from clrs._src.algorithms.graphs import bfs\n",
    "import matplotlib.pyplot as plt\n",
    "import torch\n",
    "class graph_generator:\n",
    "    def __init__(self, n, p, directed=False, type='erdos_renyi'):\n",
    "        self.n = n # number of nodes\n",
    "        self.p = p # probability of edge creation\n",
    "        self.s = np.random.randint(0, n) # source node\n",
    "        if type == 'erdos_renyi':\n",
    "            self.graph = nx.erdos_renyi_graph(n, p, directed=directed)\n",
    "        self.adj = nx.to_numpy_array(self.graph)\n",
    "        self.edges_indexes = self.get_edges_indexes(self.adj)\n",
    "        # write edgelist in edge_indexes\n",
    "        #self.edges_indexes = nx.to_edgelist(self.graph)\n",
    "        # make it into a list of lists 2x1 for the edge indexes\n",
    "        #self.edges_indexes = [[x[0] for x in self.edges_indexes], [x[1] for x in self.edges_indexes]]\n",
    "    \n",
    "        self.pi, probes = bfs(self.adj, self.s)\n",
    "        self.pi_h = probes['hint']['node']['pi_h']['data']\n",
    "        self.reach_h = probes['hint']['node']['reach_h']['data']\n",
    "\n",
    "        self.pi = self.get_edges(self.adj, self.pi)\n",
    "        self.pi_h = np.array([self.get_edges(self.adj, x) for x in self.pi_h])\n",
    "        self.pos = np.arange(0, n)/n\n",
    "        self.length = (self.pi_h).shape[0] # length of the sequence of hints\n",
    "\n",
    "        dict = {'edge_index': self.edges_indexes, 'pos': self.pos, 'length': self.length, 's': self.s, 'pi': self.pi, 'reach_h': self.reach_h, 'pi_h': self.pi_h}\n",
    "        dict = {k: self.to_torch(v) for k,v in dict.items()}\n",
    "        dict['hints'] = np.array(['reach_h', 'pi_h'])\n",
    "        dict['inputs'] = np.array(['pos', 's'])\n",
    "        dict['outputs'] = np.array(['pi'])\n",
    "        self.tensor = CLRSData(**dict)\n",
    "\n",
    "    def get_edges_indexes(self, A):\n",
    "        edge_indexes = [[],[]]\n",
    "        \"\"\"Create a 2x1 list of lists to store the indexes of the edges in the adjacency matrix.\"\"\"\n",
    "        for i in range(len(A)):\n",
    "            for j in range(len(A)):\n",
    "                if A[i][j] == 1:\n",
    "                    edge_indexes[0].append(i)\n",
    "                    edge_indexes[1].append(j)\n",
    "        return edge_indexes\n",
    "    \n",
    "    def get_edges(self, A, pi):\n",
    "        \"\"\"Returns a binary list of edges in the graph. If the edge was accessed by the algorithm, it is marked as 1, otherwise it is 0.\"\"\"\n",
    "        edge_indexes = self.get_edges_indexes(A)\n",
    "        edges = np.zeros(len(edge_indexes[0]))\n",
    "        for i in range(len(pi)):\n",
    "            if pi[i] != -1:\n",
    "                for j in range(len(edge_indexes[0])):\n",
    "                    if edge_indexes[1][j] == i and edge_indexes[0][j] == pi[i]:\n",
    "                        edges[j] = 1\n",
    "        return edges\n",
    "    \n",
    "    def draw(self):\n",
    "        nx.draw(self.graph, with_labels=True)\n",
    "        plt.show()\n",
    "    \n",
    "    def to_torch(self, value):\n",
    "        if isinstance(value, np.ndarray):\n",
    "            return torch.from_numpy(value)\n",
    "        elif isinstance(value, torch.Tensor):\n",
    "            return value\n",
    "        else:\n",
    "            return torch.tensor(value)\n",
    "        \n",
    "    def save(self, path):\n",
    "        torch.save(self.tensor, path)\n",
    "\n",
    "    def saveRawFile(self, path):\n",
    "        \"\"\"saves the graph as an edge list\"\"\"\n",
    "        nx.write_edgelist(self.graph, path, delimiter='\\t', data=False)"
   ]
  },
  {
   "cell_type": "code",
   "execution_count": 109,
   "metadata": {},
   "outputs": [],
   "source": [
    "# test de la clase\n",
    "n =10\n",
    "p = 0.3\n",
    "g = graph_generator(n, p)"
   ]
  },
  {
   "cell_type": "code",
   "execution_count": 122,
   "metadata": {},
   "outputs": [],
   "source": [
    "from concurrent.futures import ThreadPoolExecutor\n",
    "from tqdm import tqdm\n",
    "import os\n",
    "import os.path as osp\n",
    "\n",
    "class GraphGenerator:\n",
    "    def __init__(self, n, p, root:str=\"./data\", num_graphs:int=100, directed:bool=False, max_workers:int=2):\n",
    "        self.n = np.array(n)\n",
    "        self.p = np.array(p)\n",
    "        self.directed = directed\n",
    "        self.path = root\n",
    "        self.max_workers = max_workers\n",
    "        self.num_graphs = num_graphs\n",
    "\n",
    "        # check if the directory exists\n",
    "        if not os.path.exists(osp.join(self.path)):\n",
    "            os.makedirs(osp.join(self.path))\n",
    "        if not os.path.exists(osp.join(self.path, 'raw')):\n",
    "            os.makedirs(osp.join(self.path, 'raw'))\n",
    "    \n",
    "    def generate(self):\n",
    "        print('Generating ' + str(self.num_graphs) + ' graphs')\n",
    "        with tqdm(total=self.num_graphs) as pbar:\n",
    "            with ThreadPoolExecutor(max_workers=self.max_workers) as executor:\n",
    "                for i in range(self.num_graphs):\n",
    "                    executor.submit(self.generate_graph(i))\n",
    "                    pbar.update(1)\n",
    "\n",
    "    def generate_graph(self, i):\n",
    "        g = graph_generator(n, p, directed=self.directed)\n",
    "        g.saveRawFile(osp.join(self.path, 'raw', 'er_graph_' + str(i) + '.edgelist'))"
   ]
  },
  {
   "cell_type": "code",
   "execution_count": 137,
   "metadata": {},
   "outputs": [],
   "source": [
    "from torch_geometric.data import Dataset\n",
    "import os.path as osp\n",
    "import glob\n",
    "import torch\n",
    "from torch_geometric.data import Dataset, download_url\n",
    "class RandomGraphDataset(Dataset):\n",
    "    def __init__(self, root: str = \"./data\", gen_num_graph: int = 100, n: int = 10, p: float = 0.01, directed: bool = False, transform=None, pre_transform=None):\n",
    "        self.n = n\n",
    "        self.p = p\n",
    "        self.directed = directed\n",
    "        self.gen_num_graphs = gen_num_graph\n",
    "        super(RandomGraphDataset, self).__init__(root, transform, pre_transform)\n",
    "    \n",
    "    @property\n",
    "    def raw_file_names(self):\n",
    "        return list(map(os.path.basename,glob.glob(osp.join(self.raw_dir, \"*.edgelist\"))))\n",
    "    \n",
    "    @property\n",
    "    def processed_file_names(self):\n",
    "        return list(map(os.path.basename,glob.glob(osp.join(self.processed_dir, \"*.pt\"))))\n",
    "    \n",
    "    def download(self):\n",
    "        \"\"\"Creates an instance of the graph generator and generates the graphs.\"\"\"\n",
    "        gen = GraphGenerator(n=self.n, p=self.p, root=self.root, num_graphs=self.gen_num_graphs, directed=self.directed) \n",
    "        gen.generate()\n",
    "           \n",
    "    def process(self):\n",
    "        if not os.path.exists(osp.join(self.root, 'processed')):\n",
    "            os.makedirs(osp.join(self.root, 'processed'))\n",
    "        # for each raw file, create a graph, apply bfs and create a tensor with the data\n",
    "        for i in range(self.gen_num_graphs):\n",
    "            # go through the raw files and create a graph without the need to generate it again\n",
    "            g = nx.read_edgelist(osp.join(self.root, 'raw', 'er_graph_' + str(i) + '.edgelist'), nodetype=int)\n",
    "            adj = nx.to_numpy_array(g)\n",
    "            edges_indexes = self.get_edges_indexes(adj)\n",
    "            s = np.random.randint(0, len(adj))\n",
    "            pi, probes = bfs(adj, s)\n",
    "            pi_h = probes['hint']['node']['pi_h']['data']\n",
    "            reach_h = probes['hint']['node']['reach_h']['data']\n",
    "            pi = self.get_edges(adj, pi)\n",
    "            pi_h = np.array([self.get_edges(adj, x) for x in pi_h])\n",
    "            pos = np.arange(0, len(adj))/len(adj)\n",
    "            length = (pi_h).shape[0]\n",
    "            dict = {'edge_index': edges_indexes, 'pos': pos, 'length': length, 's': s, 'pi': pi, 'reach_h': reach_h, 'pi_h': pi_h}\n",
    "            dict = {k: self.to_torch(v) for k,v in dict.items()}\n",
    "            dict['hints'] = np.array(['reach_h', 'pi_h'])\n",
    "            dict['inputs'] = np.array(['pos', 's'])\n",
    "            dict['outputs'] = np.array(['pi'])\n",
    "            tensor = CLRSData(**dict)\n",
    "\n",
    "            if self.pre_transform is not None:\n",
    "                tensor = self.pre_transform(tensor)\n",
    "            torch.save(tensor, osp.join(self.root, 'processed', 'data' + str(i) + '.pt'))\n",
    "        \n",
    "    def len(self):\n",
    "        \"\"\"Returns the number of files.\"\"\"\n",
    "        return len(self.raw_file_names)\n",
    "    \n",
    "    def get(self, idx):\n",
    "        \"\"\"Returns the idx-th graph in the dataset. (Tensor)\"\"\"\n",
    "        data = torch.load(osp.join(self.root, 'processed', 'data' + str(idx) + '.pt'))\n",
    "        return data\n",
    "        \n",
    "    def get_edges_indexes(self, A):\n",
    "            edge_indexes = [[],[]]\n",
    "            \"\"\"Create a 2x1 list of lists to store the indexes of the edges in the adjacency matrix.\"\"\"\n",
    "            for i in range(len(A)):\n",
    "                for j in range(len(A)):\n",
    "                    if A[i][j] == 1:\n",
    "                        edge_indexes[0].append(i)\n",
    "                        edge_indexes[1].append(j)\n",
    "            return edge_indexes\n",
    "    \n",
    "    def get_edges(self, A, pi):\n",
    "        \"\"\"Returns a binary list of edges in the graph. If the edge was accessed by the algorithm, it is marked as 1, otherwise it is 0.\"\"\"\n",
    "        edge_indexes = self.get_edges_indexes(A)\n",
    "        edges = np.zeros(len(edge_indexes[0]))\n",
    "        for i in range(len(pi)):\n",
    "            if pi[i] != -1:\n",
    "                for j in range(len(edge_indexes[0])):\n",
    "                    if edge_indexes[1][j] == i and edge_indexes[0][j] == pi[i]:\n",
    "                        edges[j] = 1\n",
    "        return edges\n",
    "\n",
    "    def to_torch(self, value):\n",
    "        \"\"\"Transforms a numpy array into a torch tensor.\"\"\"\n",
    "        if isinstance(value, np.ndarray):\n",
    "            return torch.from_numpy(value)\n",
    "        elif isinstance(value, torch.Tensor):\n",
    "            return value\n",
    "        else:\n",
    "            return torch.tensor(value)"
   ]
  },
  {
   "cell_type": "code",
   "execution_count": 141,
   "metadata": {},
   "outputs": [
    {
     "name": "stdout",
     "output_type": "stream",
     "text": [
      "Generating 10 graphs\n"
     ]
    },
    {
     "name": "stderr",
     "output_type": "stream",
     "text": [
      "100%|██████████| 10/10 [00:00<00:00, 430.57it/s]\n",
      "Processing...\n",
      "Done!\n"
     ]
    }
   ],
   "source": [
    "# test de la clase\n",
    "n = 10\n",
    "p = 0.3\n",
    "dataset = RandomGraphDataset(root='./data', gen_num_graph=10, n=n, p=p)"
   ]
  },
  {
   "cell_type": "code",
   "execution_count": 142,
   "metadata": {},
   "outputs": [
    {
     "data": {
      "text/plain": [
       "CLRSData(edge_index=[2, 30], pos=[10], length=3, s=3, pi=[30], reach_h=[3, 10], pi_h=[3, 30], hints=[2], inputs=[2], outputs=[1])"
      ]
     },
     "execution_count": 142,
     "metadata": {},
     "output_type": "execute_result"
    }
   ],
   "source": [
    "# check one of the tensors content\n",
    "dataset.get(0)"
   ]
  },
  {
   "cell_type": "code",
   "execution_count": 29,
   "metadata": {},
   "outputs": [],
   "source": [
    "import os\n",
    "n = [10, 20]\n",
    "p = [0.3, 0.5]\n",
    "path = os.getcwd() + '/data'"
   ]
  },
  {
   "cell_type": "code",
   "execution_count": 30,
   "metadata": {},
   "outputs": [
    {
     "name": "stdout",
     "output_type": "stream",
     "text": [
      "Generating 10 graphs\n"
     ]
    },
    {
     "name": "stderr",
     "output_type": "stream",
     "text": [
      "100%|██████████| 10/10 [00:00<00:00, 331.80it/s]\n"
     ]
    }
   ],
   "source": [
    "num_graphs = 10\n",
    "g = GraphGenerator(n, p, path)\n",
    "g.generate(num_graphs)"
   ]
  },
  {
   "cell_type": "code",
   "execution_count": 31,
   "metadata": {},
   "outputs": [
    {
     "name": "stdout",
     "output_type": "stream",
     "text": [
      "CLRSData(edge_index=[2, 52], pos=[11], length=3, s=7, pi=[52], reach_h=[3, 11], pi_h=[3, 52], hints=[2], inputs=[2], outputs=[1])\n"
     ]
    }
   ],
   "source": [
    "# access the first graph\n",
    "graph = torch.load(path + '/graph0.pt')\n",
    "print(graph)"
   ]
  },
  {
   "cell_type": "code",
   "execution_count": 10,
   "metadata": {},
   "outputs": [
    {
     "data": {
      "text/plain": [
       "tensor([[ 0,  0,  0,  0,  0,  1,  1,  1,  1,  1,  2,  2,  2,  2,  2,  3,  3,  3,\n",
       "          3,  3,  4,  4,  4,  4,  5,  5,  6,  6,  6,  6,  7,  7,  7,  7,  7,  8,\n",
       "          8,  8,  8,  9,  9,  9,  9,  9,  9, 10, 10, 10, 10, 10, 10, 10],\n",
       "        [ 1,  2,  4,  6, 10,  0,  2,  5,  8,  9,  0,  1,  3,  7, 10,  2,  4,  6,\n",
       "          7, 10,  0,  3,  6,  9,  1,  9,  0,  3,  4, 10,  2,  3,  8,  9, 10,  1,\n",
       "          7,  9, 10,  1,  4,  5,  7,  8, 10,  0,  2,  3,  6,  7,  8,  9]])"
      ]
     },
     "execution_count": 10,
     "metadata": {},
     "output_type": "execute_result"
    }
   ],
   "source": [
    "graph.edge_index"
   ]
  },
  {
   "cell_type": "code",
   "execution_count": 11,
   "metadata": {},
   "outputs": [],
   "source": [
    "# create an encoder class\n",
    "import torch.nn as nn\n",
    "import torch.nn.functional as F\n",
    "\n",
    "class Encoder(nn.Module):\n",
    "    def __init__(self, input_dim, hidden_dim = 128):\n",
    "        super(Encoder, self).__init__()\n",
    "        self.input_dim = input_dim\n",
    "        self.hidden_dim = hidden_dim\n",
    "        self.lin = nn.Linear(input_dim, hidden_dim)\n",
    "\n",
    "    def forward(self, x):\n",
    "        return self.lin(x)"
   ]
  },
  {
   "cell_type": "code",
   "execution_count": null,
   "metadata": {},
   "outputs": [],
   "source": []
  },
  {
   "cell_type": "code",
   "execution_count": null,
   "metadata": {},
   "outputs": [],
   "source": []
  }
 ],
 "metadata": {
  "kernelspec": {
   "display_name": "base",
   "language": "python",
   "name": "python3"
  },
  "language_info": {
   "codemirror_mode": {
    "name": "ipython",
    "version": 3
   },
   "file_extension": ".py",
   "mimetype": "text/x-python",
   "name": "python",
   "nbconvert_exporter": "python",
   "pygments_lexer": "ipython3",
   "version": "3.11.4"
  }
 },
 "nbformat": 4,
 "nbformat_minor": 2
}
