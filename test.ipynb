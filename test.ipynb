{
 "cells": [
  {
   "cell_type": "code",
   "execution_count": 6,
   "metadata": {},
   "outputs": [],
   "source": [
    "from data.generator import *"
   ]
  },
  {
   "cell_type": "code",
   "execution_count": 107,
   "metadata": {},
   "outputs": [
    {
     "name": "stdout",
     "output_type": "stream",
     "text": [
      "Generating 10 graphs\n"
     ]
    },
    {
     "name": "stderr",
     "output_type": "stream",
     "text": [
      "100%|██████████| 10/10 [00:00<00:00, 1385.81it/s]\n",
      "Processing...\n",
      "100%|██████████| 10/10 [00:00<00:00, 404.36it/s]\n",
      "Done!\n"
     ]
    }
   ],
   "source": [
    "n = 6\n",
    "p = 0.3\n",
    "\n",
    "dataset = RandomGraphDataset(root='./data', gen_num_graph=10, n=n, p=p)"
   ]
  },
  {
   "cell_type": "code",
   "execution_count": 108,
   "metadata": {},
   "outputs": [
    {
     "data": {
      "text/plain": [
       "CLRSData(edge_index=[2, 10], pos=[6], length=4, s=0, pi=[10], reach_h=[4, 6], pi_h=[4, 10], hints=[2], inputs=[2], outputs=[1])"
      ]
     },
     "execution_count": 108,
     "metadata": {},
     "output_type": "execute_result"
    }
   ],
   "source": [
    "dataset[0]"
   ]
  },
  {
   "cell_type": "code",
   "execution_count": 134,
   "metadata": {},
   "outputs": [],
   "source": [
    "import torch\n",
    "from torch_geometric.nn import MessagePassing\n",
    "from torch.nn import Linear\n",
    "\n",
    "class MPNN(MessagePassing):\n",
    "  def __init__(self, in_channels, hidden_channels, activation=None):\n",
    "    super(MPNN, self).__init__(aggr='max') #  \"Max\" aggregation.\n",
    "    self.in_channels = in_channels\n",
    "    self.hidden_channels = hidden_channels\n",
    "    self.messages = Linear(self.in_channels * 2, self.hidden_channels)\n",
    "    self.update_fn = Linear(self.in_channels + self.hidden_channels, self.hidden_channels)\n",
    "    self.activation = activation\n",
    "\n",
    "    self.mlp = torch.nn.Sequential(\n",
    "        Linear(2 * in_channels, hidden_channels),\n",
    "        torch.nn.ReLU(),\n",
    "        Linear(hidden_channels, hidden_channels)\n",
    "    )\n",
    "    \n",
    "  def forward(self, x, edge_index):\n",
    "    out = self.propagate(edge_index, x=x)\n",
    "    out = self.mlp(out)\n",
    "    if self.activation is not None:\n",
    "      out = self.activation(out)\n",
    "    return out\n",
    "    \n",
    "  def message(self, x_i, x_j):\n",
    "    # x_i has shape [E, in_channels]\n",
    "    # x_j has shape [E, in_channels]\n",
    "    #print('MPNN => xi, xj', x_i.size(), x_j.size())\n",
    "    tmp = torch.cat([x_i, x_j], dim=1)  # tmp has shape [E, 2 * in_channels]\n",
    "    #print('MPNN => messages IN', tmp.size())\n",
    "    m = self.messages(tmp)\n",
    "    #print('MPNN => messages OUT', m.size())\n",
    "    return m\n",
    "  \n",
    "  def update(self, aggr_out, x):\n",
    "    # aggr_out has shape [N, out_channels]\n",
    "    # x has shape [N, in_channels]\n",
    "    #print(f'MPNN => x_i', x.size(), ' aggr_out ', aggr_out.size())\n",
    "    tmp = torch.cat([x, aggr_out], dim=1)\n",
    "    #print(f'MPNN => tmp', tmp.size())\n",
    "    return self.update_fn(tmp)"
   ]
  },
  {
   "cell_type": "code",
   "execution_count": 122,
   "metadata": {},
   "outputs": [],
   "source": [
    "from models.encoder import Encoder"
   ]
  },
  {
   "cell_type": "code",
   "execution_count": 123,
   "metadata": {},
   "outputs": [
    {
     "data": {
      "text/plain": [
       "tensor([1., 1., 0., 1., 1., 0., 0., 0., 1., 0.], dtype=torch.float64)"
      ]
     },
     "execution_count": 123,
     "metadata": {},
     "output_type": "execute_result"
    }
   ],
   "source": [
    "dataset[0].pi"
   ]
  },
  {
   "cell_type": "code",
   "execution_count": 124,
   "metadata": {},
   "outputs": [],
   "source": [
    "# create an encoder class\n",
    "import torch.nn as nn\n",
    "\n",
    "class Encoder(nn.Module):\n",
    "    def __init__(self, input_dim, hidden_dim=128):\n",
    "        super(Encoder, self).__init__()\n",
    "        self.input_dim = input_dim\n",
    "        self.hidden_dim = hidden_dim\n",
    "        self.lin = nn.Linear(1, hidden_dim)\n",
    "\n",
    "    def forward(self, x):\n",
    "        if x.dim() == 1:\n",
    "            x = x.unsqueeze(-1)\n",
    "        return self.lin(x)"
   ]
  },
  {
   "cell_type": "code",
   "execution_count": 125,
   "metadata": {},
   "outputs": [
    {
     "data": {
      "text/plain": [
       "tensor([1., 1., 1., 1., 1., 1.], dtype=torch.float64)"
      ]
     },
     "execution_count": 125,
     "metadata": {},
     "output_type": "execute_result"
    }
   ],
   "source": [
    "d1['reach_h'][-1]"
   ]
  },
  {
   "cell_type": "code",
   "execution_count": 126,
   "metadata": {},
   "outputs": [],
   "source": [
    "encoder = Encoder(1, 128)"
   ]
  },
  {
   "cell_type": "code",
   "execution_count": 127,
   "metadata": {},
   "outputs": [],
   "source": [
    "d1 = dataset[0]\n",
    "# concat pos and d1.reach[-1]\n",
    "x = torch.cat([d1.pos, d1['reach_h'][1]], dim=-1)\n"
   ]
  },
  {
   "cell_type": "code",
   "execution_count": 128,
   "metadata": {},
   "outputs": [
    {
     "data": {
      "text/plain": [
       "torch.Size([12])"
      ]
     },
     "execution_count": 128,
     "metadata": {},
     "output_type": "execute_result"
    }
   ],
   "source": [
    "x.shape"
   ]
  },
  {
   "cell_type": "code",
   "execution_count": 129,
   "metadata": {},
   "outputs": [
    {
     "data": {
      "text/plain": [
       "torch.Size([12, 128])"
      ]
     },
     "execution_count": 129,
     "metadata": {},
     "output_type": "execute_result"
    }
   ],
   "source": [
    "enc = encoder(x.to(encoder.lin.weight.dtype))\n",
    "enc.shape"
   ]
  },
  {
   "cell_type": "code",
   "execution_count": 135,
   "metadata": {},
   "outputs": [
    {
     "data": {
      "text/plain": [
       "tensor([[-0.2359, -0.0652, -0.5170,  ..., -0.1245, -0.3441,  0.3432],\n",
       "        [-0.1635, -0.1216, -0.4853,  ..., -0.1552, -0.3783,  0.3189],\n",
       "        [-0.0921, -0.1402, -0.3366,  ..., -0.1429, -0.3408,  0.3960],\n",
       "        ...,\n",
       "        [-0.2694,  0.0019, -0.3031,  ..., -0.0201, -0.2309,  0.4045],\n",
       "        [-0.2694,  0.0019, -0.3031,  ..., -0.0201, -0.2309,  0.4045],\n",
       "        [-0.2694,  0.0019, -0.3031,  ..., -0.0201, -0.2309,  0.4045]],\n",
       "       grad_fn=<AddmmBackward0>)"
      ]
     },
     "execution_count": 135,
     "metadata": {},
     "output_type": "execute_result"
    }
   ],
   "source": [
    "mpnn = MPNN(128, 128)\n",
    "\n",
    "mpnn(enc, d1.edge_index)"
   ]
  },
  {
   "cell_type": "code",
   "execution_count": 102,
   "metadata": {},
   "outputs": [
    {
     "data": {
      "text/plain": [
       "2966"
      ]
     },
     "execution_count": 102,
     "metadata": {},
     "output_type": "execute_result"
    }
   ],
   "source": [
    "len(d1.edge_index[0])"
   ]
  },
  {
   "cell_type": "code",
   "execution_count": null,
   "metadata": {},
   "outputs": [],
   "source": []
  }
 ],
 "metadata": {
  "kernelspec": {
   "display_name": "base",
   "language": "python",
   "name": "python3"
  },
  "language_info": {
   "codemirror_mode": {
    "name": "ipython",
    "version": 3
   },
   "file_extension": ".py",
   "mimetype": "text/x-python",
   "name": "python",
   "nbconvert_exporter": "python",
   "pygments_lexer": "ipython3",
   "version": "3.11.4"
  }
 },
 "nbformat": 4,
 "nbformat_minor": 2
}
