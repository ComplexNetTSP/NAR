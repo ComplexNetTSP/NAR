{
 "cells": [
  {
   "cell_type": "code",
   "execution_count": 149,
   "id": "e09f8760-9d47-4e4c-8423-fad5ddd45438",
   "metadata": {},
   "outputs": [],
   "source": [
    "import random\n",
    "import networkx as nx\n",
    "from torch_geometric.utils.convert import from_networkx\n",
    "import torch\n",
    "import numpy as np\n",
    "from torch.nn import Linear\n",
    "import torch.nn as nn\n",
    "import torch.nn.functional as F\n",
    "from torch_geometric.loader import DataLoader\n",
    "import matplotlib.pylab as plt"
   ]
  },
  {
   "cell_type": "code",
   "execution_count": null,
   "id": "a35ff6c7-0627-4c7c-91bd-9d1606a244a7",
   "metadata": {},
   "outputs": [],
   "source": []
  },
  {
   "cell_type": "code",
   "execution_count": 172,
   "id": "00e6a77a-a45b-41c9-9ad8-2e88b17a6ebd",
   "metadata": {},
   "outputs": [],
   "source": [
    "def gen_data_bfs(n,p):\n",
    "    source = random.randint(0, n-1)\n",
    "    y = torch.zeros(n, dtype=torch.int32)\n",
    "                    \n",
    "    G = nx.erdos_renyi_graph(n, p)\n",
    "    nx.set_edge_attributes(G, 0.0, \"pred\")\n",
    "    \n",
    "    # BFS result \n",
    "    it = nx.bfs_predecessors(G, source=source)\n",
    "    for node, pred in iter(it):\n",
    "        y[node] = pred\n",
    "        G[node][pred]['pred'] = 1.0\n",
    "    \n",
    "    \n",
    "    # features\n",
    "    x0 = np.linspace(0,1, n)\n",
    "    x1 = np.zeros_like(x0)\n",
    "    x1[source] = 1\n",
    "\n",
    "    data = from_networkx(G, group_edge_attrs=[\"pred\"])\n",
    "    data.x = torch.tensor(np.array([x0,x1]), dtype=torch.float32).t()\n",
    "    data.y = y\n",
    "    return data"
   ]
  },
  {
   "cell_type": "code",
   "execution_count": 173,
   "id": "644b474b-997f-4cac-b05e-a76b848c6a31",
   "metadata": {},
   "outputs": [],
   "source": [
    "n_dataset = 100\n",
    "n = 20\n",
    "p = 0.15\n",
    "data_list= []\n",
    "for _ in range(n_dataset):\n",
    "    data = gen_data_bfs(n,p)\n",
    "    data_list.append(data)"
   ]
  },
  {
   "cell_type": "code",
   "execution_count": 174,
   "id": "d5a8fef3-5f04-464d-b9d6-c975a9da31b4",
   "metadata": {},
   "outputs": [],
   "source": [
    "from models import MPNN\n",
    "\n",
    "class Reasoning(nn.Module):\n",
    "    def __init__(self, emb_size, num_node, T):\n",
    "        super(Reasoning, self).__init__()\n",
    "        self.T = T \n",
    "        self.emb_size = emb_size\n",
    "        self.num_node = num_node\n",
    "        self.ENC = Linear(2, self.emb_size)\n",
    "        self.DEC = Linear(2 * self.emb_size, 1)\n",
    "        self.mpnn = MPNN(2 * self.emb_size, self.emb_size)\n",
    "        self.h_0 = torch.zeros((self.num_node, self.emb_size))\n",
    "        \n",
    "    def encoder(self, x):\n",
    "        return self.ENC(x)\n",
    "\n",
    "    def decoder(self, src, dst):\n",
    "        x = torch.cat([src, dst], dim=1)\n",
    "        return self.DEC(x)\n",
    "\n",
    "    def softmax(self, alpha_ij, edge_index):\n",
    "        exp_alpha_ij = torch.exp(alpha_ij)\n",
    "        alpha_ij_norm = torch.zeros_like(alpha_ij)\n",
    "        for i, idx in enumerate(edge_index[0]):\n",
    "            index_i = (edge_index[0] == idx).nonzero().squeeze()\n",
    "            alpha_ij_norm[i] = torch.sum(exp_alpha_ij[index_i])\n",
    "        return exp_alpha_ij / alpha_ij_norm\n",
    "\n",
    "    def forward(self, x, edge_index):\n",
    "        Z = self.encoder(x)\n",
    "        input = torch.cat([self.h_0, Z], dim=1)\n",
    "        for t in range(self.T):\n",
    "            H = self.mpnn(input, edge_index)\n",
    "            input = torch.cat([H, Z], dim=1)\n",
    "        src = H[edge_index[0]]\n",
    "        dst = H[edge_index[1]]\n",
    "        alpha_ij = self.decoder(src, dst)\n",
    "        return self.softmax(alpha_ij, edge_index) "
   ]
  },
  {
   "cell_type": "code",
   "execution_count": 175,
   "id": "b93298c4-0077-4900-a783-313ddca9d0b1",
   "metadata": {},
   "outputs": [],
   "source": [
    "lr = 0.001\n",
    "n_epochs = 30\n",
    "criterion = nn.BCELoss()\n",
    "model = Reasoning(128, data.num_nodes, 4)\n",
    "optimizer = torch.optim.Adam(model.parameters(), lr=lr)\n",
    "dataloader = DataLoader(data_list, batch_size=1)\n",
    "\n",
    "def train(model, optimizer, criterion, dataloader, n_epochs):\n",
    "    loss_list = []\n",
    "    for epoch in range(n_epochs):\n",
    "        optimizer.zero_grad()\n",
    "        loss = 0.0\n",
    "        for data in dataloader:\n",
    "            yhat = model(data.x, data.edge_index)\n",
    "            y = data.edge_attr\n",
    "            loss += criterion(yhat, y)\n",
    "        loss_list.append(loss.cpu().detach().numpy())\n",
    "        loss.backward()\n",
    "        optimizer.step()\n",
    "    return np.array(loss_list)\n",
    "\n",
    "#loss, yhat = train(model, optimizer, criterion, dataloader, n_epochs)"
   ]
  },
  {
   "cell_type": "code",
   "execution_count": 176,
   "id": "72bd40f9-af0a-490e-924a-c5f0c884ed88",
   "metadata": {},
   "outputs": [],
   "source": [
    "data = data_list[0]"
   ]
  },
  {
   "cell_type": "code",
   "execution_count": 177,
   "id": "974ba048-5552-4e1a-b97b-aac5a76690df",
   "metadata": {},
   "outputs": [
    {
     "data": {
      "text/plain": [
       "Data(edge_index=[2, 68], edge_attr=[68, 1], num_nodes=20, x=[20, 2], y=[20])"
      ]
     },
     "execution_count": 177,
     "metadata": {},
     "output_type": "execute_result"
    }
   ],
   "source": [
    "data"
   ]
  },
  {
   "cell_type": "code",
   "execution_count": 181,
   "id": "e35b6cb0-10eb-4b9e-b171-158d5dfcdb8b",
   "metadata": {},
   "outputs": [
    {
     "name": "stdout",
     "output_type": "stream",
     "text": [
      "tensor(0.9337, grad_fn=<BinaryCrossEntropyBackward0>)\n",
      "tensor(0.9097, grad_fn=<BinaryCrossEntropyBackward0>)\n",
      "tensor(0.8909, grad_fn=<BinaryCrossEntropyBackward0>)\n",
      "tensor(0.8772, grad_fn=<BinaryCrossEntropyBackward0>)\n",
      "tensor(0.8769, grad_fn=<BinaryCrossEntropyBackward0>)\n",
      "tensor(0.8749, grad_fn=<BinaryCrossEntropyBackward0>)\n",
      "tensor(0.8670, grad_fn=<BinaryCrossEntropyBackward0>)\n",
      "tensor(0.8629, grad_fn=<BinaryCrossEntropyBackward0>)\n",
      "tensor(0.8619, grad_fn=<BinaryCrossEntropyBackward0>)\n",
      "tensor(0.8615, grad_fn=<BinaryCrossEntropyBackward0>)\n",
      "tensor(0.8608, grad_fn=<BinaryCrossEntropyBackward0>)\n",
      "tensor(0.8601, grad_fn=<BinaryCrossEntropyBackward0>)\n",
      "tensor(0.8585, grad_fn=<BinaryCrossEntropyBackward0>)\n",
      "tensor(0.8557, grad_fn=<BinaryCrossEntropyBackward0>)\n",
      "tensor(0.8525, grad_fn=<BinaryCrossEntropyBackward0>)\n",
      "tensor(0.8496, grad_fn=<BinaryCrossEntropyBackward0>)\n",
      "tensor(0.8475, grad_fn=<BinaryCrossEntropyBackward0>)\n",
      "tensor(0.8458, grad_fn=<BinaryCrossEntropyBackward0>)\n",
      "tensor(0.8440, grad_fn=<BinaryCrossEntropyBackward0>)\n",
      "tensor(0.8417, grad_fn=<BinaryCrossEntropyBackward0>)\n",
      "tensor(0.8403, grad_fn=<BinaryCrossEntropyBackward0>)\n",
      "tensor(0.8403, grad_fn=<BinaryCrossEntropyBackward0>)\n",
      "tensor(0.8404, grad_fn=<BinaryCrossEntropyBackward0>)\n",
      "tensor(0.8400, grad_fn=<BinaryCrossEntropyBackward0>)\n",
      "tensor(0.8391, grad_fn=<BinaryCrossEntropyBackward0>)\n",
      "tensor(0.8380, grad_fn=<BinaryCrossEntropyBackward0>)\n",
      "tensor(0.8372, grad_fn=<BinaryCrossEntropyBackward0>)\n",
      "tensor(0.8368, grad_fn=<BinaryCrossEntropyBackward0>)\n",
      "tensor(0.8363, grad_fn=<BinaryCrossEntropyBackward0>)\n",
      "tensor(0.8359, grad_fn=<BinaryCrossEntropyBackward0>)\n"
     ]
    }
   ],
   "source": [
    "lr = 0.001\n",
    "n_epochs = 30\n",
    "criterion = nn.BCELoss()\n",
    "model = Reasoning(128, data.num_nodes, 4)\n",
    "optimizer = torch.optim.Adam(model.parameters(), lr=lr)\n",
    "dataloader = DataLoader(data_list, batch_size=1)\n",
    "data = data_list[0]\n",
    "y = data.edge_attr\n",
    "x = data.x\n",
    "edge_index = data.edge_index\n",
    "ytrue = data.y\n",
    "\n",
    "for epoch in range(30):\n",
    "    optimizer.zero_grad()\n",
    "    loss = 0.0\n",
    "    yhat = model(data.x, data.edge_index)\n",
    "    loss = criterion(yhat, y)\n",
    "    print(loss)\n",
    "    loss.backward()\n",
    "    optimizer.step()"
   ]
  },
  {
   "cell_type": "code",
   "execution_count": 182,
   "id": "e45e6a0e-490f-4a01-a0d4-f44b12087deb",
   "metadata": {},
   "outputs": [
    {
     "data": {
      "text/plain": [
       "tensor([[0.2284, 1.0000],\n",
       "        [0.1727, 1.0000],\n",
       "        [0.2787, 0.0000],\n",
       "        [0.2684, 1.0000],\n",
       "        [0.0517, 1.0000],\n",
       "        [0.8201, 1.0000],\n",
       "        [0.1799, 0.0000],\n",
       "        [0.7207, 1.0000],\n",
       "        [0.2793, 0.0000],\n",
       "        [0.2393, 0.0000],\n",
       "        [0.5784, 1.0000],\n",
       "        [0.1823, 1.0000],\n",
       "        [0.2153, 0.0000],\n",
       "        [0.7847, 1.0000],\n",
       "        [1.0000, 1.0000],\n",
       "        [0.3580, 0.0000],\n",
       "        [0.3897, 1.0000],\n",
       "        [0.0785, 1.0000],\n",
       "        [0.1214, 1.0000],\n",
       "        [0.0524, 1.0000],\n",
       "        [0.2172, 1.0000],\n",
       "        [0.2455, 1.0000],\n",
       "        [0.1774, 1.0000],\n",
       "        [0.0709, 1.0000],\n",
       "        [0.1731, 1.0000],\n",
       "        [0.1159, 1.0000],\n",
       "        [1.0000, 1.0000],\n",
       "        [0.1733, 1.0000],\n",
       "        [0.4036, 1.0000],\n",
       "        [0.1210, 0.0000],\n",
       "        [0.0778, 0.0000],\n",
       "        [0.1254, 1.0000],\n",
       "        [0.0990, 1.0000],\n",
       "        [0.2952, 0.0000],\n",
       "        [0.3603, 1.0000],\n",
       "        [0.0904, 0.0000],\n",
       "        [0.2541, 0.0000],\n",
       "        [0.4463, 1.0000],\n",
       "        [0.3348, 0.0000],\n",
       "        [0.2188, 0.0000],\n",
       "        [0.4254, 1.0000],\n",
       "        [0.3475, 0.0000],\n",
       "        [0.2271, 0.0000],\n",
       "        [0.7697, 1.0000],\n",
       "        [0.2303, 0.0000],\n",
       "        [0.1415, 0.0000],\n",
       "        [0.5142, 1.0000],\n",
       "        [0.3443, 0.0000],\n",
       "        [0.2432, 0.0000],\n",
       "        [0.3476, 1.0000],\n",
       "        [0.2451, 0.0000],\n",
       "        [0.1641, 0.0000],\n",
       "        [0.5741, 1.0000],\n",
       "        [0.2383, 0.0000],\n",
       "        [0.1876, 0.0000],\n",
       "        [0.6264, 1.0000],\n",
       "        [0.1262, 0.0000],\n",
       "        [0.1631, 1.0000],\n",
       "        [0.0843, 0.0000],\n",
       "        [0.1199, 1.0000],\n",
       "        [0.2446, 1.0000],\n",
       "        [0.3367, 1.0000],\n",
       "        [0.1009, 0.0000],\n",
       "        [0.0649, 0.0000],\n",
       "        [0.0877, 0.0000],\n",
       "        [0.0453, 0.0000],\n",
       "        [0.7071, 1.0000],\n",
       "        [0.2929, 0.0000]], grad_fn=<CatBackward0>)"
      ]
     },
     "execution_count": 182,
     "metadata": {},
     "output_type": "execute_result"
    }
   ],
   "source": [
    "torch.cat([yhat,y], dim=1)"
   ]
  },
  {
   "cell_type": "code",
   "execution_count": 256,
   "id": "b749e6d7-54ca-41cd-b06c-171a57fd4e9b",
   "metadata": {},
   "outputs": [],
   "source": [
    "def pred(alpha_ij, edge_index, n_node):\n",
    "    y = torch.zeros(n_node)\n",
    "    for node in range(n_node):\n",
    "        index_i = (edge_index[0] == node).nonzero().squeeze()\n",
    "        if index_i.nelement() == 1:\n",
    "            y[node] = edge_index[1,index_i]\n",
    "        else:\n",
    "            #print(index_i, edge_index[0, index_i])\n",
    "            elem = torch.argmax(alpha_ij[index_i])\n",
    "            print(\"node src\", node, \"dest\", edge_index[1,index_i], alpha_ij[index_i], edge_index[1, index_i[elem]])\n",
    "            #print(\"elem\", elem, index_i)\n",
    "            #print(\"index\", index_i[elem])\n",
    "            y[node] = edge_index[1, index_i[elem]]\n",
    "            #print(\"res\", node, y[node])\n",
    "    return y"
   ]
  },
  {
   "cell_type": "code",
   "execution_count": 257,
   "id": "192ba75b-3723-468f-9ab6-d07bb37cb83c",
   "metadata": {},
   "outputs": [
    {
     "name": "stdout",
     "output_type": "stream",
     "text": [
      "node src 0 dest tensor([ 1,  2,  6,  7, 12]) tensor([[0.2284],\n",
      "        [0.1727],\n",
      "        [0.2787],\n",
      "        [0.2684],\n",
      "        [0.0517]], grad_fn=<IndexBackward0>) tensor(6)\n",
      "node src 1 dest tensor([ 0, 10]) tensor([[0.8201],\n",
      "        [0.1799]], grad_fn=<IndexBackward0>) tensor(0)\n",
      "node src 2 dest tensor([0, 3]) tensor([[0.7207],\n",
      "        [0.2793]], grad_fn=<IndexBackward0>) tensor(0)\n",
      "node src 3 dest tensor([ 2,  8, 18]) tensor([[0.2393],\n",
      "        [0.5784],\n",
      "        [0.1823]], grad_fn=<IndexBackward0>) tensor(8)\n",
      "node src 4 dest tensor([15, 18]) tensor([[0.2153],\n",
      "        [0.7847]], grad_fn=<IndexBackward0>) tensor(18)\n",
      "node src 6 dest tensor([ 0,  7, 10, 13, 15]) tensor([[0.3580],\n",
      "        [0.3897],\n",
      "        [0.0785],\n",
      "        [0.1214],\n",
      "        [0.0524]], grad_fn=<IndexBackward0>) tensor(7)\n",
      "node src 7 dest tensor([ 0,  6,  9, 11, 17, 18]) tensor([[0.2172],\n",
      "        [0.2455],\n",
      "        [0.1774],\n",
      "        [0.0709],\n",
      "        [0.1731],\n",
      "        [0.1159]], grad_fn=<IndexBackward0>) tensor(6)\n",
      "node src 9 dest tensor([ 5,  7, 11, 12, 16, 19]) tensor([[0.1733],\n",
      "        [0.4036],\n",
      "        [0.1210],\n",
      "        [0.0778],\n",
      "        [0.1254],\n",
      "        [0.0990]], grad_fn=<IndexBackward0>) tensor(7)\n",
      "node src 10 dest tensor([ 1,  6, 14, 17]) tensor([[0.2952],\n",
      "        [0.3603],\n",
      "        [0.0904],\n",
      "        [0.2541]], grad_fn=<IndexBackward0>) tensor(6)\n",
      "node src 11 dest tensor([ 7,  9, 18]) tensor([[0.4463],\n",
      "        [0.3348],\n",
      "        [0.2188]], grad_fn=<IndexBackward0>) tensor(7)\n",
      "node src 12 dest tensor([ 0,  9, 18]) tensor([[0.4254],\n",
      "        [0.3475],\n",
      "        [0.2271]], grad_fn=<IndexBackward0>) tensor(0)\n",
      "node src 13 dest tensor([ 6, 16]) tensor([[0.7697],\n",
      "        [0.2303]], grad_fn=<IndexBackward0>) tensor(6)\n",
      "node src 14 dest tensor([10, 17, 18]) tensor([[0.1415],\n",
      "        [0.5142],\n",
      "        [0.3443]], grad_fn=<IndexBackward0>) tensor(17)\n",
      "node src 15 dest tensor([ 4,  6, 17, 18]) tensor([[0.2432],\n",
      "        [0.3476],\n",
      "        [0.2451],\n",
      "        [0.1641]], grad_fn=<IndexBackward0>) tensor(6)\n",
      "node src 16 dest tensor([ 9, 13, 19]) tensor([[0.5741],\n",
      "        [0.2383],\n",
      "        [0.1876]], grad_fn=<IndexBackward0>) tensor(9)\n",
      "node src 17 dest tensor([ 7, 10, 14, 15]) tensor([[0.6264],\n",
      "        [0.1262],\n",
      "        [0.1631],\n",
      "        [0.0843]], grad_fn=<IndexBackward0>) tensor(7)\n",
      "node src 18 dest tensor([ 3,  4,  7, 11, 12, 14, 15]) tensor([[0.1199],\n",
      "        [0.2446],\n",
      "        [0.3367],\n",
      "        [0.1009],\n",
      "        [0.0649],\n",
      "        [0.0877],\n",
      "        [0.0453]], grad_fn=<IndexBackward0>) tensor(7)\n",
      "node src 19 dest tensor([ 9, 16]) tensor([[0.7071],\n",
      "        [0.2929]], grad_fn=<IndexBackward0>) tensor(9)\n"
     ]
    },
    {
     "data": {
      "text/plain": [
       "tensor([ 6.,  0.,  0.,  8., 18.,  9.,  7.,  6.,  3.,  7.,  6.,  7.,  0.,  6.,\n",
       "        17.,  6.,  9.,  7.,  7.,  9.])"
      ]
     },
     "execution_count": 257,
     "metadata": {},
     "output_type": "execute_result"
    }
   ],
   "source": [
    "pred(yhat, edge_index, data.num_nodes)"
   ]
  },
  {
   "cell_type": "code",
   "execution_count": 258,
   "id": "afc45647-9a6b-421d-ab2b-8865c99e12e3",
   "metadata": {},
   "outputs": [
    {
     "data": {
      "text/plain": [
       "tensor([ 7,  0,  0, 18, 18,  9,  7,  0,  3,  7,  6,  7,  0,  6, 17,  6,  9,  7,\n",
       "         7,  9], dtype=torch.int32)"
      ]
     },
     "execution_count": 258,
     "metadata": {},
     "output_type": "execute_result"
    }
   ],
   "source": [
    "data.y"
   ]
  },
  {
   "cell_type": "code",
   "execution_count": 222,
   "id": "fefe5b30-2857-41a5-a3c8-7a128cc271bd",
   "metadata": {},
   "outputs": [
    {
     "data": {
      "text/plain": [
       "tensor([ 7,  0,  0, 18, 18,  9,  7,  0,  3,  7,  6,  7,  0,  6, 17,  6,  9,  7,\n",
       "         7,  9], dtype=torch.int32)"
      ]
     },
     "execution_count": 222,
     "metadata": {},
     "output_type": "execute_result"
    }
   ],
   "source": [
    "ytrue"
   ]
  },
  {
   "cell_type": "code",
   "execution_count": null,
   "id": "309d5ef0-06f4-49cf-86cf-cc17e31c2226",
   "metadata": {},
   "outputs": [],
   "source": []
  }
 ],
 "metadata": {
  "kernelspec": {
   "display_name": "Python 3 (ipykernel)",
   "language": "python",
   "name": "python3"
  },
  "language_info": {
   "codemirror_mode": {
    "name": "ipython",
    "version": 3
   },
   "file_extension": ".py",
   "mimetype": "text/x-python",
   "name": "python",
   "nbconvert_exporter": "python",
   "pygments_lexer": "ipython3",
   "version": "3.10.13"
  }
 },
 "nbformat": 4,
 "nbformat_minor": 5
}
