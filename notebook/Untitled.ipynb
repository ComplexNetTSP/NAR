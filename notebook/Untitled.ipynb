{
 "cells": [
  {
   "cell_type": "code",
   "execution_count": 1,
   "id": "4d428a4a-d3e1-41a6-aedd-254d7ff20f7d",
   "metadata": {},
   "outputs": [
    {
     "name": "stderr",
     "output_type": "stream",
     "text": [
      "2023-11-30 15:51:50.191067: E external/local_xla/xla/stream_executor/cuda/cuda_dnn.cc:9261] Unable to register cuDNN factory: Attempting to register factory for plugin cuDNN when one has already been registered\n",
      "2023-11-30 15:51:50.191095: E external/local_xla/xla/stream_executor/cuda/cuda_fft.cc:607] Unable to register cuFFT factory: Attempting to register factory for plugin cuFFT when one has already been registered\n",
      "2023-11-30 15:51:50.192273: E external/local_xla/xla/stream_executor/cuda/cuda_blas.cc:1515] Unable to register cuBLAS factory: Attempting to register factory for plugin cuBLAS when one has already been registered\n",
      "2023-11-30 15:51:51.157905: W tensorflow/compiler/tf2tensorrt/utils/py_utils.cc:38] TF-TRT Warning: Could not find TensorRT\n",
      "/home/vgauthier/.conda/envs/clrs/lib/python3.10/site-packages/torch_geometric/typing.py:63: UserWarning: An issue occurred while importing 'torch-scatter'. Disabling its usage. Stacktrace: libcudart.so.11.0: cannot open shared object file: No such file or directory\n",
      "  warnings.warn(f\"An issue occurred while importing 'torch-scatter'. \"\n",
      "/home/vgauthier/.conda/envs/clrs/lib/python3.10/site-packages/torch_geometric/typing.py:101: UserWarning: An issue occurred while importing 'torch-sparse'. Disabling its usage. Stacktrace: libcudart.so.11.0: cannot open shared object file: No such file or directory\n",
      "  warnings.warn(f\"An issue occurred while importing 'torch-sparse'. \"\n"
     ]
    }
   ],
   "source": [
    "import torch\n",
    "from salsaclrs import load_dataset"
   ]
  },
  {
   "cell_type": "code",
   "execution_count": 2,
   "id": "8fdeffad-618b-4d06-875e-ade080e0c569",
   "metadata": {},
   "outputs": [],
   "source": [
    "train_dataset = load_dataset(algorithm=\"bfs\", split=\"train\", local_dir=\"./store\")"
   ]
  },
  {
   "cell_type": "code",
   "execution_count": 3,
   "id": "c737d89e-6ff0-4ded-8d15-2c86234c47b8",
   "metadata": {},
   "outputs": [],
   "source": [
    "data = train_dataset[0]"
   ]
  },
  {
   "cell_type": "code",
   "execution_count": 4,
   "id": "0e299e54-4e10-4e0f-b13d-da41c21ba9be",
   "metadata": {},
   "outputs": [],
   "source": [
    "from salsaclrs import SALSACLRSDataLoader\n",
    "dl = SALSACLRSDataLoader(train_dataset, batch_size=1)"
   ]
  },
  {
   "cell_type": "code",
   "execution_count": 5,
   "id": "89759477-7d2a-48eb-a9fb-e665a3db5f29",
   "metadata": {},
   "outputs": [],
   "source": [
    "it = iter(dl)"
   ]
  },
  {
   "cell_type": "code",
   "execution_count": 6,
   "id": "842a244c-0878-4bc4-8f3f-72927c3699bd",
   "metadata": {},
   "outputs": [],
   "source": [
    "batch = next(it)"
   ]
  },
  {
   "cell_type": "code",
   "execution_count": 7,
   "id": "066c1b18-6e70-4af5-9406-2ce625b20f9a",
   "metadata": {},
   "outputs": [
    {
     "data": {
      "text/plain": [
       "CLRSDataBatch(edge_index=[2, 10], pos=[4], length=[1], s=[4], pi=[10], reach_h=[4, 4], pi_h=[10, 4], hints=[2], inputs=[2], outputs=[1], batch=[4], ptr=[2])"
      ]
     },
     "execution_count": 7,
     "metadata": {},
     "output_type": "execute_result"
    }
   ],
   "source": [
    "batch"
   ]
  },
  {
   "cell_type": "code",
   "execution_count": 8,
   "id": "b5f57eb7-ac56-426e-b4b2-2ce7b356dac5",
   "metadata": {},
   "outputs": [],
   "source": [
    "from models import Encoder\n",
    "from models import Processor\n",
    "from models import EdgeMaskDecoder"
   ]
  },
  {
   "cell_type": "code",
   "execution_count": 26,
   "id": "03fea6f8-a1ed-4913-8c5b-7723e2974b11",
   "metadata": {},
   "outputs": [
    {
     "data": {
      "text/plain": [
       "False"
      ]
     },
     "execution_count": 26,
     "metadata": {},
     "output_type": "execute_result"
    }
   ],
   "source": [
    "data.length.item() == 3 "
   ]
  },
  {
   "cell_type": "code",
   "execution_count": 10,
   "id": "6219715a-669c-4a0b-b9c2-4d7cc8f18fe2",
   "metadata": {},
   "outputs": [],
   "source": [
    "hidden_dim = 128\n",
    "enc = Encoder(hidden_dim=hidden_dim)\n",
    "proc_input_dim = 3 * hidden_dim +1 \n",
    "proc = Processor(proc_input_dim, hidden_dim, aggr=\"max\")\n",
    "dec = EdgeMaskDecoder(hidden_dim)"
   ]
  },
  {
   "cell_type": "code",
   "execution_count": 12,
   "id": "b3582c64-dc7d-403a-8160-c5a1bc70a463",
   "metadata": {},
   "outputs": [],
   "source": [
    "pos = data.pos\n",
    "x = data.s\n",
    "edge_index = data.edge_index"
   ]
  },
  {
   "cell_type": "code",
   "execution_count": 13,
   "id": "71aae0e1-0d2d-43b5-9290-4a96b6300efc",
   "metadata": {},
   "outputs": [],
   "source": [
    "input_hidden = enc(x)\n",
    "hidden = input_hidden\n",
    "last_hidden = hidden"
   ]
  },
  {
   "cell_type": "code",
   "execution_count": 14,
   "id": "c45e2e41-ee9c-4ff6-ae0f-5e9439af782f",
   "metadata": {},
   "outputs": [],
   "source": [
    "hidden = proc(input_hidden, input_hidden, last_hidden, edge_index, pos)"
   ]
  },
  {
   "cell_type": "code",
   "execution_count": 48,
   "id": "3fe58831-314c-46af-8891-a9293ee8b363",
   "metadata": {},
   "outputs": [],
   "source": [
    "output_step = dec(hidden, edge_index)"
   ]
  },
  {
   "cell_type": "code",
   "execution_count": 49,
   "id": "4ebe9ddf-8f7a-4dc8-b822-0b037c4ea370",
   "metadata": {},
   "outputs": [
    {
     "name": "stdout",
     "output_type": "stream",
     "text": [
      "tensor(0.4346, grad_fn=<UnbindBackward0>)\n",
      "tensor(0.3537, grad_fn=<UnbindBackward0>)\n",
      "tensor(0.4946, grad_fn=<UnbindBackward0>)\n",
      "tensor(0.3746, grad_fn=<UnbindBackward0>)\n",
      "tensor(0.2951, grad_fn=<UnbindBackward0>)\n",
      "tensor(0.4433, grad_fn=<UnbindBackward0>)\n",
      "tensor(0.5072, grad_fn=<UnbindBackward0>)\n",
      "tensor(0.5086, grad_fn=<UnbindBackward0>)\n",
      "tensor(0.5087, grad_fn=<UnbindBackward0>)\n",
      "tensor(0.5102, grad_fn=<UnbindBackward0>)\n"
     ]
    }
   ],
   "source": [
    "for k in output_step:\n",
    "    print(k)"
   ]
  },
  {
   "cell_type": "code",
   "execution_count": 30,
   "id": "42d6bd3c-32b1-498d-991e-69a255759223",
   "metadata": {},
   "outputs": [
    {
     "data": {
      "text/plain": [
       "['pi_h', 'edge_index', 'pi']"
      ]
     },
     "execution_count": 30,
     "metadata": {},
     "output_type": "execute_result"
    }
   ],
   "source": [
    "batch.edge_attrs()"
   ]
  },
  {
   "cell_type": "code",
   "execution_count": 31,
   "id": "e27b48fd-7486-4d6a-8093-6f8247b4ce21",
   "metadata": {},
   "outputs": [
    {
     "data": {
      "text/plain": [
       "tensor([3, 3, 3, 3])"
      ]
     },
     "execution_count": 31,
     "metadata": {},
     "output_type": "execute_result"
    }
   ],
   "source": [
    "batch.length[batch.batch]-1"
   ]
  },
  {
   "cell_type": "code",
   "execution_count": 32,
   "id": "9a149b16-33f1-4f9a-9d56-db8cc989bd3e",
   "metadata": {},
   "outputs": [
    {
     "data": {
      "text/plain": [
       "tensor([0, 0, 0, 0])"
      ]
     },
     "execution_count": 32,
     "metadata": {},
     "output_type": "execute_result"
    }
   ],
   "source": [
    "batch.batch"
   ]
  },
  {
   "cell_type": "code",
   "execution_count": 33,
   "id": "a6cce9f4-b7a1-49d0-899e-72b4ea904026",
   "metadata": {},
   "outputs": [
    {
     "data": {
      "text/plain": [
       "tensor([4])"
      ]
     },
     "execution_count": 33,
     "metadata": {},
     "output_type": "execute_result"
    }
   ],
   "source": [
    "batch.length"
   ]
  },
  {
   "cell_type": "code",
   "execution_count": 34,
   "id": "d6f708f3-659e-411a-9f19-a74114e2241c",
   "metadata": {},
   "outputs": [],
   "source": [
    "final_node_idx = (batch.length[batch.batch]-1)"
   ]
  },
  {
   "cell_type": "code",
   "execution_count": 35,
   "id": "81b5fe49-5e59-4e27-b088-90a0390e4bf2",
   "metadata": {},
   "outputs": [
    {
     "data": {
      "text/plain": [
       "tensor([3, 3, 3, 3])"
      ]
     },
     "execution_count": 35,
     "metadata": {},
     "output_type": "execute_result"
    }
   ],
   "source": [
    "final_node_idx"
   ]
  },
  {
   "cell_type": "code",
   "execution_count": 38,
   "id": "65971321-f6aa-48bf-ad8e-021f32efdff2",
   "metadata": {},
   "outputs": [
    {
     "data": {
      "text/plain": [
       "tensor([0, 0, 0, 1, 1, 2, 2, 2, 3, 3])"
      ]
     },
     "execution_count": 38,
     "metadata": {},
     "output_type": "execute_result"
    }
   ],
   "source": [
    "batch.edge_index[0]"
   ]
  },
  {
   "cell_type": "code",
   "execution_count": 50,
   "id": "b601f8dd-ee19-48af-8f59-d5cf539936cb",
   "metadata": {},
   "outputs": [],
   "source": [
    "masks = {}\n",
    "step = 3\n",
    "for key in batch.outputs:\n",
    "    final_edge_idx = final_node_idx[batch.edge_index[0]]\n",
    "    masks[key] = final_edge_idx == step"
   ]
  },
  {
   "cell_type": "code",
   "execution_count": 51,
   "id": "da352be0-bc83-4fcc-980c-25c042760351",
   "metadata": {},
   "outputs": [
    {
     "data": {
      "text/plain": [
       "tensor([3, 3, 3, 3, 3, 3, 3, 3, 3, 3])"
      ]
     },
     "execution_count": 51,
     "metadata": {},
     "output_type": "execute_result"
    }
   ],
   "source": [
    "final_edge_idx"
   ]
  },
  {
   "cell_type": "code",
   "execution_count": 52,
   "id": "8b8c62dc-f8e5-4b44-a9b3-c7b28b38a341",
   "metadata": {},
   "outputs": [
    {
     "data": {
      "text/plain": [
       "{'pi': tensor([True, True, True, True, True, True, True, True, True, True])}"
      ]
     },
     "execution_count": 52,
     "metadata": {},
     "output_type": "execute_result"
    }
   ],
   "source": [
    "masks"
   ]
  },
  {
   "cell_type": "code",
   "execution_count": null,
   "id": "e635e333-e7b7-4e1f-b807-36260cb60409",
   "metadata": {},
   "outputs": [],
   "source": []
  }
 ],
 "metadata": {
  "kernelspec": {
   "display_name": "Python 3 (ipykernel)",
   "language": "python",
   "name": "python3"
  },
  "language_info": {
   "codemirror_mode": {
    "name": "ipython",
    "version": 3
   },
   "file_extension": ".py",
   "mimetype": "text/x-python",
   "name": "python",
   "nbconvert_exporter": "python",
   "pygments_lexer": "ipython3",
   "version": "3.10.13"
  }
 },
 "nbformat": 4,
 "nbformat_minor": 5
}
